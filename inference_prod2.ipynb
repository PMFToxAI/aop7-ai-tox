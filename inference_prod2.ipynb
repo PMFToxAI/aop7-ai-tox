{
 "cells": [
  {
   "cell_type": "code",
   "execution_count": 1,
   "id": "91c57b67-f697-4b0e-b990-57b536aaf96e",
   "metadata": {},
   "outputs": [
    {
     "name": "stderr",
     "output_type": "stream",
     "text": [
      "/home/milosevicn/.local/lib/python3.7/site-packages/requests/__init__.py:91: RequestsDependencyWarning: urllib3 (1.26.7) or chardet (3.0.4) doesn't match a supported version!\n",
      "  RequestsDependencyWarning)\n",
      "2022-10-18 12:51:50.187388: I tensorflow/stream_executor/platform/default/dso_loader.cc:49] Successfully opened dynamic library libcudart.so.10.1\n"
     ]
    }
   ],
   "source": [
    "from tqdm import tqdm\n",
    "import requests\n",
    "import pandas as pd\n",
    "import numpy as np\n",
    "\n",
    "from rdkit.Chem import AllChem\n",
    "from rdkit import DataStructs\n",
    "from rdkit.Chem import Draw\n",
    "from rdkit.Chem.Draw import SimilarityMaps\n",
    "from rdkit import Chem, DataStructs\n",
    "\n",
    "import tensorflow.keras as keras\n",
    "from tensorflow.keras.models import Sequential\n",
    "from tensorflow.keras.layers import Dense, Dropout, Conv1D, Flatten, MaxPool1D\n",
    "\n",
    "from sklearn import preprocessing\n",
    "from sklearn.model_selection import train_test_split\n",
    "\n",
    "import matplotlib.pyplot as plt"
   ]
  },
  {
   "cell_type": "code",
   "execution_count": 2,
   "id": "bc1ca862-c660-4ab5-951d-dfc9e1e519d6",
   "metadata": {},
   "outputs": [
    {
     "name": "stderr",
     "output_type": "stream",
     "text": [
      "2022-10-18 12:51:52.803568: I tensorflow/compiler/jit/xla_cpu_device.cc:41] Not creating XLA devices, tf_xla_enable_xla_devices not set\n",
      "2022-10-18 12:51:52.804437: I tensorflow/stream_executor/platform/default/dso_loader.cc:49] Successfully opened dynamic library libcuda.so.1\n",
      "2022-10-18 12:51:53.263919: I tensorflow/stream_executor/cuda/cuda_gpu_executor.cc:941] successful NUMA node read from SysFS had negative value (-1), but there must be at least one NUMA node, so returning NUMA node zero\n",
      "2022-10-18 12:51:53.264182: I tensorflow/core/common_runtime/gpu/gpu_device.cc:1720] Found device 0 with properties: \n",
      "pciBusID: 0000:01:00.0 name: NVIDIA GeForce RTX 2070 SUPER computeCapability: 7.5\n",
      "coreClock: 1.815GHz coreCount: 40 deviceMemorySize: 7.79GiB deviceMemoryBandwidth: 417.29GiB/s\n",
      "2022-10-18 12:51:53.264223: I tensorflow/stream_executor/platform/default/dso_loader.cc:49] Successfully opened dynamic library libcudart.so.10.1\n",
      "2022-10-18 12:51:53.267714: I tensorflow/stream_executor/platform/default/dso_loader.cc:49] Successfully opened dynamic library libcublas.so.10\n",
      "2022-10-18 12:51:53.267771: I tensorflow/stream_executor/platform/default/dso_loader.cc:49] Successfully opened dynamic library libcublasLt.so.10\n",
      "2022-10-18 12:51:53.270862: I tensorflow/stream_executor/platform/default/dso_loader.cc:49] Successfully opened dynamic library libcufft.so.10\n",
      "2022-10-18 12:51:53.271597: I tensorflow/stream_executor/platform/default/dso_loader.cc:49] Successfully opened dynamic library libcurand.so.10\n",
      "2022-10-18 12:51:53.274906: I tensorflow/stream_executor/platform/default/dso_loader.cc:49] Successfully opened dynamic library libcusolver.so.10\n",
      "2022-10-18 12:51:53.276724: I tensorflow/stream_executor/platform/default/dso_loader.cc:49] Successfully opened dynamic library libcusparse.so.10\n",
      "2022-10-18 12:51:53.282907: I tensorflow/stream_executor/platform/default/dso_loader.cc:49] Successfully opened dynamic library libcudnn.so.7\n",
      "2022-10-18 12:51:53.283048: I tensorflow/stream_executor/cuda/cuda_gpu_executor.cc:941] successful NUMA node read from SysFS had negative value (-1), but there must be at least one NUMA node, so returning NUMA node zero\n",
      "2022-10-18 12:51:53.283321: I tensorflow/stream_executor/cuda/cuda_gpu_executor.cc:941] successful NUMA node read from SysFS had negative value (-1), but there must be at least one NUMA node, so returning NUMA node zero\n",
      "2022-10-18 12:51:53.283489: I tensorflow/core/common_runtime/gpu/gpu_device.cc:1862] Adding visible gpu devices: 0\n",
      "2022-10-18 12:51:53.283923: I tensorflow/core/platform/cpu_feature_guard.cc:142] This TensorFlow binary is optimized with oneAPI Deep Neural Network Library (oneDNN) to use the following CPU instructions in performance-critical operations:  SSE4.1 SSE4.2 AVX AVX2 FMA\n",
      "To enable them in other operations, rebuild TensorFlow with the appropriate compiler flags.\n",
      "2022-10-18 12:51:53.284218: I tensorflow/stream_executor/cuda/cuda_gpu_executor.cc:941] successful NUMA node read from SysFS had negative value (-1), but there must be at least one NUMA node, so returning NUMA node zero\n",
      "2022-10-18 12:51:53.284404: I tensorflow/core/common_runtime/gpu/gpu_device.cc:1720] Found device 0 with properties: \n",
      "pciBusID: 0000:01:00.0 name: NVIDIA GeForce RTX 2070 SUPER computeCapability: 7.5\n",
      "coreClock: 1.815GHz coreCount: 40 deviceMemorySize: 7.79GiB deviceMemoryBandwidth: 417.29GiB/s\n",
      "2022-10-18 12:51:53.284439: I tensorflow/stream_executor/platform/default/dso_loader.cc:49] Successfully opened dynamic library libcudart.so.10.1\n",
      "2022-10-18 12:51:53.284467: I tensorflow/stream_executor/platform/default/dso_loader.cc:49] Successfully opened dynamic library libcublas.so.10\n",
      "2022-10-18 12:51:53.284495: I tensorflow/stream_executor/platform/default/dso_loader.cc:49] Successfully opened dynamic library libcublasLt.so.10\n",
      "2022-10-18 12:51:53.284533: I tensorflow/stream_executor/platform/default/dso_loader.cc:49] Successfully opened dynamic library libcufft.so.10\n",
      "2022-10-18 12:51:53.284560: I tensorflow/stream_executor/platform/default/dso_loader.cc:49] Successfully opened dynamic library libcurand.so.10\n",
      "2022-10-18 12:51:53.284586: I tensorflow/stream_executor/platform/default/dso_loader.cc:49] Successfully opened dynamic library libcusolver.so.10\n",
      "2022-10-18 12:51:53.284613: I tensorflow/stream_executor/platform/default/dso_loader.cc:49] Successfully opened dynamic library libcusparse.so.10\n",
      "2022-10-18 12:51:53.284640: I tensorflow/stream_executor/platform/default/dso_loader.cc:49] Successfully opened dynamic library libcudnn.so.7\n",
      "2022-10-18 12:51:53.284729: I tensorflow/stream_executor/cuda/cuda_gpu_executor.cc:941] successful NUMA node read from SysFS had negative value (-1), but there must be at least one NUMA node, so returning NUMA node zero\n",
      "2022-10-18 12:51:53.284969: I tensorflow/stream_executor/cuda/cuda_gpu_executor.cc:941] successful NUMA node read from SysFS had negative value (-1), but there must be at least one NUMA node, so returning NUMA node zero\n",
      "2022-10-18 12:51:53.285123: I tensorflow/core/common_runtime/gpu/gpu_device.cc:1862] Adding visible gpu devices: 0\n",
      "2022-10-18 12:51:53.285167: I tensorflow/stream_executor/platform/default/dso_loader.cc:49] Successfully opened dynamic library libcudart.so.10.1\n",
      "2022-10-18 12:51:53.671446: I tensorflow/core/common_runtime/gpu/gpu_device.cc:1261] Device interconnect StreamExecutor with strength 1 edge matrix:\n",
      "2022-10-18 12:51:53.671469: I tensorflow/core/common_runtime/gpu/gpu_device.cc:1267]      0 \n",
      "2022-10-18 12:51:53.671477: I tensorflow/core/common_runtime/gpu/gpu_device.cc:1280] 0:   N \n",
      "2022-10-18 12:51:53.671647: I tensorflow/stream_executor/cuda/cuda_gpu_executor.cc:941] successful NUMA node read from SysFS had negative value (-1), but there must be at least one NUMA node, so returning NUMA node zero\n",
      "2022-10-18 12:51:53.671823: I tensorflow/stream_executor/cuda/cuda_gpu_executor.cc:941] successful NUMA node read from SysFS had negative value (-1), but there must be at least one NUMA node, so returning NUMA node zero\n",
      "2022-10-18 12:51:53.671969: I tensorflow/stream_executor/cuda/cuda_gpu_executor.cc:941] successful NUMA node read from SysFS had negative value (-1), but there must be at least one NUMA node, so returning NUMA node zero\n",
      "2022-10-18 12:51:53.672087: I tensorflow/core/common_runtime/gpu/gpu_device.cc:1406] Created TensorFlow device (/job:localhost/replica:0/task:0/device:GPU:0 with 7269 MB memory) -> physical GPU (device: 0, name: NVIDIA GeForce RTX 2070 SUPER, pci bus id: 0000:01:00.0, compute capability: 7.5)\n",
      "2022-10-18 12:51:53.672331: I tensorflow/compiler/jit/xla_gpu_device.cc:99] Not creating XLA devices, tf_xla_enable_xla_devices not set\n",
      "2022-10-18 12:51:55.153897: W tensorflow/core/framework/cpu_allocator_impl.cc:80] Allocation of 500170752 exceeds 10% of free system memory.\n",
      "2022-10-18 12:51:56.794602: W tensorflow/core/framework/cpu_allocator_impl.cc:80] Allocation of 500170752 exceeds 10% of free system memory.\n",
      "2022-10-18 12:51:58.556317: W tensorflow/core/framework/cpu_allocator_impl.cc:80] Allocation of 500170752 exceeds 10% of free system memory.\n"
     ]
    }
   ],
   "source": [
    "models = dict()\n",
    "cols = dict()\n",
    "\n",
    "for model in [\"ke1\", \"ke2\", \"ke3\"]:\n",
    "    models[model] = keras.models.load_model(f\"models/skec/nn_{model}.h5\")\n",
    "    cols[model] = [model]"
   ]
  },
  {
   "cell_type": "code",
   "execution_count": 3,
   "id": "0429a931-594f-4535-a6f8-bffc21005d93",
   "metadata": {},
   "outputs": [],
   "source": [
    "test_data = [\n",
    "    \"data_tests/Chemical List EDSP21LIST2-2021-12-28.csv\",\n",
    "    \"data_tests/Chemical List EDSPUOC-2022-06-16.csv\",\n",
    "    \"data_tests/Chemical List OSHA-2021-12-28.csv\",\n",
    "    \"data_tests/Chemical List UBAPMT-2021-12-28.csv\",\n",
    "    \"data_tests/Chemical List EDSP21LIST1-2021-12-28.csv\"    \n",
    "]"
   ]
  },
  {
   "cell_type": "code",
   "execution_count": 4,
   "id": "be7c80ce-ec43-48e7-b28a-07b77645df5c",
   "metadata": {},
   "outputs": [],
   "source": [
    "def inference(row):\n",
    "    try:\n",
    "        smiles = str(row[\"smiles\"])\n",
    "        mol = Chem.MolFromSmiles(smiles)\n",
    "        fp = AllChem.GetMorganFingerprintAsBitVect(mol, 2) # TODO: can replace morgan with other fingerprint!\n",
    "        arr = np.zeros((1,))\n",
    "        DataStructs.ConvertToNumpyArray(fp, arr)\n",
    "        \n",
    "        for model in [\"ke1\", \"ke2\", \"ke3\"]:\n",
    "            # conv:\n",
    "            arr = arr.reshape(-1, 2048, 1)\n",
    "            out = list(models[model].predict(arr).round()[0])\n",
    "            # fc:\n",
    "            # out = list(models[model].predict(arr.reshape(1, -1)).round()[0])\n",
    "            \n",
    "            # print(out)\n",
    "            \n",
    "            for i, col in enumerate(cols[model]):\n",
    "                row[col] = int(out[i])\n",
    "        \n",
    "    except Exception as e:\n",
    "        # print(e)\n",
    "        print(\"Bad smiles string? For:\", row[\"PREFERRED NAME\"])\n",
    "        \n",
    "    return row"
   ]
  },
  {
   "cell_type": "code",
   "execution_count": null,
   "id": "f729f3ab-3b6f-4f57-b7aa-e1b64a4d68c5",
   "metadata": {},
   "outputs": [
    {
     "name": "stdout",
     "output_type": "stream",
     "text": [
      "Bad smiles string? For: Polychlorinated biphenyls\n"
     ]
    },
    {
     "name": "stderr",
     "output_type": "stream",
     "text": [
      "2022-10-18 12:52:16.638923: I tensorflow/compiler/mlir/mlir_graph_optimization_pass.cc:116] None of the MLIR optimization passes are enabled (registered 2)\n",
      "2022-10-18 12:52:16.639509: I tensorflow/core/platform/profile_utils/cpu_utils.cc:112] CPU Frequency: 3192000000 Hz\n",
      "2022-10-18 12:52:16.710827: I tensorflow/stream_executor/platform/default/dso_loader.cc:49] Successfully opened dynamic library libcublas.so.10\n",
      "2022-10-18 12:52:16.853218: I tensorflow/stream_executor/platform/default/dso_loader.cc:49] Successfully opened dynamic library libcudnn.so.7\n",
      "RDKit ERROR: [12:52:33] SMILES Parse Error: syntax error while parsing: ['Rgp'][N+]1(CC)CCOCC1.CCOS(=O)(=O)[O-]\n",
      "[12:52:33] SMILES Parse Error: syntax error while parsing: ['Rgp'][N+]1(CC)CCOCC1.CCOS(=O)(=O)[O-]\n",
      "RDKit ERROR: [12:52:33] SMILES Parse Error: Failed parsing SMILES '['Rgp'][N+]1(CC)CCOCC1.CCOS(=O)(=O)[O-]' for input: '['Rgp'][N+]1(CC)CCOCC1.CCOS(=O)(=O)[O-]'\n",
      "[12:52:33] SMILES Parse Error: Failed parsing SMILES '['Rgp'][N+]1(CC)CCOCC1.CCOS(=O)(=O)[O-]' for input: '['Rgp'][N+]1(CC)CCOCC1.CCOS(=O)(=O)[O-]'\n"
     ]
    },
    {
     "name": "stdout",
     "output_type": "stream",
     "text": [
      "Bad smiles string? For: Onium compounds, morpholinium, 4-ethyl-4-soya alkyl, Et sulfates\n"
     ]
    },
    {
     "name": "stderr",
     "output_type": "stream",
     "text": [
      "RDKit ERROR: [12:52:42] SMILES Parse Error: syntax error while parsing: [X]C(C)C.c1ccc(cc1)c2ccccc2\n",
      "[12:52:42] SMILES Parse Error: syntax error while parsing: [X]C(C)C.c1ccc(cc1)c2ccccc2\n",
      "RDKit ERROR: [12:52:42] SMILES Parse Error: Failed parsing SMILES '[X]C(C)C.c1ccc(cc1)c2ccccc2' for input: '[X]C(C)C.c1ccc(cc1)c2ccccc2'\n",
      "[12:52:42] SMILES Parse Error: Failed parsing SMILES '[X]C(C)C.c1ccc(cc1)c2ccccc2' for input: '[X]C(C)C.c1ccc(cc1)c2ccccc2'\n"
     ]
    },
    {
     "name": "stdout",
     "output_type": "stream",
     "text": [
      "Bad smiles string? For: Isopropylbiphenyl\n"
     ]
    },
    {
     "name": "stderr",
     "output_type": "stream",
     "text": [
      "RDKit ERROR: [12:52:46] SMILES Parse Error: syntax error while parsing: [Cl-].['Rgp'][N+](C)(C)Cc1ccccc1\n",
      "[12:52:46] SMILES Parse Error: syntax error while parsing: [Cl-].['Rgp'][N+](C)(C)Cc1ccccc1\n",
      "RDKit ERROR: [12:52:46] SMILES Parse Error: Failed parsing SMILES '[Cl-].['Rgp'][N+](C)(C)Cc1ccccc1' for input: '[Cl-].['Rgp'][N+](C)(C)Cc1ccccc1'\n",
      "[12:52:46] SMILES Parse Error: Failed parsing SMILES '[Cl-].['Rgp'][N+](C)(C)Cc1ccccc1' for input: '[Cl-].['Rgp'][N+](C)(C)Cc1ccccc1'\n"
     ]
    },
    {
     "name": "stdout",
     "output_type": "stream",
     "text": [
      "Bad smiles string? For: Benzalkonium chloride\n"
     ]
    },
    {
     "name": "stderr",
     "output_type": "stream",
     "text": [
      "RDKit ERROR: [12:53:18] SMILES Parse Error: syntax error while parsing: [X]N.[X]N.Cc1ccccc1\n",
      "[12:53:18] SMILES Parse Error: syntax error while parsing: [X]N.[X]N.Cc1ccccc1\n",
      "RDKit ERROR: [12:53:18] SMILES Parse Error: Failed parsing SMILES '[X]N.[X]N.Cc1ccccc1' for input: '[X]N.[X]N.Cc1ccccc1'\n",
      "[12:53:18] SMILES Parse Error: Failed parsing SMILES '[X]N.[X]N.Cc1ccccc1' for input: '[X]N.[X]N.Cc1ccccc1'\n"
     ]
    },
    {
     "name": "stdout",
     "output_type": "stream",
     "text": [
      "Bad smiles string? For: Toluenediamine\n"
     ]
    },
    {
     "name": "stderr",
     "output_type": "stream",
     "text": [
      "RDKit ERROR: [12:53:28] SMILES Parse Error: syntax error while parsing: [X]C(C)C.[X]C(C)C.c1ccc2ccccc2c1\n",
      "[12:53:28] SMILES Parse Error: syntax error while parsing: [X]C(C)C.[X]C(C)C.c1ccc2ccccc2c1\n",
      "RDKit ERROR: [12:53:28] SMILES Parse Error: Failed parsing SMILES '[X]C(C)C.[X]C(C)C.c1ccc2ccccc2c1' for input: '[X]C(C)C.[X]C(C)C.c1ccc2ccccc2c1'\n",
      "[12:53:28] SMILES Parse Error: Failed parsing SMILES '[X]C(C)C.[X]C(C)C.c1ccc2ccccc2c1' for input: '[X]C(C)C.[X]C(C)C.c1ccc2ccccc2c1'\n"
     ]
    },
    {
     "name": "stdout",
     "output_type": "stream",
     "text": [
      "Bad smiles string? For: Diisopropylnaphthalene\n"
     ]
    },
    {
     "name": "stderr",
     "output_type": "stream",
     "text": [
      "RDKit ERROR: [12:53:32] SMILES Parse Error: syntax error while parsing: [X]OS(=O)(=O)O.N(c1ccccc1)c2ccc(cc2)C(=C3C=CC(=Nc4ccccc4)C=C3)c5ccc(Nc6ccccc6)cc5\n",
      "[12:53:32] SMILES Parse Error: syntax error while parsing: [X]OS(=O)(=O)O.N(c1ccccc1)c2ccc(cc2)C(=C3C=CC(=Nc4ccccc4)C=C3)c5ccc(Nc6ccccc6)cc5\n",
      "RDKit ERROR: [12:53:32] SMILES Parse Error: Failed parsing SMILES '[X]OS(=O)(=O)O.N(c1ccccc1)c2ccc(cc2)C(=C3C=CC(=Nc4ccccc4)C=C3)c5ccc(Nc6ccccc6)cc5' for input: '[X]OS(=O)(=O)O.N(c1ccccc1)c2ccc(cc2)C(=C3C=CC(=Nc4ccccc4)C=C3)c5ccc(Nc6ccccc6)cc5'\n",
      "[12:53:32] SMILES Parse Error: Failed parsing SMILES '[X]OS(=O)(=O)O.N(c1ccccc1)c2ccc(cc2)C(=C3C=CC(=Nc4ccccc4)C=C3)c5ccc(Nc6ccccc6)cc5' for input: '[X]OS(=O)(=O)O.N(c1ccccc1)c2ccc(cc2)C(=C3C=CC(=Nc4ccccc4)C=C3)c5ccc(Nc6ccccc6)cc5'\n"
     ]
    },
    {
     "name": "stdout",
     "output_type": "stream",
     "text": [
      "Bad smiles string? For: C.I. Pigment Blue 61\n",
      "Bad smiles string? For: 2-Ethylhexenal\n"
     ]
    },
    {
     "name": "stderr",
     "output_type": "stream",
     "text": [
      "RDKit WARNING: [12:53:45] WARNING: not removing hydrogen atom without neighbors\n",
      "[12:53:45] WARNING: not removing hydrogen atom without neighbors\n",
      "RDKit ERROR: [12:53:52] Explicit valence for atom # 3 Si, 8, is greater than permitted\n",
      "[12:53:52] Explicit valence for atom # 3 Si, 8, is greater than permitted\n"
     ]
    },
    {
     "name": "stdout",
     "output_type": "stream",
     "text": [
      "Bad smiles string? For: Sodium hexafluorosilicate\n"
     ]
    },
    {
     "name": "stderr",
     "output_type": "stream",
     "text": [
      "RDKit WARNING: [12:53:54] WARNING: not removing hydrogen atom without neighbors\n",
      "[12:53:54] WARNING: not removing hydrogen atom without neighbors\n",
      "RDKit ERROR: [12:54:15] Explicit valence for atom # 1 B, 7, is greater than permitted\n",
      "[12:54:15] Explicit valence for atom # 1 B, 7, is greater than permitted\n"
     ]
    },
    {
     "name": "stdout",
     "output_type": "stream",
     "text": [
      "Bad smiles string? For: Boron sodium hydride (BNaH4)\n"
     ]
    },
    {
     "name": "stderr",
     "output_type": "stream",
     "text": [
      "RDKit ERROR: [12:54:19] SMILES Parse Error: syntax error while parsing: ['Rgp'][N+](C)(C)[O-]\n",
      "[12:54:19] SMILES Parse Error: syntax error while parsing: ['Rgp'][N+](C)(C)[O-]\n",
      "RDKit ERROR: [12:54:19] SMILES Parse Error: Failed parsing SMILES '['Rgp'][N+](C)(C)[O-]' for input: '['Rgp'][N+](C)(C)[O-]'\n",
      "[12:54:19] SMILES Parse Error: Failed parsing SMILES '['Rgp'][N+](C)(C)[O-]' for input: '['Rgp'][N+](C)(C)[O-]'\n"
     ]
    },
    {
     "name": "stdout",
     "output_type": "stream",
     "text": [
      "Bad smiles string? For: C10-16-alkyldimethyl amine N-oxides\n"
     ]
    },
    {
     "name": "stderr",
     "output_type": "stream",
     "text": [
      "RDKit ERROR: [12:54:24] SMILES Parse Error: syntax error while parsing: ['Rgp']C(=O)OCC(COP(=O)([O-])OCC[N+](C)(C)C)OC(=O)['Rgp']\n",
      "[12:54:24] SMILES Parse Error: syntax error while parsing: ['Rgp']C(=O)OCC(COP(=O)([O-])OCC[N+](C)(C)C)OC(=O)['Rgp']\n",
      "RDKit ERROR: [12:54:24] SMILES Parse Error: Failed parsing SMILES '['Rgp']C(=O)OCC(COP(=O)([O-])OCC[N+](C)(C)C)OC(=O)['Rgp']' for input: '['Rgp']C(=O)OCC(COP(=O)([O-])OCC[N+](C)(C)C)OC(=O)['Rgp']'\n",
      "[12:54:24] SMILES Parse Error: Failed parsing SMILES '['Rgp']C(=O)OCC(COP(=O)([O-])OCC[N+](C)(C)C)OC(=O)['Rgp']' for input: '['Rgp']C(=O)OCC(COP(=O)([O-])OCC[N+](C)(C)C)OC(=O)['Rgp']'\n"
     ]
    },
    {
     "name": "stdout",
     "output_type": "stream",
     "text": [
      "Bad smiles string? For: Lecithin\n"
     ]
    },
    {
     "name": "stderr",
     "output_type": "stream",
     "text": [
      "RDKit ERROR: [12:54:27] SMILES Parse Error: syntax error while parsing: [X]C.C(Oc1ccccc1)C2CO2\n",
      "[12:54:27] SMILES Parse Error: syntax error while parsing: [X]C.C(Oc1ccccc1)C2CO2\n",
      "RDKit ERROR: [12:54:27] SMILES Parse Error: Failed parsing SMILES '[X]C.C(Oc1ccccc1)C2CO2' for input: '[X]C.C(Oc1ccccc1)C2CO2'\n",
      "[12:54:27] SMILES Parse Error: Failed parsing SMILES '[X]C.C(Oc1ccccc1)C2CO2' for input: '[X]C.C(Oc1ccccc1)C2CO2'\n"
     ]
    },
    {
     "name": "stdout",
     "output_type": "stream",
     "text": [
      "Bad smiles string? For: 2-[(Methylphenoxy)methyl]oxirane\n"
     ]
    },
    {
     "name": "stderr",
     "output_type": "stream",
     "text": [
      "RDKit ERROR: [12:54:29] SMILES Parse Error: syntax error while parsing: [X]C(C)C.[X]C(C)C.c1ccc(cc1)c2ccccc2\n",
      "[12:54:29] SMILES Parse Error: syntax error while parsing: [X]C(C)C.[X]C(C)C.c1ccc(cc1)c2ccccc2\n",
      "RDKit ERROR: [12:54:29] SMILES Parse Error: Failed parsing SMILES '[X]C(C)C.[X]C(C)C.c1ccc(cc1)c2ccccc2' for input: '[X]C(C)C.[X]C(C)C.c1ccc(cc1)c2ccccc2'\n",
      "[12:54:29] SMILES Parse Error: Failed parsing SMILES '[X]C(C)C.[X]C(C)C.c1ccc(cc1)c2ccccc2' for input: '[X]C(C)C.[X]C(C)C.c1ccc(cc1)c2ccccc2'\n"
     ]
    },
    {
     "name": "stdout",
     "output_type": "stream",
     "text": [
      "Bad smiles string? For: ar,ar'-Bis(1-methylethyl)-1,1'-biphenyl\n",
      "Bad smiles string? For: Polychlorinated biphenyls\n"
     ]
    },
    {
     "name": "stderr",
     "output_type": "stream",
     "text": [
      "RDKit ERROR: [12:54:51] Explicit valence for atom # 0 O, 3, is greater than permitted\n",
      "[12:54:51] Explicit valence for atom # 0 O, 3, is greater than permitted\n"
     ]
    },
    {
     "name": "stdout",
     "output_type": "stream",
     "text": [
      "Bad smiles string? For: Zinc pyrithione\n",
      "Bad smiles string? For: Bis[omega-hydrogenpoly(oxyethylene)]oleylamine\n"
     ]
    },
    {
     "name": "stderr",
     "output_type": "stream",
     "text": [
      "RDKit ERROR: [12:54:55] SMILES Parse Error: syntax error while parsing: ['Rgp']c1ccc(O)cc1\n",
      "[12:54:55] SMILES Parse Error: syntax error while parsing: ['Rgp']c1ccc(O)cc1\n",
      "RDKit ERROR: [12:54:55] SMILES Parse Error: Failed parsing SMILES '['Rgp']c1ccc(O)cc1' for input: '['Rgp']c1ccc(O)cc1'\n",
      "[12:54:55] SMILES Parse Error: Failed parsing SMILES '['Rgp']c1ccc(O)cc1' for input: '['Rgp']c1ccc(O)cc1'\n"
     ]
    },
    {
     "name": "stdout",
     "output_type": "stream",
     "text": [
      "Bad smiles string? For: 4-Nonylphenol, branched\n"
     ]
    },
    {
     "name": "stderr",
     "output_type": "stream",
     "text": [
      "RDKit ERROR: [12:54:57] Explicit valence for atom # 3 Sn, 8, is greater than permitted\n",
      "[12:54:57] Explicit valence for atom # 3 Sn, 8, is greater than permitted\n"
     ]
    },
    {
     "name": "stdout",
     "output_type": "stream",
     "text": [
      "Bad smiles string? For: Disodium stannate\n"
     ]
    },
    {
     "name": "stderr",
     "output_type": "stream",
     "text": [
      "RDKit ERROR: [12:55:01] SMILES Parse Error: syntax error while parsing: ['Rgp']NCCCN\n",
      "[12:55:01] SMILES Parse Error: syntax error while parsing: ['Rgp']NCCCN\n",
      "RDKit ERROR: [12:55:01] SMILES Parse Error: Failed parsing SMILES '['Rgp']NCCCN' for input: '['Rgp']NCCCN'\n",
      "[12:55:01] SMILES Parse Error: Failed parsing SMILES '['Rgp']NCCCN' for input: '['Rgp']NCCCN'\n"
     ]
    },
    {
     "name": "stdout",
     "output_type": "stream",
     "text": [
      "Bad smiles string? For: Amines, N-coco alkyltrimethylenedi-\n",
      "Bad smiles string? For: 1,3-Dimethylbenzene, benzylated\n"
     ]
    },
    {
     "name": "stderr",
     "output_type": "stream",
     "text": [
      "RDKit ERROR: [12:55:08] SMILES Parse Error: syntax error while parsing: [Cl-].[Cl-].[Cl-].[X]C.[X]C.[X]CCCCCCCCCCCC.[X]CCCCCCCCCCCC.[X]C[N+](C)(C)C.C[N+](C)(C)Cc1ccccc1.C[N+](C)(C)Cc2ccccc2\n",
      "[12:55:08] SMILES Parse Error: syntax error while parsing: [Cl-].[Cl-].[Cl-].[X]C.[X]C.[X]CCCCCCCCCCCC.[X]CCCCCCCCCCCC.[X]C[N+](C)(C)C.C[N+](C)(C)Cc1ccccc1.C[N+](C)(C)Cc2ccccc2\n",
      "RDKit ERROR: [12:55:08] SMILES Parse Error: Failed parsing SMILES '[Cl-].[Cl-].[Cl-].[X]C.[X]C.[X]CCCCCCCCCCCC.[X]CCCCCCCCCCCC.[X]C[N+](C)(C)C.C[N+](C)(C)Cc1ccccc1.C[N+](C)(C)Cc2ccccc2' for input: '[Cl-].[Cl-].[Cl-].[X]C.[X]C.[X]CCCCCCCCCCCC.[X]CCCCCCCCCCCC.[X]C[N+](C)(C)C.C[N+](C)(C)Cc1ccccc1.C[N+](C)(C)Cc2ccccc2'\n",
      "[12:55:08] SMILES Parse Error: Failed parsing SMILES '[Cl-].[Cl-].[Cl-].[X]C.[X]C.[X]CCCCCCCCCCCC.[X]CCCCCCCCCCCC.[X]C[N+](C)(C)C.C[N+](C)(C)Cc1ccccc1.C[N+](C)(C)Cc2ccccc2' for input: '[Cl-].[Cl-].[Cl-].[X]C.[X]C.[X]CCCCCCCCCCCC.[X]CCCCCCCCCCCC.[X]C[N+](C)(C)C.C[N+](C)(C)Cc1ccccc1.C[N+](C)(C)Cc2ccccc2'\n"
     ]
    },
    {
     "name": "stdout",
     "output_type": "stream",
     "text": [
      "Bad smiles string? For: Quaternium-11\n"
     ]
    },
    {
     "name": "stderr",
     "output_type": "stream",
     "text": [
      "RDKit ERROR: [12:55:19] SMILES Parse Error: syntax error while parsing: [X]O.CCCCCCCCCCC\n",
      "[12:55:19] SMILES Parse Error: syntax error while parsing: [X]O.CCCCCCCCCCC\n",
      "RDKit ERROR: [12:55:19] SMILES Parse Error: Failed parsing SMILES '[X]O.CCCCCCCCCCC' for input: '[X]O.CCCCCCCCCCC'\n",
      "[12:55:19] SMILES Parse Error: Failed parsing SMILES '[X]O.CCCCCCCCCCC' for input: '[X]O.CCCCCCCCCCC'\n"
     ]
    },
    {
     "name": "stdout",
     "output_type": "stream",
     "text": [
      "Bad smiles string? For: Undecanol\n"
     ]
    },
    {
     "name": "stderr",
     "output_type": "stream",
     "text": [
      "RDKit WARNING: [12:55:27] WARNING: not removing hydrogen atom without neighbors\n",
      "[12:55:27] WARNING: not removing hydrogen atom without neighbors\n",
      "RDKit ERROR: [12:55:27] Explicit valence for atom # 10 O, 3, is greater than permitted\n",
      "[12:55:27] Explicit valence for atom # 10 O, 3, is greater than permitted\n"
     ]
    },
    {
     "name": "stdout",
     "output_type": "stream",
     "text": [
      "Bad smiles string? For: C.I.Acid Green 35\n"
     ]
    },
    {
     "name": "stderr",
     "output_type": "stream",
     "text": [
      "RDKit ERROR: [12:55:40] Explicit valence for atom # 6 B, 5, is greater than permitted\n",
      "[12:55:40] Explicit valence for atom # 6 B, 5, is greater than permitted\n"
     ]
    },
    {
     "name": "stdout",
     "output_type": "stream",
     "text": [
      "Bad smiles string? For: Sodium perborate tetrahydrate\n"
     ]
    },
    {
     "name": "stderr",
     "output_type": "stream",
     "text": [
      "RDKit ERROR: [12:55:57] SMILES Parse Error: syntax error while parsing: CC(C)(c1ccc(OCC2CO2)cc1)c3ccc(OCC4CO4)cc3.[XH]\n",
      "[12:55:57] SMILES Parse Error: syntax error while parsing: CC(C)(c1ccc(OCC2CO2)cc1)c3ccc(OCC4CO4)cc3.[XH]\n",
      "RDKit ERROR: [12:55:57] SMILES Parse Error: Failed parsing SMILES 'CC(C)(c1ccc(OCC2CO2)cc1)c3ccc(OCC4CO4)cc3.[XH]' for input: 'CC(C)(c1ccc(OCC2CO2)cc1)c3ccc(OCC4CO4)cc3.[XH]'\n",
      "[12:55:57] SMILES Parse Error: Failed parsing SMILES 'CC(C)(c1ccc(OCC2CO2)cc1)c3ccc(OCC4CO4)cc3.[XH]' for input: 'CC(C)(c1ccc(OCC2CO2)cc1)c3ccc(OCC4CO4)cc3.[XH]'\n"
     ]
    },
    {
     "name": "stdout",
     "output_type": "stream",
     "text": [
      "Bad smiles string? For: Epoxy resin\n"
     ]
    },
    {
     "name": "stderr",
     "output_type": "stream",
     "text": [
      "RDKit ERROR: [12:55:59] Explicit valence for atom # 6 O, 3, is greater than permitted\n",
      "[12:55:59] Explicit valence for atom # 6 O, 3, is greater than permitted\n"
     ]
    },
    {
     "name": "stdout",
     "output_type": "stream",
     "text": [
      "Bad smiles string? For: Cobaltate(1-), [2,4-dihydro-4-[(2-hydroxy-5-nitrophenyl)azo]-5-methyl-2-phenyl-3H-pyrazol-3-onato(2-)][1-[(2-hydroxy-5-nitrophenyl)azo]-2-naphthalenolato(2-)]-, sodium\n"
     ]
    },
    {
     "name": "stderr",
     "output_type": "stream",
     "text": [
      "RDKit ERROR: [12:56:24] SMILES Parse Error: syntax error while parsing: [X]O.CCCCCCCCCCCCC\n",
      "[12:56:24] SMILES Parse Error: syntax error while parsing: [X]O.CCCCCCCCCCCCC\n",
      "RDKit ERROR: [12:56:24] SMILES Parse Error: Failed parsing SMILES '[X]O.CCCCCCCCCCCCC' for input: '[X]O.CCCCCCCCCCCCC'\n",
      "[12:56:24] SMILES Parse Error: Failed parsing SMILES '[X]O.CCCCCCCCCCCCC' for input: '[X]O.CCCCCCCCCCCCC'\n"
     ]
    },
    {
     "name": "stdout",
     "output_type": "stream",
     "text": [
      "Bad smiles string? For: Tridecanol\n"
     ]
    },
    {
     "name": "stderr",
     "output_type": "stream",
     "text": [
      "RDKit ERROR: [12:56:36] SMILES Parse Error: syntax error while parsing: [X]C.[X]C.SP(=S)(Oc1ccccc1)Oc2ccccc2\n",
      "[12:56:36] SMILES Parse Error: syntax error while parsing: [X]C.[X]C.SP(=S)(Oc1ccccc1)Oc2ccccc2\n",
      "RDKit ERROR: [12:56:36] SMILES Parse Error: Failed parsing SMILES '[X]C.[X]C.SP(=S)(Oc1ccccc1)Oc2ccccc2' for input: '[X]C.[X]C.SP(=S)(Oc1ccccc1)Oc2ccccc2'\n",
      "[12:56:36] SMILES Parse Error: Failed parsing SMILES '[X]C.[X]C.SP(=S)(Oc1ccccc1)Oc2ccccc2' for input: '[X]C.[X]C.SP(=S)(Oc1ccccc1)Oc2ccccc2'\n"
     ]
    },
    {
     "name": "stdout",
     "output_type": "stream",
     "text": [
      "Bad smiles string? For: O,O-Ditolyl phosphorodithioate\n"
     ]
    },
    {
     "name": "stderr",
     "output_type": "stream",
     "text": [
      "RDKit ERROR: [12:56:49] Can't kekulize mol.  Unkekulized atoms: 1 2 3 4 5\n",
      "[12:56:49] Can't kekulize mol.  Unkekulized atoms: 1 2 3 4 5\n",
      "\n",
      "RDKit ERROR: \n"
     ]
    },
    {
     "name": "stdout",
     "output_type": "stream",
     "text": [
      "Bad smiles string? For: Ferrocene\n"
     ]
    },
    {
     "name": "stderr",
     "output_type": "stream",
     "text": [
      "RDKit ERROR: [12:57:06] Can't kekulize mol.  Unkekulized atoms: 3 4 5 6 7\n",
      "[12:57:06] Can't kekulize mol.  Unkekulized atoms: 3 4 5 6 7\n",
      "\n",
      "RDKit ERROR: \n"
     ]
    },
    {
     "name": "stdout",
     "output_type": "stream",
     "text": [
      "Bad smiles string? For: Titanocene dichloride\n"
     ]
    },
    {
     "name": "stderr",
     "output_type": "stream",
     "text": [
      "RDKit ERROR: [12:57:18] SMILES Parse Error: syntax error while parsing: [X]C.[X]C.CCCCCCCOC(=O)CCCCC(=O)OCCCCCCC\n",
      "[12:57:18] SMILES Parse Error: syntax error while parsing: [X]C.[X]C.CCCCCCCOC(=O)CCCCC(=O)OCCCCCCC\n",
      "RDKit ERROR: [12:57:18] SMILES Parse Error: Failed parsing SMILES '[X]C.[X]C.CCCCCCCOC(=O)CCCCC(=O)OCCCCCCC' for input: '[X]C.[X]C.CCCCCCCOC(=O)CCCCC(=O)OCCCCCCC'\n",
      "[12:57:18] SMILES Parse Error: Failed parsing SMILES '[X]C.[X]C.CCCCCCCOC(=O)CCCCC(=O)OCCCCCCC' for input: '[X]C.[X]C.CCCCCCCOC(=O)CCCCC(=O)OCCCCCCC'\n"
     ]
    },
    {
     "name": "stdout",
     "output_type": "stream",
     "text": [
      "Bad smiles string? For: Diisooctyl adipate\n"
     ]
    },
    {
     "name": "stderr",
     "output_type": "stream",
     "text": [
      "RDKit ERROR: [12:57:19] Explicit valence for atom # 2 O, 3, is greater than permitted\n",
      "[12:57:19] Explicit valence for atom # 2 O, 3, is greater than permitted\n"
     ]
    },
    {
     "name": "stdout",
     "output_type": "stream",
     "text": [
      "Bad smiles string? For: (Diethyl ether)trifluoroborane\n"
     ]
    },
    {
     "name": "stderr",
     "output_type": "stream",
     "text": [
      "RDKit ERROR: [12:57:23] SMILES Parse Error: syntax error while parsing: [X]CCCCCCCCCCCC.OS(=O)(=O)c1ccccc1\n",
      "[12:57:23] SMILES Parse Error: syntax error while parsing: [X]CCCCCCCCCCCC.OS(=O)(=O)c1ccccc1\n",
      "RDKit ERROR: [12:57:23] SMILES Parse Error: Failed parsing SMILES '[X]CCCCCCCCCCCC.OS(=O)(=O)c1ccccc1' for input: '[X]CCCCCCCCCCCC.OS(=O)(=O)c1ccccc1'\n",
      "[12:57:23] SMILES Parse Error: Failed parsing SMILES '[X]CCCCCCCCCCCC.OS(=O)(=O)c1ccccc1' for input: '[X]CCCCCCCCCCCC.OS(=O)(=O)c1ccccc1'\n"
     ]
    },
    {
     "name": "stdout",
     "output_type": "stream",
     "text": [
      "Bad smiles string? For: Potassium dodecylbenzenesulfonate\n"
     ]
    },
    {
     "name": "stderr",
     "output_type": "stream",
     "text": [
      "RDKit ERROR: [12:57:40] SMILES Parse Error: syntax error while parsing: [Na+].['Rgp']N(C)CCS(=O)(=O)[O-]\n",
      "[12:57:40] SMILES Parse Error: syntax error while parsing: [Na+].['Rgp']N(C)CCS(=O)(=O)[O-]\n",
      "RDKit ERROR: [12:57:40] SMILES Parse Error: Failed parsing SMILES '[Na+].['Rgp']N(C)CCS(=O)(=O)[O-]' for input: '[Na+].['Rgp']N(C)CCS(=O)(=O)[O-]'\n",
      "[12:57:40] SMILES Parse Error: Failed parsing SMILES '[Na+].['Rgp']N(C)CCS(=O)(=O)[O-]' for input: '[Na+].['Rgp']N(C)CCS(=O)(=O)[O-]'\n"
     ]
    },
    {
     "name": "stdout",
     "output_type": "stream",
     "text": [
      "Bad smiles string? For: Ethanesulfonic acid, 2-(methylamino)-, N-tall-oil fatty acyl derivs., sodium salts\n"
     ]
    },
    {
     "name": "stderr",
     "output_type": "stream",
     "text": [
      "RDKit WARNING: [12:57:53] WARNING: not removing hydrogen atom without neighbors\n",
      "[12:57:53] WARNING: not removing hydrogen atom without neighbors\n"
     ]
    },
    {
     "name": "stdout",
     "output_type": "stream",
     "text": [
      "Bad smiles string? For: Diethoxylated methyl glucopyranoside 2,6-dioleate\n"
     ]
    },
    {
     "name": "stderr",
     "output_type": "stream",
     "text": [
      "RDKit ERROR: [12:58:01] SMILES Parse Error: syntax error while parsing: [X]C(C)CCCCCC.[X][N+](=O)[O-].C\\C=C\\C(=O)Oc1ccccc1[N+](=O)[O-]\n",
      "[12:58:01] SMILES Parse Error: syntax error while parsing: [X]C(C)CCCCCC.[X][N+](=O)[O-].C\\C=C\\C(=O)Oc1ccccc1[N+](=O)[O-]\n",
      "RDKit ERROR: [12:58:01] SMILES Parse Error: Failed parsing SMILES '[X]C(C)CCCCCC.[X][N+](=O)[O-].C\\C=C\\C(=O)Oc1ccccc1[N+](=O)[O-]' for input: '[X]C(C)CCCCCC.[X][N+](=O)[O-].C\\C=C\\C(=O)Oc1ccccc1[N+](=O)[O-]'\n",
      "[12:58:01] SMILES Parse Error: Failed parsing SMILES '[X]C(C)CCCCCC.[X][N+](=O)[O-].C\\C=C\\C(=O)Oc1ccccc1[N+](=O)[O-]' for input: '[X]C(C)CCCCCC.[X][N+](=O)[O-].C\\C=C\\C(=O)Oc1ccccc1[N+](=O)[O-]'\n"
     ]
    },
    {
     "name": "stdout",
     "output_type": "stream",
     "text": [
      "Bad smiles string? For: Dinocap\n"
     ]
    },
    {
     "name": "stderr",
     "output_type": "stream",
     "text": [
      "RDKit ERROR: [12:58:06] SMILES Parse Error: syntax error while parsing: [X]F.FC(F)C(F)Cl\n",
      "[12:58:06] SMILES Parse Error: syntax error while parsing: [X]F.FC(F)C(F)Cl\n",
      "RDKit ERROR: [12:58:06] SMILES Parse Error: Failed parsing SMILES '[X]F.FC(F)C(F)Cl' for input: '[X]F.FC(F)C(F)Cl'\n",
      "[12:58:06] SMILES Parse Error: Failed parsing SMILES '[X]F.FC(F)C(F)Cl' for input: '[X]F.FC(F)C(F)Cl'\n"
     ]
    },
    {
     "name": "stdout",
     "output_type": "stream",
     "text": [
      "Bad smiles string? For: Chlorotetrafluoroethane\n"
     ]
    },
    {
     "name": "stderr",
     "output_type": "stream",
     "text": [
      "RDKit ERROR: [12:58:11] SMILES Parse Error: syntax error while parsing: [X]C.CCCCCCCO\n",
      "[12:58:11] SMILES Parse Error: syntax error while parsing: [X]C.CCCCCCCO\n",
      "RDKit ERROR: [12:58:11] SMILES Parse Error: Failed parsing SMILES '[X]C.CCCCCCCO' for input: '[X]C.CCCCCCCO'\n",
      "[12:58:11] SMILES Parse Error: Failed parsing SMILES '[X]C.CCCCCCCO' for input: '[X]C.CCCCCCCO'\n"
     ]
    },
    {
     "name": "stdout",
     "output_type": "stream",
     "text": [
      "Bad smiles string? For: Isooctanol\n"
     ]
    },
    {
     "name": "stderr",
     "output_type": "stream",
     "text": [
      "RDKit ERROR: [12:58:12] SMILES Parse Error: syntax error while parsing: [Ca+2].[X]CCCCCCCCCCCC.[X]CCCCCCCCCCCC.[O-]S(=O)(=O)c1ccccc1.[O-]S(=O)(=O)c2ccccc2\n",
      "[12:58:12] SMILES Parse Error: syntax error while parsing: [Ca+2].[X]CCCCCCCCCCCC.[X]CCCCCCCCCCCC.[O-]S(=O)(=O)c1ccccc1.[O-]S(=O)(=O)c2ccccc2\n",
      "RDKit ERROR: [12:58:12] SMILES Parse Error: Failed parsing SMILES '[Ca+2].[X]CCCCCCCCCCCC.[X]CCCCCCCCCCCC.[O-]S(=O)(=O)c1ccccc1.[O-]S(=O)(=O)c2ccccc2' for input: '[Ca+2].[X]CCCCCCCCCCCC.[X]CCCCCCCCCCCC.[O-]S(=O)(=O)c1ccccc1.[O-]S(=O)(=O)c2ccccc2'\n",
      "[12:58:12] SMILES Parse Error: Failed parsing SMILES '[Ca+2].[X]CCCCCCCCCCCC.[X]CCCCCCCCCCCC.[O-]S(=O)(=O)c1ccccc1.[O-]S(=O)(=O)c2ccccc2' for input: '[Ca+2].[X]CCCCCCCCCCCC.[X]CCCCCCCCCCCC.[O-]S(=O)(=O)c1ccccc1.[O-]S(=O)(=O)c2ccccc2'\n"
     ]
    },
    {
     "name": "stdout",
     "output_type": "stream",
     "text": [
      "Bad smiles string? For: Calcium dodecylbenzene sulfonate\n"
     ]
    },
    {
     "name": "stderr",
     "output_type": "stream",
     "text": [
      "RDKit WARNING: [12:58:41] WARNING: not removing hydrogen atom without neighbors\n",
      "[12:58:41] WARNING: not removing hydrogen atom without neighbors\n",
      "RDKit ERROR: [12:58:43] Explicit valence for atom # 3 F, 2, is greater than permitted\n",
      "[12:58:43] Explicit valence for atom # 3 F, 2, is greater than permitted\n"
     ]
    },
    {
     "name": "stdout",
     "output_type": "stream",
     "text": [
      "Bad smiles string? For: Cryolite\n",
      "Bad smiles string? For: Pentene\n"
     ]
    },
    {
     "name": "stderr",
     "output_type": "stream",
     "text": [
      "RDKit WARNING: [12:59:29] WARNING: not removing hydrogen atom without neighbors\n",
      "[12:59:29] WARNING: not removing hydrogen atom without neighbors\n",
      "RDKit WARNING: [12:59:29] WARNING: not removing hydrogen atom without neighbors\n",
      "RDKit WARNING: [12:59:29] WARNING: not removing hydrogen atom without neighbors\n",
      "RDKit WARNING: [12:59:29] WARNING: not removing hydrogen atom without neighbors\n",
      "[12:59:29] WARNING: not removing hydrogen atom without neighbors\n",
      "[12:59:29] WARNING: not removing hydrogen atom without neighbors\n",
      "[12:59:29] WARNING: not removing hydrogen atom without neighbors\n",
      "RDKit ERROR: [12:59:31] SMILES Parse Error: syntax error while parsing: [X]CC.[X]CC.CCc1ccccc1\n",
      "[12:59:31] SMILES Parse Error: syntax error while parsing: [X]CC.[X]CC.CCc1ccccc1\n",
      "RDKit ERROR: [12:59:31] SMILES Parse Error: Failed parsing SMILES '[X]CC.[X]CC.CCc1ccccc1' for input: '[X]CC.[X]CC.CCc1ccccc1'\n",
      "[12:59:31] SMILES Parse Error: Failed parsing SMILES '[X]CC.[X]CC.CCc1ccccc1' for input: '[X]CC.[X]CC.CCc1ccccc1'\n"
     ]
    },
    {
     "name": "stdout",
     "output_type": "stream",
     "text": [
      "Bad smiles string? For: Benzene, triethyl-\n"
     ]
    },
    {
     "name": "stderr",
     "output_type": "stream",
     "text": [
      "RDKit ERROR: [12:59:32] Explicit valence for atom # 4 C, 5, is greater than permitted\n",
      "[12:59:32] Explicit valence for atom # 4 C, 5, is greater than permitted\n"
     ]
    },
    {
     "name": "stdout",
     "output_type": "stream",
     "text": [
      "Bad smiles string? For: (Methylcyclopentadienyl)tricarbonylmanganese\n"
     ]
    },
    {
     "name": "stderr",
     "output_type": "stream",
     "text": [
      "RDKit ERROR: [12:59:36] SMILES Parse Error: syntax error while parsing: [X]Cl.c1ccc2ccccc2c1\n",
      "[12:59:36] SMILES Parse Error: syntax error while parsing: [X]Cl.c1ccc2ccccc2c1\n",
      "RDKit ERROR: [12:59:36] SMILES Parse Error: Failed parsing SMILES '[X]Cl.c1ccc2ccccc2c1' for input: '[X]Cl.c1ccc2ccccc2c1'\n",
      "[12:59:36] SMILES Parse Error: Failed parsing SMILES '[X]Cl.c1ccc2ccccc2c1' for input: '[X]Cl.c1ccc2ccccc2c1'\n"
     ]
    },
    {
     "name": "stdout",
     "output_type": "stream",
     "text": [
      "Bad smiles string? For: Chloronaphthalene\n"
     ]
    },
    {
     "name": "stderr",
     "output_type": "stream",
     "text": [
      "RDKit ERROR: [12:59:59] Explicit valence for atom # 3 Si, 8, is greater than permitted\n",
      "[12:59:59] Explicit valence for atom # 3 Si, 8, is greater than permitted\n"
     ]
    },
    {
     "name": "stdout",
     "output_type": "stream",
     "text": [
      "Bad smiles string? For: Ammonium hexafluorosilicate\n"
     ]
    },
    {
     "name": "stderr",
     "output_type": "stream",
     "text": [
      "RDKit ERROR: [13:00:00] SMILES Parse Error: syntax error while parsing: ['Rgp']NCCCN.CC(=O)O\n",
      "[13:00:00] SMILES Parse Error: syntax error while parsing: ['Rgp']NCCCN.CC(=O)O\n",
      "RDKit ERROR: [13:00:00] SMILES Parse Error: Failed parsing SMILES '['Rgp']NCCCN.CC(=O)O' for input: '['Rgp']NCCCN.CC(=O)O'\n",
      "[13:00:00] SMILES Parse Error: Failed parsing SMILES '['Rgp']NCCCN.CC(=O)O' for input: '['Rgp']NCCCN.CC(=O)O'\n"
     ]
    },
    {
     "name": "stdout",
     "output_type": "stream",
     "text": [
      "Bad smiles string? For: N-(Coconut oil alkyl)trimethylenediamine acetate\n"
     ]
    },
    {
     "name": "stderr",
     "output_type": "stream",
     "text": [
      "RDKit WARNING: [13:00:09] WARNING: not removing hydrogen atom without neighbors\n",
      "[13:00:09] WARNING: not removing hydrogen atom without neighbors\n",
      "RDKit WARNING: [13:00:09] WARNING: not removing hydrogen atom without neighbors\n",
      "RDKit ERROR: [13:00:09] Explicit valence for atom # 3 Si, 8, is greater than permitted\n",
      "[13:00:09] WARNING: not removing hydrogen atom without neighbors\n",
      "[13:00:09] Explicit valence for atom # 3 Si, 8, is greater than permitted\n"
     ]
    },
    {
     "name": "stdout",
     "output_type": "stream",
     "text": [
      "Bad smiles string? For: Silicate(2-), hexafluoro-, dihydrogen\n"
     ]
    },
    {
     "name": "stderr",
     "output_type": "stream",
     "text": [
      "RDKit ERROR: [13:00:33] Explicit valence for atom # 6 O, 3, is greater than permitted\n",
      "[13:00:33] Explicit valence for atom # 6 O, 3, is greater than permitted\n"
     ]
    },
    {
     "name": "stdout",
     "output_type": "stream",
     "text": [
      "Bad smiles string? For: Sodium bis[2,4-dihydro-4-[(2-hydroxy-5-nitrophenyl)azo]-5-methyl-2-phenyl-3H-pyrazol-3-onato(2-)]cobaltate(1-)\n"
     ]
    },
    {
     "name": "stderr",
     "output_type": "stream",
     "text": [
      "RDKit ERROR: [13:00:46] Explicit valence for atom # 9 N, 4, is greater than permitted\n",
      "[13:00:46] Explicit valence for atom # 9 N, 4, is greater than permitted\n"
     ]
    },
    {
     "name": "stdout",
     "output_type": "stream",
     "text": [
      "Bad smiles string? For: Copper phthalocyanine\n"
     ]
    },
    {
     "name": "stderr",
     "output_type": "stream",
     "text": [
      "RDKit ERROR: [13:00:51] Explicit valence for atom # 6 O, 3, is greater than permitted\n",
      "[13:00:51] Explicit valence for atom # 6 O, 3, is greater than permitted\n"
     ]
    },
    {
     "name": "stdout",
     "output_type": "stream",
     "text": [
      "Bad smiles string? For: C.I. Acid Red 186\n"
     ]
    },
    {
     "name": "stderr",
     "output_type": "stream",
     "text": [
      "RDKit ERROR: [13:01:10] SMILES Parse Error: syntax error while parsing: [X]C.CCCCCCCO\n",
      "[13:01:10] SMILES Parse Error: syntax error while parsing: [X]C.CCCCCCCO\n",
      "RDKit ERROR: [13:01:10] SMILES Parse Error: Failed parsing SMILES '[X]C.CCCCCCCO' for input: '[X]C.CCCCCCCO'\n",
      "[13:01:10] SMILES Parse Error: Failed parsing SMILES '[X]C.CCCCCCCO' for input: '[X]C.CCCCCCCO'\n"
     ]
    },
    {
     "name": "stdout",
     "output_type": "stream",
     "text": [
      "Bad smiles string? For: Isooctanol\n"
     ]
    },
    {
     "name": "stderr",
     "output_type": "stream",
     "text": [
      "RDKit WARNING: [13:01:13] WARNING: not removing hydrogen atom without neighbors\n",
      "[13:01:13] WARNING: not removing hydrogen atom without neighbors\n",
      "RDKit ERROR: [13:01:14] SMILES Parse Error: syntax error while parsing: [X][N+](=O)[O-].[O-][N+](=O)c1ccccc1\n",
      "[13:01:14] SMILES Parse Error: syntax error while parsing: [X][N+](=O)[O-].[O-][N+](=O)c1ccccc1\n",
      "RDKit ERROR: [13:01:14] SMILES Parse Error: Failed parsing SMILES '[X][N+](=O)[O-].[O-][N+](=O)c1ccccc1' for input: '[X][N+](=O)[O-].[O-][N+](=O)c1ccccc1'\n",
      "[13:01:14] SMILES Parse Error: Failed parsing SMILES '[X][N+](=O)[O-].[O-][N+](=O)c1ccccc1' for input: '[X][N+](=O)[O-].[O-][N+](=O)c1ccccc1'\n"
     ]
    },
    {
     "name": "stdout",
     "output_type": "stream",
     "text": [
      "Bad smiles string? For: Dinitrobenzene (all isomers)\n"
     ]
    },
    {
     "name": "stderr",
     "output_type": "stream",
     "text": [
      "RDKit ERROR: [13:01:15] Explicit valence for atom # 0 B, 4, is greater than permitted\n",
      "[13:01:15] Explicit valence for atom # 0 B, 4, is greater than permitted\n"
     ]
    },
    {
     "name": "stdout",
     "output_type": "stream",
     "text": [
      "Bad smiles string? For: Diborane\n"
     ]
    },
    {
     "name": "stderr",
     "output_type": "stream",
     "text": [
      "RDKit ERROR: [13:01:18] SMILES Parse Error: syntax error while parsing: [X][N+](=O)[O-].[X][N+](=O)[O-].Cc1ccccc1\n",
      "[13:01:18] SMILES Parse Error: syntax error while parsing: [X][N+](=O)[O-].[X][N+](=O)[O-].Cc1ccccc1\n",
      "RDKit ERROR: [13:01:18] SMILES Parse Error: Failed parsing SMILES '[X][N+](=O)[O-].[X][N+](=O)[O-].Cc1ccccc1' for input: '[X][N+](=O)[O-].[X][N+](=O)[O-].Cc1ccccc1'\n",
      "[13:01:18] SMILES Parse Error: Failed parsing SMILES '[X][N+](=O)[O-].[X][N+](=O)[O-].Cc1ccccc1' for input: '[X][N+](=O)[O-].[X][N+](=O)[O-].Cc1ccccc1'\n"
     ]
    },
    {
     "name": "stdout",
     "output_type": "stream",
     "text": [
      "Bad smiles string? For: Dinitrotoluene\n"
     ]
    },
    {
     "name": "stderr",
     "output_type": "stream",
     "text": [
      "RDKit WARNING: [13:01:46] WARNING: not removing hydrogen atom without neighbors\n",
      "[13:01:46] WARNING: not removing hydrogen atom without neighbors\n",
      "RDKit ERROR: [13:01:51] Explicit valence for atom # 4 C, 5, is greater than permitted\n",
      "[13:01:51] Explicit valence for atom # 4 C, 5, is greater than permitted\n"
     ]
    },
    {
     "name": "stdout",
     "output_type": "stream",
     "text": [
      "Bad smiles string? For: (Methylcyclopentadienyl)tricarbonylmanganese\n"
     ]
    },
    {
     "name": "stderr",
     "output_type": "stream",
     "text": [
      "RDKit ERROR: [13:02:02] SMILES Parse Error: syntax error while parsing: [X]N.[X]N.Cc1ccccc1\n",
      "[13:02:02] SMILES Parse Error: syntax error while parsing: [X]N.[X]N.Cc1ccccc1\n",
      "RDKit ERROR: [13:02:02] SMILES Parse Error: Failed parsing SMILES '[X]N.[X]N.Cc1ccccc1' for input: '[X]N.[X]N.Cc1ccccc1'\n",
      "[13:02:02] SMILES Parse Error: Failed parsing SMILES '[X]N.[X]N.Cc1ccccc1' for input: '[X]N.[X]N.Cc1ccccc1'\n"
     ]
    },
    {
     "name": "stdout",
     "output_type": "stream",
     "text": [
      "Bad smiles string? For: Toluenediamine\n"
     ]
    },
    {
     "name": "stderr",
     "output_type": "stream",
     "text": [
      "RDKit ERROR: [13:02:04] SMILES Parse Error: syntax error while parsing: [X][N+](=O)[O-].[X][N+](=O)[O-].Cc1ccccc1\n",
      "[13:02:04] SMILES Parse Error: syntax error while parsing: [X][N+](=O)[O-].[X][N+](=O)[O-].Cc1ccccc1\n",
      "RDKit ERROR: [13:02:04] SMILES Parse Error: Failed parsing SMILES '[X][N+](=O)[O-].[X][N+](=O)[O-].Cc1ccccc1' for input: '[X][N+](=O)[O-].[X][N+](=O)[O-].Cc1ccccc1'\n",
      "[13:02:04] SMILES Parse Error: Failed parsing SMILES '[X][N+](=O)[O-].[X][N+](=O)[O-].Cc1ccccc1' for input: '[X][N+](=O)[O-].[X][N+](=O)[O-].Cc1ccccc1'\n"
     ]
    },
    {
     "name": "stdout",
     "output_type": "stream",
     "text": [
      "Bad smiles string? For: Dinitrotoluene\n"
     ]
    },
    {
     "name": "stderr",
     "output_type": "stream",
     "text": [
      "RDKit ERROR: [13:02:14] Explicit valence for atom # 4 C, 5, is greater than permitted\n",
      "[13:02:14] Explicit valence for atom # 4 C, 5, is greater than permitted\n"
     ]
    },
    {
     "name": "stdout",
     "output_type": "stream",
     "text": [
      "Bad smiles string? For: (Methylcyclopentadienyl)tricarbonylmanganese\n"
     ]
    },
    {
     "name": "stderr",
     "output_type": "stream",
     "text": [
      "RDKit ERROR: [13:02:14] SMILES Parse Error: syntax error while parsing: [X]C(C)C.CC(C)c1ccccc1\n",
      "[13:02:14] SMILES Parse Error: syntax error while parsing: [X]C(C)C.CC(C)c1ccccc1\n",
      "RDKit ERROR: [13:02:14] SMILES Parse Error: Failed parsing SMILES '[X]C(C)C.CC(C)c1ccccc1' for input: '[X]C(C)C.CC(C)c1ccccc1'\n",
      "[13:02:14] SMILES Parse Error: Failed parsing SMILES '[X]C(C)C.CC(C)c1ccccc1' for input: '[X]C(C)C.CC(C)c1ccccc1'\n"
     ]
    },
    {
     "name": "stdout",
     "output_type": "stream",
     "text": [
      "Bad smiles string? For: Diisopropylbenzene\n"
     ]
    }
   ],
   "source": [
    "for test in test_data:    \n",
    "    df = pd.read_csv(test)\n",
    "    for col_list in cols.values():\n",
    "        for col in col_list:\n",
    "            df[col] = \"unknown\"\n",
    "\n",
    "    df = df.apply(lambda x: inference(x), axis=1)\n",
    "    \n",
    "    df.to_csv(test.replace(\"data_tests/\", \"inference_results/skec/\"), index=False)"
   ]
  },
  {
   "cell_type": "code",
   "execution_count": null,
   "id": "b32af83a-680d-4862-9512-6db545a4bcc4",
   "metadata": {},
   "outputs": [],
   "source": []
  }
 ],
 "metadata": {
  "kernelspec": {
   "display_name": "Python 3 (ipykernel)",
   "language": "python",
   "name": "python3"
  },
  "language_info": {
   "codemirror_mode": {
    "name": "ipython",
    "version": 3
   },
   "file_extension": ".py",
   "mimetype": "text/x-python",
   "name": "python",
   "nbconvert_exporter": "python",
   "pygments_lexer": "ipython3",
   "version": "3.7.11"
  }
 },
 "nbformat": 4,
 "nbformat_minor": 5
}
