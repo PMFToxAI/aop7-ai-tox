{
 "cells": [
  {
   "cell_type": "code",
   "execution_count": null,
   "id": "c38222c0-06c8-4ed6-8619-7dbb52abaf9f",
   "metadata": {},
   "outputs": [],
   "source": [
    "# Ovaj fajl sprema za neuralni model (već korišćeni, Jeong et al.) naše eseje."
   ]
  },
  {
   "cell_type": "code",
   "execution_count": 4,
   "id": "08e3cd7b-3b05-4f3e-af0f-d8642fc4066f",
   "metadata": {},
   "outputs": [
    {
     "name": "stderr",
     "output_type": "stream",
     "text": [
      "/home/milosevicn/.local/lib/python3.7/site-packages/requests/__init__.py:91: RequestsDependencyWarning: urllib3 (1.26.7) or chardet (3.0.4) doesn't match a supported version!\n",
      "  RequestsDependencyWarning)\n"
     ]
    }
   ],
   "source": [
    "from tqdm import tqdm\n",
    "import requests\n",
    "import pandas as pd\n",
    "import numpy as np"
   ]
  },
  {
   "cell_type": "code",
   "execution_count": 2,
   "id": "b7c688d9-7dd5-4888-8613-ebc3ef7f1178",
   "metadata": {},
   "outputs": [],
   "source": [
    "assays = [\n",
    "    \"ATG_PPARg_TRANS_dn\", \n",
    "    \"ATG_PPARg_TRANS_up\", \n",
    "    \"TOX21_PPARg_BLA_antagonist_ratio\", \n",
    "    \"TOX21_PPARg_BLA_Agonist_ratio\", \n",
    "    \"NVS_NR_hPPARg\", \n",
    "    \"ERF_ENZ_hCYP19A1_dn\", \n",
    "    \"NVS_ADME_hCYP19A1\", \n",
    "    \"NVS_ADME_hCYP19A1_Activator\", \n",
    "    \"TOX21_Aromatase_Inhibition\", \n",
    "    \"CEETOX_H295R_ESTRADIOL_dn\", \n",
    "    \"CEETOX_H295R_ESTRADIOL_noMTC_dn\", \n",
    "    \"CEETOX_H295R_ESTRADIOL_noMTC_up\", \n",
    "    \"CEETOX_H295R_ESTRADIOL_up\", \n",
    "    \"CEETOX_H295R_ESTRONE_dn\", \n",
    "    \"CEETOX_H295R_ESTRONE_noMTC_dn\", \n",
    "    \"CEETOX_H295R_ESTRONE_noMTC_up\", \n",
    "    \"CEETOX_H295R_ESTRONE_up\"\n",
    "]\n"
   ]
  },
  {
   "cell_type": "code",
   "execution_count": 5,
   "id": "fdc74802-48d2-4b5f-bf65-ef2098096afe",
   "metadata": {},
   "outputs": [],
   "source": [
    "# Prepare for input to NN\n",
    "\n",
    "for assay in assays:\n",
    "    path = f\"data/{assay}.csv\"\n",
    "    df = pd.read_csv(path)\n",
    "    \n",
    "    df = df[[\"preferredName\", \"smiles\", \"hitc\"]]\n",
    "    df.columns = [\"Chemical name\", \"Smiles\", \"Type\"]\n",
    "    df[\"Type\"].replace({0: \"not_ligand\", 1: \"ligand\"}, inplace=True)\n",
    "    df.dropna(inplace=True)\n",
    "    \n",
    "    df.to_csv(f\"input/{assay}.csv\", sep=\"\\t\", index=False)"
   ]
  }
 ],
 "metadata": {
  "kernelspec": {
   "display_name": "Python 3 (ipykernel)",
   "language": "python",
   "name": "python3"
  },
  "language_info": {
   "codemirror_mode": {
    "name": "ipython",
    "version": 3
   },
   "file_extension": ".py",
   "mimetype": "text/x-python",
   "name": "python",
   "nbconvert_exporter": "python",
   "pygments_lexer": "ipython3",
   "version": "3.7.11"
  }
 },
 "nbformat": 4,
 "nbformat_minor": 5
}
