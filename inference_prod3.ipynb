{
 "cells": [
  {
   "cell_type": "code",
   "execution_count": 1,
   "id": "91c57b67-f697-4b0e-b990-57b536aaf96e",
   "metadata": {},
   "outputs": [
    {
     "name": "stderr",
     "output_type": "stream",
     "text": [
      "/home/milosevicn/.local/lib/python3.7/site-packages/requests/__init__.py:91: RequestsDependencyWarning: urllib3 (1.26.7) or chardet (3.0.4) doesn't match a supported version!\n",
      "  RequestsDependencyWarning)\n",
      "2023-01-29 16:38:57.407613: I tensorflow/stream_executor/platform/default/dso_loader.cc:49] Successfully opened dynamic library libcudart.so.10.1\n"
     ]
    }
   ],
   "source": [
    "from tqdm import tqdm\n",
    "import requests\n",
    "import pandas as pd\n",
    "import numpy as np\n",
    "\n",
    "from rdkit.Chem import AllChem\n",
    "from rdkit import DataStructs\n",
    "from rdkit.Chem import Draw\n",
    "from rdkit.Chem.Draw import SimilarityMaps\n",
    "from rdkit import Chem, DataStructs\n",
    "\n",
    "import tensorflow.keras as keras\n",
    "import tensorflow as tf\n",
    "from tensorflow.keras.models import Sequential\n",
    "from tensorflow.keras.layers import Dense, Dropout, Conv1D, Flatten, MaxPool1D\n",
    "\n",
    "from sklearn import preprocessing\n",
    "from sklearn.model_selection import train_test_split\n",
    "\n",
    "import matplotlib.pyplot as plt"
   ]
  },
  {
   "cell_type": "code",
   "execution_count": 2,
   "id": "bc1ca862-c660-4ab5-951d-dfc9e1e519d6",
   "metadata": {},
   "outputs": [
    {
     "name": "stderr",
     "output_type": "stream",
     "text": [
      "2023-01-29 16:38:59.482043: I tensorflow/compiler/jit/xla_cpu_device.cc:41] Not creating XLA devices, tf_xla_enable_xla_devices not set\n",
      "2023-01-29 16:38:59.482898: I tensorflow/stream_executor/platform/default/dso_loader.cc:49] Successfully opened dynamic library libcuda.so.1\n",
      "2023-01-29 16:38:59.926638: I tensorflow/stream_executor/cuda/cuda_gpu_executor.cc:941] successful NUMA node read from SysFS had negative value (-1), but there must be at least one NUMA node, so returning NUMA node zero\n",
      "2023-01-29 16:38:59.926897: I tensorflow/core/common_runtime/gpu/gpu_device.cc:1720] Found device 0 with properties: \n",
      "pciBusID: 0000:01:00.0 name: NVIDIA GeForce RTX 2070 SUPER computeCapability: 7.5\n",
      "coreClock: 1.815GHz coreCount: 40 deviceMemorySize: 7.79GiB deviceMemoryBandwidth: 417.29GiB/s\n",
      "2023-01-29 16:38:59.926938: I tensorflow/stream_executor/platform/default/dso_loader.cc:49] Successfully opened dynamic library libcudart.so.10.1\n",
      "2023-01-29 16:38:59.931328: I tensorflow/stream_executor/platform/default/dso_loader.cc:49] Successfully opened dynamic library libcublas.so.10\n",
      "2023-01-29 16:38:59.931387: I tensorflow/stream_executor/platform/default/dso_loader.cc:49] Successfully opened dynamic library libcublasLt.so.10\n",
      "2023-01-29 16:38:59.934899: I tensorflow/stream_executor/platform/default/dso_loader.cc:49] Successfully opened dynamic library libcufft.so.10\n",
      "2023-01-29 16:38:59.936050: I tensorflow/stream_executor/platform/default/dso_loader.cc:49] Successfully opened dynamic library libcurand.so.10\n",
      "2023-01-29 16:38:59.939586: I tensorflow/stream_executor/platform/default/dso_loader.cc:49] Successfully opened dynamic library libcusolver.so.10\n",
      "2023-01-29 16:38:59.941724: I tensorflow/stream_executor/platform/default/dso_loader.cc:49] Successfully opened dynamic library libcusparse.so.10\n",
      "2023-01-29 16:38:59.948494: I tensorflow/stream_executor/platform/default/dso_loader.cc:49] Successfully opened dynamic library libcudnn.so.7\n",
      "2023-01-29 16:38:59.948659: I tensorflow/stream_executor/cuda/cuda_gpu_executor.cc:941] successful NUMA node read from SysFS had negative value (-1), but there must be at least one NUMA node, so returning NUMA node zero\n",
      "2023-01-29 16:38:59.948954: I tensorflow/stream_executor/cuda/cuda_gpu_executor.cc:941] successful NUMA node read from SysFS had negative value (-1), but there must be at least one NUMA node, so returning NUMA node zero\n",
      "2023-01-29 16:38:59.949132: I tensorflow/core/common_runtime/gpu/gpu_device.cc:1862] Adding visible gpu devices: 0\n",
      "2023-01-29 16:38:59.949618: I tensorflow/core/platform/cpu_feature_guard.cc:142] This TensorFlow binary is optimized with oneAPI Deep Neural Network Library (oneDNN) to use the following CPU instructions in performance-critical operations:  SSE4.1 SSE4.2 AVX AVX2 FMA\n",
      "To enable them in other operations, rebuild TensorFlow with the appropriate compiler flags.\n",
      "2023-01-29 16:38:59.949914: I tensorflow/stream_executor/cuda/cuda_gpu_executor.cc:941] successful NUMA node read from SysFS had negative value (-1), but there must be at least one NUMA node, so returning NUMA node zero\n",
      "2023-01-29 16:38:59.950088: I tensorflow/core/common_runtime/gpu/gpu_device.cc:1720] Found device 0 with properties: \n",
      "pciBusID: 0000:01:00.0 name: NVIDIA GeForce RTX 2070 SUPER computeCapability: 7.5\n",
      "coreClock: 1.815GHz coreCount: 40 deviceMemorySize: 7.79GiB deviceMemoryBandwidth: 417.29GiB/s\n",
      "2023-01-29 16:38:59.950124: I tensorflow/stream_executor/platform/default/dso_loader.cc:49] Successfully opened dynamic library libcudart.so.10.1\n",
      "2023-01-29 16:38:59.950152: I tensorflow/stream_executor/platform/default/dso_loader.cc:49] Successfully opened dynamic library libcublas.so.10\n",
      "2023-01-29 16:38:59.950180: I tensorflow/stream_executor/platform/default/dso_loader.cc:49] Successfully opened dynamic library libcublasLt.so.10\n",
      "2023-01-29 16:38:59.950207: I tensorflow/stream_executor/platform/default/dso_loader.cc:49] Successfully opened dynamic library libcufft.so.10\n",
      "2023-01-29 16:38:59.950233: I tensorflow/stream_executor/platform/default/dso_loader.cc:49] Successfully opened dynamic library libcurand.so.10\n",
      "2023-01-29 16:38:59.950259: I tensorflow/stream_executor/platform/default/dso_loader.cc:49] Successfully opened dynamic library libcusolver.so.10\n",
      "2023-01-29 16:38:59.950286: I tensorflow/stream_executor/platform/default/dso_loader.cc:49] Successfully opened dynamic library libcusparse.so.10\n",
      "2023-01-29 16:38:59.950313: I tensorflow/stream_executor/platform/default/dso_loader.cc:49] Successfully opened dynamic library libcudnn.so.7\n",
      "2023-01-29 16:38:59.950402: I tensorflow/stream_executor/cuda/cuda_gpu_executor.cc:941] successful NUMA node read from SysFS had negative value (-1), but there must be at least one NUMA node, so returning NUMA node zero\n",
      "2023-01-29 16:38:59.950631: I tensorflow/stream_executor/cuda/cuda_gpu_executor.cc:941] successful NUMA node read from SysFS had negative value (-1), but there must be at least one NUMA node, so returning NUMA node zero\n",
      "2023-01-29 16:38:59.950772: I tensorflow/core/common_runtime/gpu/gpu_device.cc:1862] Adding visible gpu devices: 0\n",
      "2023-01-29 16:38:59.950816: I tensorflow/stream_executor/platform/default/dso_loader.cc:49] Successfully opened dynamic library libcudart.so.10.1\n",
      "2023-01-29 16:39:00.320049: I tensorflow/core/common_runtime/gpu/gpu_device.cc:1261] Device interconnect StreamExecutor with strength 1 edge matrix:\n",
      "2023-01-29 16:39:00.320074: I tensorflow/core/common_runtime/gpu/gpu_device.cc:1267]      0 \n",
      "2023-01-29 16:39:00.320082: I tensorflow/core/common_runtime/gpu/gpu_device.cc:1280] 0:   N \n",
      "2023-01-29 16:39:00.320252: I tensorflow/stream_executor/cuda/cuda_gpu_executor.cc:941] successful NUMA node read from SysFS had negative value (-1), but there must be at least one NUMA node, so returning NUMA node zero\n",
      "2023-01-29 16:39:00.320426: I tensorflow/stream_executor/cuda/cuda_gpu_executor.cc:941] successful NUMA node read from SysFS had negative value (-1), but there must be at least one NUMA node, so returning NUMA node zero\n",
      "2023-01-29 16:39:00.320572: I tensorflow/stream_executor/cuda/cuda_gpu_executor.cc:941] successful NUMA node read from SysFS had negative value (-1), but there must be at least one NUMA node, so returning NUMA node zero\n",
      "2023-01-29 16:39:00.320676: I tensorflow/core/common_runtime/gpu/gpu_device.cc:1406] Created TensorFlow device (/job:localhost/replica:0/task:0/device:GPU:0 with 7268 MB memory) -> physical GPU (device: 0, name: NVIDIA GeForce RTX 2070 SUPER, pci bus id: 0000:01:00.0, compute capability: 7.5)\n",
      "2023-01-29 16:39:00.320829: I tensorflow/compiler/jit/xla_gpu_device.cc:99] Not creating XLA devices, tf_xla_enable_xla_devices not set\n"
     ]
    }
   ],
   "source": [
    "models = dict()\n",
    "cols = dict()\n",
    "\n",
    "for model in [\"ke1\", \"ke2\", \"ke3\"]:\n",
    "    models[model] = keras.models.load_model(f\"models/skeec/nn_{model}.h5\")\n",
    "    cols[model] = [f\"{model}_na\", f\"{model}_dn\", f\"{model}_up\"]"
   ]
  },
  {
   "cell_type": "code",
   "execution_count": 3,
   "id": "0429a931-594f-4535-a6f8-bffc21005d93",
   "metadata": {},
   "outputs": [],
   "source": [
    "test_data = [\n",
    "    \"data_tests/Chemical List EDSP21LIST2-2021-12-28.csv\",\n",
    "    \"data_tests/Chemical List EDSPUOC-2022-06-16.csv\",\n",
    "    \"data_tests/Chemical List OSHA-2021-12-28.csv\",\n",
    "    \"data_tests/Chemical List UBAPMT-2021-12-28.csv\",\n",
    "    \"data_tests/Chemical List EDSP21LIST1-2021-12-28.csv\"    \n",
    "]"
   ]
  },
  {
   "cell_type": "code",
   "execution_count": 19,
   "id": "be7c80ce-ec43-48e7-b28a-07b77645df5c",
   "metadata": {},
   "outputs": [],
   "source": [
    "def inference(row):\n",
    "    try:\n",
    "        smiles = str(row[\"smiles\"])\n",
    "        mol = Chem.MolFromSmiles(smiles)\n",
    "        fp = AllChem.GetMorganFingerprintAsBitVect(mol, 2) # TODO: can replace morgan with other fingerprint!\n",
    "        arr = np.zeros((1,))\n",
    "        DataStructs.ConvertToNumpyArray(fp, arr)\n",
    "        \n",
    "        for model in [\"ke1\", \"ke2\", \"ke3\"]:\n",
    "            # conv:\n",
    "            arr = arr.reshape(-1, 2048, 1)\n",
    "            out = list(models[model].predict(arr).round()[0])\n",
    "            # fc:\n",
    "            # out = list(models[model].predict(arr.reshape(1, -1)).round()[0])\n",
    "            \n",
    "            #print(out)\n",
    "            \n",
    "            #print(tf.nn.softmax(out))\n",
    "            \n",
    "            clazz = np.argmax(tf.nn.softmax(out))\n",
    "            \n",
    "            out = [0, 0, 0]\n",
    "            out[clazz] = 1\n",
    "            \n",
    "            # print(out)\n",
    "            \n",
    "            for i, col in enumerate(cols[model]):\n",
    "                row[col] = int(out[i])\n",
    "        \n",
    "    except Exception as e:\n",
    "        # print(e)\n",
    "        print(\"Bad smiles string? For:\", row[\"PREFERRED NAME\"])\n",
    "        \n",
    "    return row"
   ]
  },
  {
   "cell_type": "code",
   "execution_count": 20,
   "id": "f729f3ab-3b6f-4f57-b7aa-e1b64a4d68c5",
   "metadata": {},
   "outputs": [
    {
     "name": "stdout",
     "output_type": "stream",
     "text": [
      "Bad smiles string? For: Polychlorinated biphenyls\n"
     ]
    },
    {
     "name": "stderr",
     "output_type": "stream",
     "text": [
      "RDKit ERROR: [18:59:32] SMILES Parse Error: syntax error while parsing: ['Rgp'][N+]1(CC)CCOCC1.CCOS(=O)(=O)[O-]\n",
      "[18:59:32] SMILES Parse Error: syntax error while parsing: ['Rgp'][N+]1(CC)CCOCC1.CCOS(=O)(=O)[O-]\n",
      "RDKit ERROR: [18:59:32] SMILES Parse Error: Failed parsing SMILES '['Rgp'][N+]1(CC)CCOCC1.CCOS(=O)(=O)[O-]' for input: '['Rgp'][N+]1(CC)CCOCC1.CCOS(=O)(=O)[O-]'\n",
      "[18:59:32] SMILES Parse Error: Failed parsing SMILES '['Rgp'][N+]1(CC)CCOCC1.CCOS(=O)(=O)[O-]' for input: '['Rgp'][N+]1(CC)CCOCC1.CCOS(=O)(=O)[O-]'\n"
     ]
    },
    {
     "name": "stdout",
     "output_type": "stream",
     "text": [
      "Bad smiles string? For: Onium compounds, morpholinium, 4-ethyl-4-soya alkyl, Et sulfates\n"
     ]
    },
    {
     "name": "stderr",
     "output_type": "stream",
     "text": [
      "RDKit ERROR: [18:59:41] SMILES Parse Error: syntax error while parsing: [X]C(C)C.c1ccc(cc1)c2ccccc2\n",
      "[18:59:41] SMILES Parse Error: syntax error while parsing: [X]C(C)C.c1ccc(cc1)c2ccccc2\n",
      "RDKit ERROR: [18:59:41] SMILES Parse Error: Failed parsing SMILES '[X]C(C)C.c1ccc(cc1)c2ccccc2' for input: '[X]C(C)C.c1ccc(cc1)c2ccccc2'\n",
      "[18:59:41] SMILES Parse Error: Failed parsing SMILES '[X]C(C)C.c1ccc(cc1)c2ccccc2' for input: '[X]C(C)C.c1ccc(cc1)c2ccccc2'\n"
     ]
    },
    {
     "name": "stdout",
     "output_type": "stream",
     "text": [
      "Bad smiles string? For: Isopropylbiphenyl\n"
     ]
    },
    {
     "name": "stderr",
     "output_type": "stream",
     "text": [
      "RDKit ERROR: [18:59:45] SMILES Parse Error: syntax error while parsing: [Cl-].['Rgp'][N+](C)(C)Cc1ccccc1\n",
      "[18:59:45] SMILES Parse Error: syntax error while parsing: [Cl-].['Rgp'][N+](C)(C)Cc1ccccc1\n",
      "RDKit ERROR: [18:59:45] SMILES Parse Error: Failed parsing SMILES '[Cl-].['Rgp'][N+](C)(C)Cc1ccccc1' for input: '[Cl-].['Rgp'][N+](C)(C)Cc1ccccc1'\n",
      "[18:59:45] SMILES Parse Error: Failed parsing SMILES '[Cl-].['Rgp'][N+](C)(C)Cc1ccccc1' for input: '[Cl-].['Rgp'][N+](C)(C)Cc1ccccc1'\n"
     ]
    },
    {
     "name": "stdout",
     "output_type": "stream",
     "text": [
      "Bad smiles string? For: Benzalkonium chloride\n"
     ]
    },
    {
     "name": "stderr",
     "output_type": "stream",
     "text": [
      "RDKit ERROR: [19:00:16] SMILES Parse Error: syntax error while parsing: [X]N.[X]N.Cc1ccccc1\n",
      "[19:00:16] SMILES Parse Error: syntax error while parsing: [X]N.[X]N.Cc1ccccc1\n",
      "RDKit ERROR: [19:00:16] SMILES Parse Error: Failed parsing SMILES '[X]N.[X]N.Cc1ccccc1' for input: '[X]N.[X]N.Cc1ccccc1'\n",
      "[19:00:16] SMILES Parse Error: Failed parsing SMILES '[X]N.[X]N.Cc1ccccc1' for input: '[X]N.[X]N.Cc1ccccc1'\n"
     ]
    },
    {
     "name": "stdout",
     "output_type": "stream",
     "text": [
      "Bad smiles string? For: Toluenediamine\n"
     ]
    },
    {
     "name": "stderr",
     "output_type": "stream",
     "text": [
      "RDKit ERROR: [19:00:26] SMILES Parse Error: syntax error while parsing: [X]C(C)C.[X]C(C)C.c1ccc2ccccc2c1\n",
      "[19:00:26] SMILES Parse Error: syntax error while parsing: [X]C(C)C.[X]C(C)C.c1ccc2ccccc2c1\n",
      "RDKit ERROR: [19:00:26] SMILES Parse Error: Failed parsing SMILES '[X]C(C)C.[X]C(C)C.c1ccc2ccccc2c1' for input: '[X]C(C)C.[X]C(C)C.c1ccc2ccccc2c1'\n",
      "[19:00:26] SMILES Parse Error: Failed parsing SMILES '[X]C(C)C.[X]C(C)C.c1ccc2ccccc2c1' for input: '[X]C(C)C.[X]C(C)C.c1ccc2ccccc2c1'\n"
     ]
    },
    {
     "name": "stdout",
     "output_type": "stream",
     "text": [
      "Bad smiles string? For: Diisopropylnaphthalene\n"
     ]
    },
    {
     "name": "stderr",
     "output_type": "stream",
     "text": [
      "RDKit ERROR: [19:00:30] SMILES Parse Error: syntax error while parsing: [X]OS(=O)(=O)O.N(c1ccccc1)c2ccc(cc2)C(=C3C=CC(=Nc4ccccc4)C=C3)c5ccc(Nc6ccccc6)cc5\n",
      "[19:00:30] SMILES Parse Error: syntax error while parsing: [X]OS(=O)(=O)O.N(c1ccccc1)c2ccc(cc2)C(=C3C=CC(=Nc4ccccc4)C=C3)c5ccc(Nc6ccccc6)cc5\n",
      "RDKit ERROR: [19:00:30] SMILES Parse Error: Failed parsing SMILES '[X]OS(=O)(=O)O.N(c1ccccc1)c2ccc(cc2)C(=C3C=CC(=Nc4ccccc4)C=C3)c5ccc(Nc6ccccc6)cc5' for input: '[X]OS(=O)(=O)O.N(c1ccccc1)c2ccc(cc2)C(=C3C=CC(=Nc4ccccc4)C=C3)c5ccc(Nc6ccccc6)cc5'\n",
      "[19:00:30] SMILES Parse Error: Failed parsing SMILES '[X]OS(=O)(=O)O.N(c1ccccc1)c2ccc(cc2)C(=C3C=CC(=Nc4ccccc4)C=C3)c5ccc(Nc6ccccc6)cc5' for input: '[X]OS(=O)(=O)O.N(c1ccccc1)c2ccc(cc2)C(=C3C=CC(=Nc4ccccc4)C=C3)c5ccc(Nc6ccccc6)cc5'\n"
     ]
    },
    {
     "name": "stdout",
     "output_type": "stream",
     "text": [
      "Bad smiles string? For: C.I. Pigment Blue 61\n",
      "Bad smiles string? For: 2-Ethylhexenal\n"
     ]
    },
    {
     "name": "stderr",
     "output_type": "stream",
     "text": [
      "RDKit WARNING: [19:00:43] WARNING: not removing hydrogen atom without neighbors\n",
      "[19:00:43] WARNING: not removing hydrogen atom without neighbors\n",
      "RDKit ERROR: [19:00:50] Explicit valence for atom # 3 Si, 8, is greater than permitted\n",
      "[19:00:50] Explicit valence for atom # 3 Si, 8, is greater than permitted\n"
     ]
    },
    {
     "name": "stdout",
     "output_type": "stream",
     "text": [
      "Bad smiles string? For: Sodium hexafluorosilicate\n"
     ]
    },
    {
     "name": "stderr",
     "output_type": "stream",
     "text": [
      "RDKit WARNING: [19:00:52] WARNING: not removing hydrogen atom without neighbors\n",
      "[19:00:52] WARNING: not removing hydrogen atom without neighbors\n",
      "RDKit ERROR: [19:01:12] Explicit valence for atom # 1 B, 7, is greater than permitted\n",
      "[19:01:12] Explicit valence for atom # 1 B, 7, is greater than permitted\n"
     ]
    },
    {
     "name": "stdout",
     "output_type": "stream",
     "text": [
      "Bad smiles string? For: Boron sodium hydride (BNaH4)\n"
     ]
    },
    {
     "name": "stderr",
     "output_type": "stream",
     "text": [
      "RDKit ERROR: [19:01:16] SMILES Parse Error: syntax error while parsing: ['Rgp'][N+](C)(C)[O-]\n",
      "[19:01:16] SMILES Parse Error: syntax error while parsing: ['Rgp'][N+](C)(C)[O-]\n",
      "RDKit ERROR: [19:01:16] SMILES Parse Error: Failed parsing SMILES '['Rgp'][N+](C)(C)[O-]' for input: '['Rgp'][N+](C)(C)[O-]'\n",
      "[19:01:16] SMILES Parse Error: Failed parsing SMILES '['Rgp'][N+](C)(C)[O-]' for input: '['Rgp'][N+](C)(C)[O-]'\n"
     ]
    },
    {
     "name": "stdout",
     "output_type": "stream",
     "text": [
      "Bad smiles string? For: C10-16-alkyldimethyl amine N-oxides\n"
     ]
    },
    {
     "name": "stderr",
     "output_type": "stream",
     "text": [
      "RDKit ERROR: [19:01:21] SMILES Parse Error: syntax error while parsing: ['Rgp']C(=O)OCC(COP(=O)([O-])OCC[N+](C)(C)C)OC(=O)['Rgp']\n",
      "[19:01:21] SMILES Parse Error: syntax error while parsing: ['Rgp']C(=O)OCC(COP(=O)([O-])OCC[N+](C)(C)C)OC(=O)['Rgp']\n",
      "RDKit ERROR: [19:01:21] SMILES Parse Error: Failed parsing SMILES '['Rgp']C(=O)OCC(COP(=O)([O-])OCC[N+](C)(C)C)OC(=O)['Rgp']' for input: '['Rgp']C(=O)OCC(COP(=O)([O-])OCC[N+](C)(C)C)OC(=O)['Rgp']'\n",
      "[19:01:21] SMILES Parse Error: Failed parsing SMILES '['Rgp']C(=O)OCC(COP(=O)([O-])OCC[N+](C)(C)C)OC(=O)['Rgp']' for input: '['Rgp']C(=O)OCC(COP(=O)([O-])OCC[N+](C)(C)C)OC(=O)['Rgp']'\n"
     ]
    },
    {
     "name": "stdout",
     "output_type": "stream",
     "text": [
      "Bad smiles string? For: Lecithin\n"
     ]
    },
    {
     "name": "stderr",
     "output_type": "stream",
     "text": [
      "RDKit ERROR: [19:01:24] SMILES Parse Error: syntax error while parsing: [X]C.C(Oc1ccccc1)C2CO2\n",
      "[19:01:24] SMILES Parse Error: syntax error while parsing: [X]C.C(Oc1ccccc1)C2CO2\n",
      "RDKit ERROR: [19:01:24] SMILES Parse Error: Failed parsing SMILES '[X]C.C(Oc1ccccc1)C2CO2' for input: '[X]C.C(Oc1ccccc1)C2CO2'\n",
      "[19:01:24] SMILES Parse Error: Failed parsing SMILES '[X]C.C(Oc1ccccc1)C2CO2' for input: '[X]C.C(Oc1ccccc1)C2CO2'\n"
     ]
    },
    {
     "name": "stdout",
     "output_type": "stream",
     "text": [
      "Bad smiles string? For: 2-[(Methylphenoxy)methyl]oxirane\n"
     ]
    },
    {
     "name": "stderr",
     "output_type": "stream",
     "text": [
      "RDKit ERROR: [19:01:26] SMILES Parse Error: syntax error while parsing: [X]C(C)C.[X]C(C)C.c1ccc(cc1)c2ccccc2\n",
      "[19:01:26] SMILES Parse Error: syntax error while parsing: [X]C(C)C.[X]C(C)C.c1ccc(cc1)c2ccccc2\n",
      "RDKit ERROR: [19:01:26] SMILES Parse Error: Failed parsing SMILES '[X]C(C)C.[X]C(C)C.c1ccc(cc1)c2ccccc2' for input: '[X]C(C)C.[X]C(C)C.c1ccc(cc1)c2ccccc2'\n",
      "[19:01:26] SMILES Parse Error: Failed parsing SMILES '[X]C(C)C.[X]C(C)C.c1ccc(cc1)c2ccccc2' for input: '[X]C(C)C.[X]C(C)C.c1ccc(cc1)c2ccccc2'\n"
     ]
    },
    {
     "name": "stdout",
     "output_type": "stream",
     "text": [
      "Bad smiles string? For: ar,ar'-Bis(1-methylethyl)-1,1'-biphenyl\n",
      "Bad smiles string? For: Polychlorinated biphenyls\n"
     ]
    },
    {
     "name": "stderr",
     "output_type": "stream",
     "text": [
      "RDKit ERROR: [19:01:48] Explicit valence for atom # 0 O, 3, is greater than permitted\n",
      "[19:01:48] Explicit valence for atom # 0 O, 3, is greater than permitted\n"
     ]
    },
    {
     "name": "stdout",
     "output_type": "stream",
     "text": [
      "Bad smiles string? For: Zinc pyrithione\n",
      "Bad smiles string? For: Bis[omega-hydrogenpoly(oxyethylene)]oleylamine\n"
     ]
    },
    {
     "name": "stderr",
     "output_type": "stream",
     "text": [
      "RDKit ERROR: [19:01:52] SMILES Parse Error: syntax error while parsing: ['Rgp']c1ccc(O)cc1\n",
      "[19:01:52] SMILES Parse Error: syntax error while parsing: ['Rgp']c1ccc(O)cc1\n",
      "RDKit ERROR: [19:01:52] SMILES Parse Error: Failed parsing SMILES '['Rgp']c1ccc(O)cc1' for input: '['Rgp']c1ccc(O)cc1'\n",
      "[19:01:52] SMILES Parse Error: Failed parsing SMILES '['Rgp']c1ccc(O)cc1' for input: '['Rgp']c1ccc(O)cc1'\n"
     ]
    },
    {
     "name": "stdout",
     "output_type": "stream",
     "text": [
      "Bad smiles string? For: 4-Nonylphenol, branched\n"
     ]
    },
    {
     "name": "stderr",
     "output_type": "stream",
     "text": [
      "RDKit ERROR: [19:01:53] Explicit valence for atom # 3 Sn, 8, is greater than permitted\n",
      "[19:01:53] Explicit valence for atom # 3 Sn, 8, is greater than permitted\n"
     ]
    },
    {
     "name": "stdout",
     "output_type": "stream",
     "text": [
      "Bad smiles string? For: Disodium stannate\n"
     ]
    },
    {
     "name": "stderr",
     "output_type": "stream",
     "text": [
      "RDKit ERROR: [19:01:57] SMILES Parse Error: syntax error while parsing: ['Rgp']NCCCN\n",
      "[19:01:57] SMILES Parse Error: syntax error while parsing: ['Rgp']NCCCN\n",
      "RDKit ERROR: [19:01:57] SMILES Parse Error: Failed parsing SMILES '['Rgp']NCCCN' for input: '['Rgp']NCCCN'\n",
      "[19:01:57] SMILES Parse Error: Failed parsing SMILES '['Rgp']NCCCN' for input: '['Rgp']NCCCN'\n"
     ]
    },
    {
     "name": "stdout",
     "output_type": "stream",
     "text": [
      "Bad smiles string? For: Amines, N-coco alkyltrimethylenedi-\n",
      "Bad smiles string? For: 1,3-Dimethylbenzene, benzylated\n"
     ]
    },
    {
     "name": "stderr",
     "output_type": "stream",
     "text": [
      "RDKit ERROR: [19:02:04] SMILES Parse Error: syntax error while parsing: [Cl-].[Cl-].[Cl-].[X]C.[X]C.[X]CCCCCCCCCCCC.[X]CCCCCCCCCCCC.[X]C[N+](C)(C)C.C[N+](C)(C)Cc1ccccc1.C[N+](C)(C)Cc2ccccc2\n",
      "[19:02:04] SMILES Parse Error: syntax error while parsing: [Cl-].[Cl-].[Cl-].[X]C.[X]C.[X]CCCCCCCCCCCC.[X]CCCCCCCCCCCC.[X]C[N+](C)(C)C.C[N+](C)(C)Cc1ccccc1.C[N+](C)(C)Cc2ccccc2\n",
      "RDKit ERROR: [19:02:04] SMILES Parse Error: Failed parsing SMILES '[Cl-].[Cl-].[Cl-].[X]C.[X]C.[X]CCCCCCCCCCCC.[X]CCCCCCCCCCCC.[X]C[N+](C)(C)C.C[N+](C)(C)Cc1ccccc1.C[N+](C)(C)Cc2ccccc2' for input: '[Cl-].[Cl-].[Cl-].[X]C.[X]C.[X]CCCCCCCCCCCC.[X]CCCCCCCCCCCC.[X]C[N+](C)(C)C.C[N+](C)(C)Cc1ccccc1.C[N+](C)(C)Cc2ccccc2'\n",
      "[19:02:04] SMILES Parse Error: Failed parsing SMILES '[Cl-].[Cl-].[Cl-].[X]C.[X]C.[X]CCCCCCCCCCCC.[X]CCCCCCCCCCCC.[X]C[N+](C)(C)C.C[N+](C)(C)Cc1ccccc1.C[N+](C)(C)Cc2ccccc2' for input: '[Cl-].[Cl-].[Cl-].[X]C.[X]C.[X]CCCCCCCCCCCC.[X]CCCCCCCCCCCC.[X]C[N+](C)(C)C.C[N+](C)(C)Cc1ccccc1.C[N+](C)(C)Cc2ccccc2'\n"
     ]
    },
    {
     "name": "stdout",
     "output_type": "stream",
     "text": [
      "Bad smiles string? For: Quaternium-11\n"
     ]
    },
    {
     "name": "stderr",
     "output_type": "stream",
     "text": [
      "RDKit ERROR: [19:02:16] SMILES Parse Error: syntax error while parsing: [X]O.CCCCCCCCCCC\n",
      "[19:02:16] SMILES Parse Error: syntax error while parsing: [X]O.CCCCCCCCCCC\n",
      "RDKit ERROR: [19:02:16] SMILES Parse Error: Failed parsing SMILES '[X]O.CCCCCCCCCCC' for input: '[X]O.CCCCCCCCCCC'\n",
      "[19:02:16] SMILES Parse Error: Failed parsing SMILES '[X]O.CCCCCCCCCCC' for input: '[X]O.CCCCCCCCCCC'\n"
     ]
    },
    {
     "name": "stdout",
     "output_type": "stream",
     "text": [
      "Bad smiles string? For: Undecanol\n"
     ]
    },
    {
     "name": "stderr",
     "output_type": "stream",
     "text": [
      "RDKit WARNING: [19:02:23] WARNING: not removing hydrogen atom without neighbors\n",
      "[19:02:23] WARNING: not removing hydrogen atom without neighbors\n",
      "RDKit ERROR: [19:02:23] Explicit valence for atom # 10 O, 3, is greater than permitted\n",
      "[19:02:23] Explicit valence for atom # 10 O, 3, is greater than permitted\n"
     ]
    },
    {
     "name": "stdout",
     "output_type": "stream",
     "text": [
      "Bad smiles string? For: C.I.Acid Green 35\n"
     ]
    },
    {
     "name": "stderr",
     "output_type": "stream",
     "text": [
      "RDKit ERROR: [19:02:36] Explicit valence for atom # 6 B, 5, is greater than permitted\n",
      "[19:02:36] Explicit valence for atom # 6 B, 5, is greater than permitted\n"
     ]
    },
    {
     "name": "stdout",
     "output_type": "stream",
     "text": [
      "Bad smiles string? For: Sodium perborate tetrahydrate\n"
     ]
    },
    {
     "name": "stderr",
     "output_type": "stream",
     "text": [
      "RDKit ERROR: [19:02:52] SMILES Parse Error: syntax error while parsing: CC(C)(c1ccc(OCC2CO2)cc1)c3ccc(OCC4CO4)cc3.[XH]\n",
      "[19:02:52] SMILES Parse Error: syntax error while parsing: CC(C)(c1ccc(OCC2CO2)cc1)c3ccc(OCC4CO4)cc3.[XH]\n",
      "RDKit ERROR: [19:02:52] SMILES Parse Error: Failed parsing SMILES 'CC(C)(c1ccc(OCC2CO2)cc1)c3ccc(OCC4CO4)cc3.[XH]' for input: 'CC(C)(c1ccc(OCC2CO2)cc1)c3ccc(OCC4CO4)cc3.[XH]'\n",
      "[19:02:52] SMILES Parse Error: Failed parsing SMILES 'CC(C)(c1ccc(OCC2CO2)cc1)c3ccc(OCC4CO4)cc3.[XH]' for input: 'CC(C)(c1ccc(OCC2CO2)cc1)c3ccc(OCC4CO4)cc3.[XH]'\n"
     ]
    },
    {
     "name": "stdout",
     "output_type": "stream",
     "text": [
      "Bad smiles string? For: Epoxy resin\n"
     ]
    },
    {
     "name": "stderr",
     "output_type": "stream",
     "text": [
      "RDKit ERROR: [19:02:55] Explicit valence for atom # 6 O, 3, is greater than permitted\n",
      "[19:02:55] Explicit valence for atom # 6 O, 3, is greater than permitted\n"
     ]
    },
    {
     "name": "stdout",
     "output_type": "stream",
     "text": [
      "Bad smiles string? For: Cobaltate(1-), [2,4-dihydro-4-[(2-hydroxy-5-nitrophenyl)azo]-5-methyl-2-phenyl-3H-pyrazol-3-onato(2-)][1-[(2-hydroxy-5-nitrophenyl)azo]-2-naphthalenolato(2-)]-, sodium\n"
     ]
    },
    {
     "name": "stderr",
     "output_type": "stream",
     "text": [
      "RDKit ERROR: [19:03:19] SMILES Parse Error: syntax error while parsing: [X]O.CCCCCCCCCCCCC\n",
      "[19:03:19] SMILES Parse Error: syntax error while parsing: [X]O.CCCCCCCCCCCCC\n",
      "RDKit ERROR: [19:03:19] SMILES Parse Error: Failed parsing SMILES '[X]O.CCCCCCCCCCCCC' for input: '[X]O.CCCCCCCCCCCCC'\n",
      "[19:03:19] SMILES Parse Error: Failed parsing SMILES '[X]O.CCCCCCCCCCCCC' for input: '[X]O.CCCCCCCCCCCCC'\n"
     ]
    },
    {
     "name": "stdout",
     "output_type": "stream",
     "text": [
      "Bad smiles string? For: Tridecanol\n"
     ]
    },
    {
     "name": "stderr",
     "output_type": "stream",
     "text": [
      "RDKit ERROR: [19:03:30] SMILES Parse Error: syntax error while parsing: [X]C.[X]C.SP(=S)(Oc1ccccc1)Oc2ccccc2\n",
      "[19:03:30] SMILES Parse Error: syntax error while parsing: [X]C.[X]C.SP(=S)(Oc1ccccc1)Oc2ccccc2\n",
      "RDKit ERROR: [19:03:30] SMILES Parse Error: Failed parsing SMILES '[X]C.[X]C.SP(=S)(Oc1ccccc1)Oc2ccccc2' for input: '[X]C.[X]C.SP(=S)(Oc1ccccc1)Oc2ccccc2'\n",
      "[19:03:30] SMILES Parse Error: Failed parsing SMILES '[X]C.[X]C.SP(=S)(Oc1ccccc1)Oc2ccccc2' for input: '[X]C.[X]C.SP(=S)(Oc1ccccc1)Oc2ccccc2'\n"
     ]
    },
    {
     "name": "stdout",
     "output_type": "stream",
     "text": [
      "Bad smiles string? For: O,O-Ditolyl phosphorodithioate\n"
     ]
    },
    {
     "name": "stderr",
     "output_type": "stream",
     "text": [
      "RDKit ERROR: [19:03:44] Can't kekulize mol.  Unkekulized atoms: 1 2 3 4 5\n",
      "[19:03:44] Can't kekulize mol.  Unkekulized atoms: 1 2 3 4 5\n",
      "\n",
      "RDKit ERROR: \n"
     ]
    },
    {
     "name": "stdout",
     "output_type": "stream",
     "text": [
      "Bad smiles string? For: Ferrocene\n"
     ]
    },
    {
     "name": "stderr",
     "output_type": "stream",
     "text": [
      "RDKit ERROR: [19:04:00] Can't kekulize mol.  Unkekulized atoms: 3 4 5 6 7\n",
      "[19:04:00] Can't kekulize mol.  Unkekulized atoms: 3 4 5 6 7\n",
      "\n",
      "RDKit ERROR: \n"
     ]
    },
    {
     "name": "stdout",
     "output_type": "stream",
     "text": [
      "Bad smiles string? For: Titanocene dichloride\n"
     ]
    },
    {
     "name": "stderr",
     "output_type": "stream",
     "text": [
      "RDKit ERROR: [19:04:13] SMILES Parse Error: syntax error while parsing: [X]C.[X]C.CCCCCCCOC(=O)CCCCC(=O)OCCCCCCC\n",
      "[19:04:13] SMILES Parse Error: syntax error while parsing: [X]C.[X]C.CCCCCCCOC(=O)CCCCC(=O)OCCCCCCC\n",
      "RDKit ERROR: [19:04:13] SMILES Parse Error: Failed parsing SMILES '[X]C.[X]C.CCCCCCCOC(=O)CCCCC(=O)OCCCCCCC' for input: '[X]C.[X]C.CCCCCCCOC(=O)CCCCC(=O)OCCCCCCC'\n",
      "[19:04:13] SMILES Parse Error: Failed parsing SMILES '[X]C.[X]C.CCCCCCCOC(=O)CCCCC(=O)OCCCCCCC' for input: '[X]C.[X]C.CCCCCCCOC(=O)CCCCC(=O)OCCCCCCC'\n"
     ]
    },
    {
     "name": "stdout",
     "output_type": "stream",
     "text": [
      "Bad smiles string? For: Diisooctyl adipate\n"
     ]
    },
    {
     "name": "stderr",
     "output_type": "stream",
     "text": [
      "RDKit ERROR: [19:04:13] Explicit valence for atom # 2 O, 3, is greater than permitted\n",
      "[19:04:13] Explicit valence for atom # 2 O, 3, is greater than permitted\n"
     ]
    },
    {
     "name": "stdout",
     "output_type": "stream",
     "text": [
      "Bad smiles string? For: (Diethyl ether)trifluoroborane\n"
     ]
    },
    {
     "name": "stderr",
     "output_type": "stream",
     "text": [
      "RDKit ERROR: [19:04:17] SMILES Parse Error: syntax error while parsing: [X]CCCCCCCCCCCC.OS(=O)(=O)c1ccccc1\n",
      "[19:04:17] SMILES Parse Error: syntax error while parsing: [X]CCCCCCCCCCCC.OS(=O)(=O)c1ccccc1\n",
      "RDKit ERROR: [19:04:17] SMILES Parse Error: Failed parsing SMILES '[X]CCCCCCCCCCCC.OS(=O)(=O)c1ccccc1' for input: '[X]CCCCCCCCCCCC.OS(=O)(=O)c1ccccc1'\n",
      "[19:04:17] SMILES Parse Error: Failed parsing SMILES '[X]CCCCCCCCCCCC.OS(=O)(=O)c1ccccc1' for input: '[X]CCCCCCCCCCCC.OS(=O)(=O)c1ccccc1'\n"
     ]
    },
    {
     "name": "stdout",
     "output_type": "stream",
     "text": [
      "Bad smiles string? For: Potassium dodecylbenzenesulfonate\n"
     ]
    },
    {
     "name": "stderr",
     "output_type": "stream",
     "text": [
      "RDKit ERROR: [19:04:35] SMILES Parse Error: syntax error while parsing: [Na+].['Rgp']N(C)CCS(=O)(=O)[O-]\n",
      "[19:04:35] SMILES Parse Error: syntax error while parsing: [Na+].['Rgp']N(C)CCS(=O)(=O)[O-]\n",
      "RDKit ERROR: [19:04:35] SMILES Parse Error: Failed parsing SMILES '[Na+].['Rgp']N(C)CCS(=O)(=O)[O-]' for input: '[Na+].['Rgp']N(C)CCS(=O)(=O)[O-]'\n",
      "[19:04:35] SMILES Parse Error: Failed parsing SMILES '[Na+].['Rgp']N(C)CCS(=O)(=O)[O-]' for input: '[Na+].['Rgp']N(C)CCS(=O)(=O)[O-]'\n"
     ]
    },
    {
     "name": "stdout",
     "output_type": "stream",
     "text": [
      "Bad smiles string? For: Ethanesulfonic acid, 2-(methylamino)-, N-tall-oil fatty acyl derivs., sodium salts\n"
     ]
    },
    {
     "name": "stderr",
     "output_type": "stream",
     "text": [
      "RDKit WARNING: [19:04:47] WARNING: not removing hydrogen atom without neighbors\n",
      "[19:04:47] WARNING: not removing hydrogen atom without neighbors\n"
     ]
    },
    {
     "name": "stdout",
     "output_type": "stream",
     "text": [
      "Bad smiles string? For: Diethoxylated methyl glucopyranoside 2,6-dioleate\n"
     ]
    },
    {
     "name": "stderr",
     "output_type": "stream",
     "text": [
      "RDKit ERROR: [19:04:55] SMILES Parse Error: syntax error while parsing: [X]C(C)CCCCCC.[X][N+](=O)[O-].C\\C=C\\C(=O)Oc1ccccc1[N+](=O)[O-]\n",
      "[19:04:55] SMILES Parse Error: syntax error while parsing: [X]C(C)CCCCCC.[X][N+](=O)[O-].C\\C=C\\C(=O)Oc1ccccc1[N+](=O)[O-]\n",
      "RDKit ERROR: [19:04:55] SMILES Parse Error: Failed parsing SMILES '[X]C(C)CCCCCC.[X][N+](=O)[O-].C\\C=C\\C(=O)Oc1ccccc1[N+](=O)[O-]' for input: '[X]C(C)CCCCCC.[X][N+](=O)[O-].C\\C=C\\C(=O)Oc1ccccc1[N+](=O)[O-]'\n",
      "[19:04:55] SMILES Parse Error: Failed parsing SMILES '[X]C(C)CCCCCC.[X][N+](=O)[O-].C\\C=C\\C(=O)Oc1ccccc1[N+](=O)[O-]' for input: '[X]C(C)CCCCCC.[X][N+](=O)[O-].C\\C=C\\C(=O)Oc1ccccc1[N+](=O)[O-]'\n"
     ]
    },
    {
     "name": "stdout",
     "output_type": "stream",
     "text": [
      "Bad smiles string? For: Dinocap\n"
     ]
    },
    {
     "name": "stderr",
     "output_type": "stream",
     "text": [
      "RDKit ERROR: [19:05:00] SMILES Parse Error: syntax error while parsing: [X]F.FC(F)C(F)Cl\n",
      "[19:05:00] SMILES Parse Error: syntax error while parsing: [X]F.FC(F)C(F)Cl\n",
      "RDKit ERROR: [19:05:00] SMILES Parse Error: Failed parsing SMILES '[X]F.FC(F)C(F)Cl' for input: '[X]F.FC(F)C(F)Cl'\n",
      "[19:05:00] SMILES Parse Error: Failed parsing SMILES '[X]F.FC(F)C(F)Cl' for input: '[X]F.FC(F)C(F)Cl'\n"
     ]
    },
    {
     "name": "stdout",
     "output_type": "stream",
     "text": [
      "Bad smiles string? For: Chlorotetrafluoroethane\n"
     ]
    },
    {
     "name": "stderr",
     "output_type": "stream",
     "text": [
      "RDKit ERROR: [19:05:05] SMILES Parse Error: syntax error while parsing: [X]C.CCCCCCCO\n",
      "[19:05:05] SMILES Parse Error: syntax error while parsing: [X]C.CCCCCCCO\n",
      "RDKit ERROR: [19:05:05] SMILES Parse Error: Failed parsing SMILES '[X]C.CCCCCCCO' for input: '[X]C.CCCCCCCO'\n",
      "[19:05:05] SMILES Parse Error: Failed parsing SMILES '[X]C.CCCCCCCO' for input: '[X]C.CCCCCCCO'\n"
     ]
    },
    {
     "name": "stdout",
     "output_type": "stream",
     "text": [
      "Bad smiles string? For: Isooctanol\n"
     ]
    },
    {
     "name": "stderr",
     "output_type": "stream",
     "text": [
      "RDKit ERROR: [19:05:06] SMILES Parse Error: syntax error while parsing: [Ca+2].[X]CCCCCCCCCCCC.[X]CCCCCCCCCCCC.[O-]S(=O)(=O)c1ccccc1.[O-]S(=O)(=O)c2ccccc2\n",
      "[19:05:06] SMILES Parse Error: syntax error while parsing: [Ca+2].[X]CCCCCCCCCCCC.[X]CCCCCCCCCCCC.[O-]S(=O)(=O)c1ccccc1.[O-]S(=O)(=O)c2ccccc2\n",
      "RDKit ERROR: [19:05:06] SMILES Parse Error: Failed parsing SMILES '[Ca+2].[X]CCCCCCCCCCCC.[X]CCCCCCCCCCCC.[O-]S(=O)(=O)c1ccccc1.[O-]S(=O)(=O)c2ccccc2' for input: '[Ca+2].[X]CCCCCCCCCCCC.[X]CCCCCCCCCCCC.[O-]S(=O)(=O)c1ccccc1.[O-]S(=O)(=O)c2ccccc2'\n",
      "[19:05:06] SMILES Parse Error: Failed parsing SMILES '[Ca+2].[X]CCCCCCCCCCCC.[X]CCCCCCCCCCCC.[O-]S(=O)(=O)c1ccccc1.[O-]S(=O)(=O)c2ccccc2' for input: '[Ca+2].[X]CCCCCCCCCCCC.[X]CCCCCCCCCCCC.[O-]S(=O)(=O)c1ccccc1.[O-]S(=O)(=O)c2ccccc2'\n"
     ]
    },
    {
     "name": "stdout",
     "output_type": "stream",
     "text": [
      "Bad smiles string? For: Calcium dodecylbenzene sulfonate\n"
     ]
    },
    {
     "name": "stderr",
     "output_type": "stream",
     "text": [
      "RDKit WARNING: [19:05:35] WARNING: not removing hydrogen atom without neighbors\n",
      "[19:05:35] WARNING: not removing hydrogen atom without neighbors\n",
      "RDKit ERROR: [19:05:36] Explicit valence for atom # 3 F, 2, is greater than permitted\n",
      "[19:05:36] Explicit valence for atom # 3 F, 2, is greater than permitted\n"
     ]
    },
    {
     "name": "stdout",
     "output_type": "stream",
     "text": [
      "Bad smiles string? For: Cryolite\n",
      "Bad smiles string? For: Pentene\n",
      "Bad smiles string? For: Sodium bis[2,4-dihydro-4-[(2-hydroxy-5-nitrophenyl)azo]-5-methyl-2-phenyl-3H-pyrazol-3-onato(2-)]cobaltate(1-)\n"
     ]
    },
    {
     "name": "stderr",
     "output_type": "stream",
     "text": [
      "RDKit ERROR: [19:07:38] Explicit valence for atom # 9 N, 4, is greater than permitted\n",
      "[19:07:38] Explicit valence for atom # 9 N, 4, is greater than permitted\n"
     ]
    },
    {
     "name": "stdout",
     "output_type": "stream",
     "text": [
      "Bad smiles string? For: Copper phthalocyanine\n"
     ]
    },
    {
     "name": "stderr",
     "output_type": "stream",
     "text": [
      "RDKit ERROR: [19:07:42] Explicit valence for atom # 6 O, 3, is greater than permitted\n",
      "[19:07:42] Explicit valence for atom # 6 O, 3, is greater than permitted\n"
     ]
    },
    {
     "name": "stdout",
     "output_type": "stream",
     "text": [
      "Bad smiles string? For: C.I. Acid Red 186\n"
     ]
    },
    {
     "name": "stderr",
     "output_type": "stream",
     "text": [
      "RDKit ERROR: [19:08:00] SMILES Parse Error: syntax error while parsing: [X]C.CCCCCCCO\n",
      "[19:08:00] SMILES Parse Error: syntax error while parsing: [X]C.CCCCCCCO\n",
      "RDKit ERROR: [19:08:00] SMILES Parse Error: Failed parsing SMILES '[X]C.CCCCCCCO' for input: '[X]C.CCCCCCCO'\n",
      "[19:08:00] SMILES Parse Error: Failed parsing SMILES '[X]C.CCCCCCCO' for input: '[X]C.CCCCCCCO'\n"
     ]
    },
    {
     "name": "stdout",
     "output_type": "stream",
     "text": [
      "Bad smiles string? For: Isooctanol\n"
     ]
    },
    {
     "name": "stderr",
     "output_type": "stream",
     "text": [
      "RDKit WARNING: [19:08:03] WARNING: not removing hydrogen atom without neighbors\n",
      "[19:08:03] WARNING: not removing hydrogen atom without neighbors\n",
      "RDKit ERROR: [19:08:04] SMILES Parse Error: syntax error while parsing: [X][N+](=O)[O-].[O-][N+](=O)c1ccccc1\n",
      "[19:08:04] SMILES Parse Error: syntax error while parsing: [X][N+](=O)[O-].[O-][N+](=O)c1ccccc1\n",
      "RDKit ERROR: [19:08:04] SMILES Parse Error: Failed parsing SMILES '[X][N+](=O)[O-].[O-][N+](=O)c1ccccc1' for input: '[X][N+](=O)[O-].[O-][N+](=O)c1ccccc1'\n",
      "[19:08:04] SMILES Parse Error: Failed parsing SMILES '[X][N+](=O)[O-].[O-][N+](=O)c1ccccc1' for input: '[X][N+](=O)[O-].[O-][N+](=O)c1ccccc1'\n"
     ]
    },
    {
     "name": "stdout",
     "output_type": "stream",
     "text": [
      "Bad smiles string? For: Dinitrobenzene (all isomers)\n"
     ]
    },
    {
     "name": "stderr",
     "output_type": "stream",
     "text": [
      "RDKit ERROR: [19:08:05] Explicit valence for atom # 0 B, 4, is greater than permitted\n",
      "[19:08:05] Explicit valence for atom # 0 B, 4, is greater than permitted\n"
     ]
    },
    {
     "name": "stdout",
     "output_type": "stream",
     "text": [
      "Bad smiles string? For: Diborane\n"
     ]
    },
    {
     "name": "stderr",
     "output_type": "stream",
     "text": [
      "RDKit ERROR: [19:08:08] SMILES Parse Error: syntax error while parsing: [X][N+](=O)[O-].[X][N+](=O)[O-].Cc1ccccc1\n",
      "[19:08:08] SMILES Parse Error: syntax error while parsing: [X][N+](=O)[O-].[X][N+](=O)[O-].Cc1ccccc1\n",
      "RDKit ERROR: [19:08:08] SMILES Parse Error: Failed parsing SMILES '[X][N+](=O)[O-].[X][N+](=O)[O-].Cc1ccccc1' for input: '[X][N+](=O)[O-].[X][N+](=O)[O-].Cc1ccccc1'\n",
      "[19:08:08] SMILES Parse Error: Failed parsing SMILES '[X][N+](=O)[O-].[X][N+](=O)[O-].Cc1ccccc1' for input: '[X][N+](=O)[O-].[X][N+](=O)[O-].Cc1ccccc1'\n"
     ]
    },
    {
     "name": "stdout",
     "output_type": "stream",
     "text": [
      "Bad smiles string? For: Dinitrotoluene\n"
     ]
    },
    {
     "name": "stderr",
     "output_type": "stream",
     "text": [
      "RDKit WARNING: [19:08:36] WARNING: not removing hydrogen atom without neighbors\n",
      "[19:08:36] WARNING: not removing hydrogen atom without neighbors\n",
      "RDKit ERROR: [19:08:41] Explicit valence for atom # 4 C, 5, is greater than permitted\n",
      "[19:08:41] Explicit valence for atom # 4 C, 5, is greater than permitted\n"
     ]
    },
    {
     "name": "stdout",
     "output_type": "stream",
     "text": [
      "Bad smiles string? For: (Methylcyclopentadienyl)tricarbonylmanganese\n"
     ]
    },
    {
     "name": "stderr",
     "output_type": "stream",
     "text": [
      "RDKit ERROR: [19:08:51] SMILES Parse Error: syntax error while parsing: [X]N.[X]N.Cc1ccccc1\n",
      "[19:08:51] SMILES Parse Error: syntax error while parsing: [X]N.[X]N.Cc1ccccc1\n",
      "RDKit ERROR: [19:08:51] SMILES Parse Error: Failed parsing SMILES '[X]N.[X]N.Cc1ccccc1' for input: '[X]N.[X]N.Cc1ccccc1'\n",
      "[19:08:51] SMILES Parse Error: Failed parsing SMILES '[X]N.[X]N.Cc1ccccc1' for input: '[X]N.[X]N.Cc1ccccc1'\n"
     ]
    },
    {
     "name": "stdout",
     "output_type": "stream",
     "text": [
      "Bad smiles string? For: Toluenediamine\n"
     ]
    },
    {
     "name": "stderr",
     "output_type": "stream",
     "text": [
      "RDKit ERROR: [19:08:54] SMILES Parse Error: syntax error while parsing: [X][N+](=O)[O-].[X][N+](=O)[O-].Cc1ccccc1\n",
      "[19:08:54] SMILES Parse Error: syntax error while parsing: [X][N+](=O)[O-].[X][N+](=O)[O-].Cc1ccccc1\n",
      "RDKit ERROR: [19:08:54] SMILES Parse Error: Failed parsing SMILES '[X][N+](=O)[O-].[X][N+](=O)[O-].Cc1ccccc1' for input: '[X][N+](=O)[O-].[X][N+](=O)[O-].Cc1ccccc1'\n",
      "[19:08:54] SMILES Parse Error: Failed parsing SMILES '[X][N+](=O)[O-].[X][N+](=O)[O-].Cc1ccccc1' for input: '[X][N+](=O)[O-].[X][N+](=O)[O-].Cc1ccccc1'\n"
     ]
    },
    {
     "name": "stdout",
     "output_type": "stream",
     "text": [
      "Bad smiles string? For: Dinitrotoluene\n"
     ]
    },
    {
     "name": "stderr",
     "output_type": "stream",
     "text": [
      "RDKit ERROR: [19:09:03] Explicit valence for atom # 4 C, 5, is greater than permitted\n",
      "[19:09:03] Explicit valence for atom # 4 C, 5, is greater than permitted\n"
     ]
    },
    {
     "name": "stdout",
     "output_type": "stream",
     "text": [
      "Bad smiles string? For: (Methylcyclopentadienyl)tricarbonylmanganese\n"
     ]
    },
    {
     "name": "stderr",
     "output_type": "stream",
     "text": [
      "RDKit ERROR: [19:09:04] SMILES Parse Error: syntax error while parsing: [X]C(C)C.CC(C)c1ccccc1\n",
      "[19:09:04] SMILES Parse Error: syntax error while parsing: [X]C(C)C.CC(C)c1ccccc1\n",
      "RDKit ERROR: [19:09:04] SMILES Parse Error: Failed parsing SMILES '[X]C(C)C.CC(C)c1ccccc1' for input: '[X]C(C)C.CC(C)c1ccccc1'\n",
      "[19:09:04] SMILES Parse Error: Failed parsing SMILES '[X]C(C)C.CC(C)c1ccccc1' for input: '[X]C(C)C.CC(C)c1ccccc1'\n"
     ]
    },
    {
     "name": "stdout",
     "output_type": "stream",
     "text": [
      "Bad smiles string? For: Diisopropylbenzene\n"
     ]
    }
   ],
   "source": [
    "for test in test_data:    \n",
    "    df = pd.read_csv(test)\n",
    "    for col_list in cols.values():\n",
    "        for col in col_list:\n",
    "            df[col] = \"unknown\"\n",
    "\n",
    "    df = df.apply(lambda x: inference(x), axis=1)\n",
    "    \n",
    "    df.to_csv(test.replace(\"data_tests/\", \"inference_results/skeec/\"), index=False)"
   ]
  },
  {
   "cell_type": "code",
   "execution_count": 4,
   "id": "b32af83a-680d-4862-9512-6db545a4bcc4",
   "metadata": {},
   "outputs": [],
   "source": [
    "dfs = []\n",
    "\n",
    "for f in test_data:\n",
    "    df = pd.read_csv(f.replace(\"data_tests/\", \"inference_results/skeec/\"))\n",
    "    df[\"Database\"] = f.split(\"/\")[-1].replace(\".csv\", \"\").replace(\"Chemical List \", \"\")\n",
    "    df[\"Use category\"] = \"\"\n",
    "    df = df[[\"casrn\", \"PREFERRED NAME\", \"Database\", \"Use category\", \"ke1_na\", \"ke1_dn\", \"ke1_up\", \"ke2_na\", \"ke2_dn\", \"ke2_up\", \"ke3_na\", \"ke3_dn\", \"ke3_up\", \"# ToxCast Active\"]]\n",
    "    \n",
    "    def process(df, ke_name):\n",
    "        df[ke_name] = \"\"\n",
    "        df[ke_name] = np.where(df[f\"{ke_name}_na\"].astype(\"string\") == \"1\", \"NA\", df[ke_name])    \n",
    "        df[ke_name] = np.where(df[f\"{ke_name}_up\"].astype(\"string\") == \"1\", \"Up\", df[ke_name])\n",
    "        df[ke_name] = np.where(df[f\"{ke_name}_dn\"].astype(\"string\") == \"1\", \"Down\", df[ke_name])    \n",
    "        df[ke_name] = np.where(df[f\"{ke_name}_dn\"].astype(\"string\") == \"unknown\", \"Unknown\", df[ke_name])\n",
    "        del df[f\"{ke_name}_na\"], df[f\"{ke_name}_dn\"], df[f\"{ke_name}_up\"]\n",
    "\n",
    "    process(df, \"ke1\")\n",
    "    process(df, \"ke2\")\n",
    "    process(df, \"ke3\")\n",
    "    \n",
    "        \n",
    "    dfs.append(df)"
   ]
  },
  {
   "cell_type": "code",
   "execution_count": 5,
   "id": "c116fe3b-4634-4518-b124-4071d07db16e",
   "metadata": {},
   "outputs": [
    {
     "data": {
      "text/html": [
       "<div>\n",
       "<style scoped>\n",
       "    .dataframe tbody tr th:only-of-type {\n",
       "        vertical-align: middle;\n",
       "    }\n",
       "\n",
       "    .dataframe tbody tr th {\n",
       "        vertical-align: top;\n",
       "    }\n",
       "\n",
       "    .dataframe thead th {\n",
       "        text-align: right;\n",
       "    }\n",
       "</style>\n",
       "<table border=\"1\" class=\"dataframe\">\n",
       "  <thead>\n",
       "    <tr style=\"text-align: right;\">\n",
       "      <th></th>\n",
       "      <th>casrn</th>\n",
       "      <th>PREFERRED NAME</th>\n",
       "      <th>Database</th>\n",
       "      <th>Use category</th>\n",
       "      <th># ToxCast Active</th>\n",
       "      <th>ke1</th>\n",
       "      <th>ke2</th>\n",
       "      <th>ke3</th>\n",
       "    </tr>\n",
       "  </thead>\n",
       "  <tbody>\n",
       "    <tr>\n",
       "      <th>0</th>\n",
       "      <td>1861-40-1</td>\n",
       "      <td>Benfluralin</td>\n",
       "      <td>EDSP21LIST1-2021-12-28</td>\n",
       "      <td></td>\n",
       "      <td>90/965</td>\n",
       "      <td>NA</td>\n",
       "      <td>Down</td>\n",
       "      <td>NA</td>\n",
       "    </tr>\n",
       "    <tr>\n",
       "      <th>1</th>\n",
       "      <td>950-37-8</td>\n",
       "      <td>Methidathion</td>\n",
       "      <td>EDSP21LIST1-2021-12-28</td>\n",
       "      <td></td>\n",
       "      <td>90/990</td>\n",
       "      <td>Up</td>\n",
       "      <td>NA</td>\n",
       "      <td>Down</td>\n",
       "    </tr>\n",
       "    <tr>\n",
       "      <th>2</th>\n",
       "      <td>298-04-4</td>\n",
       "      <td>Disulfoton</td>\n",
       "      <td>EDSP21LIST1-2021-12-28</td>\n",
       "      <td></td>\n",
       "      <td>85/981</td>\n",
       "      <td>NA</td>\n",
       "      <td>NA</td>\n",
       "      <td>NA</td>\n",
       "    </tr>\n",
       "    <tr>\n",
       "      <th>3</th>\n",
       "      <td>117-81-7</td>\n",
       "      <td>Di(2-ethylhexyl) phthalate</td>\n",
       "      <td>EDSP21LIST1-2021-12-28</td>\n",
       "      <td></td>\n",
       "      <td>103/1150</td>\n",
       "      <td>Up</td>\n",
       "      <td>Down</td>\n",
       "      <td>NA</td>\n",
       "    </tr>\n",
       "    <tr>\n",
       "      <th>4</th>\n",
       "      <td>90-43-7</td>\n",
       "      <td>2-Phenylphenol</td>\n",
       "      <td>EDSP21LIST1-2021-12-28</td>\n",
       "      <td></td>\n",
       "      <td>77/990</td>\n",
       "      <td>NA</td>\n",
       "      <td>Down</td>\n",
       "      <td>NA</td>\n",
       "    </tr>\n",
       "    <tr>\n",
       "      <th>...</th>\n",
       "      <td>...</td>\n",
       "      <td>...</td>\n",
       "      <td>...</td>\n",
       "      <td>...</td>\n",
       "      <td>...</td>\n",
       "      <td>...</td>\n",
       "      <td>...</td>\n",
       "      <td>...</td>\n",
       "    </tr>\n",
       "    <tr>\n",
       "      <th>62</th>\n",
       "      <td>84-66-2</td>\n",
       "      <td>Diethyl phthalate</td>\n",
       "      <td>EDSP21LIST1-2021-12-28</td>\n",
       "      <td></td>\n",
       "      <td>11/880</td>\n",
       "      <td>NA</td>\n",
       "      <td>NA</td>\n",
       "      <td>Up</td>\n",
       "    </tr>\n",
       "    <tr>\n",
       "      <th>63</th>\n",
       "      <td>108-88-3</td>\n",
       "      <td>Toluene</td>\n",
       "      <td>EDSP21LIST1-2021-12-28</td>\n",
       "      <td></td>\n",
       "      <td>0/235</td>\n",
       "      <td>NA</td>\n",
       "      <td>NA</td>\n",
       "      <td>NA</td>\n",
       "    </tr>\n",
       "    <tr>\n",
       "      <th>64</th>\n",
       "      <td>1071-83-6</td>\n",
       "      <td>Glyphosate</td>\n",
       "      <td>EDSP21LIST1-2021-12-28</td>\n",
       "      <td></td>\n",
       "      <td>0/52</td>\n",
       "      <td>NA</td>\n",
       "      <td>NA</td>\n",
       "      <td>NA</td>\n",
       "    </tr>\n",
       "    <tr>\n",
       "      <th>65</th>\n",
       "      <td>67-64-1</td>\n",
       "      <td>Acetone</td>\n",
       "      <td>EDSP21LIST1-2021-12-28</td>\n",
       "      <td></td>\n",
       "      <td>1/235</td>\n",
       "      <td>NA</td>\n",
       "      <td>NA</td>\n",
       "      <td>NA</td>\n",
       "    </tr>\n",
       "    <tr>\n",
       "      <th>66</th>\n",
       "      <td>13356-08-6</td>\n",
       "      <td>Fenbutatin oxide</td>\n",
       "      <td>EDSP21LIST1-2021-12-28</td>\n",
       "      <td></td>\n",
       "      <td></td>\n",
       "      <td>NA</td>\n",
       "      <td>Down</td>\n",
       "      <td>NA</td>\n",
       "    </tr>\n",
       "  </tbody>\n",
       "</table>\n",
       "<p>67 rows × 8 columns</p>\n",
       "</div>"
      ],
      "text/plain": [
       "         casrn              PREFERRED NAME                Database  \\\n",
       "0    1861-40-1                 Benfluralin  EDSP21LIST1-2021-12-28   \n",
       "1     950-37-8                Methidathion  EDSP21LIST1-2021-12-28   \n",
       "2     298-04-4                  Disulfoton  EDSP21LIST1-2021-12-28   \n",
       "3     117-81-7  Di(2-ethylhexyl) phthalate  EDSP21LIST1-2021-12-28   \n",
       "4      90-43-7              2-Phenylphenol  EDSP21LIST1-2021-12-28   \n",
       "..         ...                         ...                     ...   \n",
       "62     84-66-2           Diethyl phthalate  EDSP21LIST1-2021-12-28   \n",
       "63    108-88-3                     Toluene  EDSP21LIST1-2021-12-28   \n",
       "64   1071-83-6                  Glyphosate  EDSP21LIST1-2021-12-28   \n",
       "65     67-64-1                     Acetone  EDSP21LIST1-2021-12-28   \n",
       "66  13356-08-6            Fenbutatin oxide  EDSP21LIST1-2021-12-28   \n",
       "\n",
       "   Use category # ToxCast Active ke1   ke2   ke3  \n",
       "0                         90/965  NA  Down    NA  \n",
       "1                         90/990  Up    NA  Down  \n",
       "2                         85/981  NA    NA    NA  \n",
       "3                       103/1150  Up  Down    NA  \n",
       "4                         77/990  NA  Down    NA  \n",
       "..          ...              ...  ..   ...   ...  \n",
       "62                        11/880  NA    NA    Up  \n",
       "63                         0/235  NA    NA    NA  \n",
       "64                          0/52  NA    NA    NA  \n",
       "65                         1/235  NA    NA    NA  \n",
       "66                                NA  Down    NA  \n",
       "\n",
       "[67 rows x 8 columns]"
      ]
     },
     "execution_count": 5,
     "metadata": {},
     "output_type": "execute_result"
    }
   ],
   "source": [
    "dfs[4]"
   ]
  },
  {
   "cell_type": "code",
   "execution_count": 6,
   "id": "e53ec9f1-ca07-455e-a19d-b10294f9e853",
   "metadata": {},
   "outputs": [],
   "source": [
    "pd.concat(dfs).to_csv(\"inference_results/skeec_single_table.csv\", index=False)"
   ]
  },
  {
   "cell_type": "code",
   "execution_count": 7,
   "id": "4ce1fafe-b97e-4e4e-92dd-fb06d8a9eb73",
   "metadata": {},
   "outputs": [
    {
     "data": {
      "text/html": [
       "<div>\n",
       "<style scoped>\n",
       "    .dataframe tbody tr th:only-of-type {\n",
       "        vertical-align: middle;\n",
       "    }\n",
       "\n",
       "    .dataframe tbody tr th {\n",
       "        vertical-align: top;\n",
       "    }\n",
       "\n",
       "    .dataframe thead th {\n",
       "        text-align: right;\n",
       "    }\n",
       "</style>\n",
       "<table border=\"1\" class=\"dataframe\">\n",
       "  <thead>\n",
       "    <tr style=\"text-align: right;\">\n",
       "      <th></th>\n",
       "      <th>casrn</th>\n",
       "      <th>PREFERRED NAME</th>\n",
       "      <th>Database</th>\n",
       "      <th>Use category</th>\n",
       "      <th># ToxCast Active</th>\n",
       "      <th>ke1</th>\n",
       "      <th>ke2</th>\n",
       "      <th>ke3</th>\n",
       "    </tr>\n",
       "  </thead>\n",
       "  <tbody>\n",
       "    <tr>\n",
       "      <th>0</th>\n",
       "      <td>1336-36-3</td>\n",
       "      <td>Polychlorinated biphenyls</td>\n",
       "      <td>EDSP21LIST2-2021-12-28</td>\n",
       "      <td>NaN</td>\n",
       "      <td></td>\n",
       "      <td>Unknown</td>\n",
       "      <td>Unknown</td>\n",
       "      <td>Unknown</td>\n",
       "    </tr>\n",
       "    <tr>\n",
       "      <th>1</th>\n",
       "      <td>77182-82-2</td>\n",
       "      <td>Glufosinate-ammonium</td>\n",
       "      <td>EDSP21LIST2-2021-12-28</td>\n",
       "      <td>NaN</td>\n",
       "      <td></td>\n",
       "      <td>NA</td>\n",
       "      <td>NA</td>\n",
       "      <td>NA</td>\n",
       "    </tr>\n",
       "    <tr>\n",
       "      <th>2</th>\n",
       "      <td>55-63-0</td>\n",
       "      <td>Trinitroglycerin</td>\n",
       "      <td>EDSP21LIST2-2021-12-28</td>\n",
       "      <td>NaN</td>\n",
       "      <td></td>\n",
       "      <td>NA</td>\n",
       "      <td>NA</td>\n",
       "      <td>NA</td>\n",
       "    </tr>\n",
       "    <tr>\n",
       "      <th>3</th>\n",
       "      <td>14797-73-0</td>\n",
       "      <td>Perchlorate</td>\n",
       "      <td>EDSP21LIST2-2021-12-28</td>\n",
       "      <td>NaN</td>\n",
       "      <td></td>\n",
       "      <td>NA</td>\n",
       "      <td>NA</td>\n",
       "      <td>NA</td>\n",
       "    </tr>\n",
       "    <tr>\n",
       "      <th>4</th>\n",
       "      <td>121-82-4</td>\n",
       "      <td>Cyclonite</td>\n",
       "      <td>EDSP21LIST2-2021-12-28</td>\n",
       "      <td>NaN</td>\n",
       "      <td></td>\n",
       "      <td>NA</td>\n",
       "      <td>NA</td>\n",
       "      <td>NA</td>\n",
       "    </tr>\n",
       "    <tr>\n",
       "      <th>...</th>\n",
       "      <td>...</td>\n",
       "      <td>...</td>\n",
       "      <td>...</td>\n",
       "      <td>...</td>\n",
       "      <td>...</td>\n",
       "      <td>...</td>\n",
       "      <td>...</td>\n",
       "      <td>...</td>\n",
       "    </tr>\n",
       "    <tr>\n",
       "      <th>9713</th>\n",
       "      <td>84-66-2</td>\n",
       "      <td>Diethyl phthalate</td>\n",
       "      <td>EDSP21LIST1-2021-12-28</td>\n",
       "      <td>NaN</td>\n",
       "      <td>11/880</td>\n",
       "      <td>NA</td>\n",
       "      <td>NA</td>\n",
       "      <td>Up</td>\n",
       "    </tr>\n",
       "    <tr>\n",
       "      <th>9714</th>\n",
       "      <td>108-88-3</td>\n",
       "      <td>Toluene</td>\n",
       "      <td>EDSP21LIST1-2021-12-28</td>\n",
       "      <td>NaN</td>\n",
       "      <td>0/235</td>\n",
       "      <td>NA</td>\n",
       "      <td>NA</td>\n",
       "      <td>NA</td>\n",
       "    </tr>\n",
       "    <tr>\n",
       "      <th>9715</th>\n",
       "      <td>1071-83-6</td>\n",
       "      <td>Glyphosate</td>\n",
       "      <td>EDSP21LIST1-2021-12-28</td>\n",
       "      <td>NaN</td>\n",
       "      <td>0/52</td>\n",
       "      <td>NA</td>\n",
       "      <td>NA</td>\n",
       "      <td>NA</td>\n",
       "    </tr>\n",
       "    <tr>\n",
       "      <th>9716</th>\n",
       "      <td>67-64-1</td>\n",
       "      <td>Acetone</td>\n",
       "      <td>EDSP21LIST1-2021-12-28</td>\n",
       "      <td>NaN</td>\n",
       "      <td>1/235</td>\n",
       "      <td>NA</td>\n",
       "      <td>NA</td>\n",
       "      <td>NA</td>\n",
       "    </tr>\n",
       "    <tr>\n",
       "      <th>9717</th>\n",
       "      <td>13356-08-6</td>\n",
       "      <td>Fenbutatin oxide</td>\n",
       "      <td>EDSP21LIST1-2021-12-28</td>\n",
       "      <td>NaN</td>\n",
       "      <td></td>\n",
       "      <td>NA</td>\n",
       "      <td>Down</td>\n",
       "      <td>NA</td>\n",
       "    </tr>\n",
       "  </tbody>\n",
       "</table>\n",
       "<p>9718 rows × 8 columns</p>\n",
       "</div>"
      ],
      "text/plain": [
       "           casrn             PREFERRED NAME                Database  \\\n",
       "0      1336-36-3  Polychlorinated biphenyls  EDSP21LIST2-2021-12-28   \n",
       "1     77182-82-2       Glufosinate-ammonium  EDSP21LIST2-2021-12-28   \n",
       "2        55-63-0           Trinitroglycerin  EDSP21LIST2-2021-12-28   \n",
       "3     14797-73-0                Perchlorate  EDSP21LIST2-2021-12-28   \n",
       "4       121-82-4                  Cyclonite  EDSP21LIST2-2021-12-28   \n",
       "...          ...                        ...                     ...   \n",
       "9713     84-66-2          Diethyl phthalate  EDSP21LIST1-2021-12-28   \n",
       "9714    108-88-3                    Toluene  EDSP21LIST1-2021-12-28   \n",
       "9715   1071-83-6                 Glyphosate  EDSP21LIST1-2021-12-28   \n",
       "9716     67-64-1                    Acetone  EDSP21LIST1-2021-12-28   \n",
       "9717  13356-08-6           Fenbutatin oxide  EDSP21LIST1-2021-12-28   \n",
       "\n",
       "      Use category # ToxCast Active      ke1      ke2      ke3  \n",
       "0              NaN                   Unknown  Unknown  Unknown  \n",
       "1              NaN                        NA       NA       NA  \n",
       "2              NaN                        NA       NA       NA  \n",
       "3              NaN                        NA       NA       NA  \n",
       "4              NaN                        NA       NA       NA  \n",
       "...            ...              ...      ...      ...      ...  \n",
       "9713           NaN           11/880       NA       NA       Up  \n",
       "9714           NaN            0/235       NA       NA       NA  \n",
       "9715           NaN             0/52       NA       NA       NA  \n",
       "9716           NaN            1/235       NA       NA       NA  \n",
       "9717           NaN                        NA     Down       NA  \n",
       "\n",
       "[9718 rows x 8 columns]"
      ]
     },
     "execution_count": 7,
     "metadata": {},
     "output_type": "execute_result"
    }
   ],
   "source": [
    "df = pd.read_csv(\"inference_results/skeec_single_table.csv\", converters = {'ke1': str, 'ke2': str, 'ke3': str})\n",
    "df"
   ]
  },
  {
   "cell_type": "code",
   "execution_count": 8,
   "id": "1c36e27d-9981-486f-9f0a-5c820b9d3441",
   "metadata": {},
   "outputs": [],
   "source": [
    "df = df.drop_duplicates(subset=['casrn'])"
   ]
  },
  {
   "cell_type": "code",
   "execution_count": 9,
   "id": "4581c228-a0eb-429f-b50c-cd8b286d9e10",
   "metadata": {},
   "outputs": [
    {
     "data": {
      "text/plain": [
       "ke1      ke2      ke3    \n",
       "NA       NA       NA         6180\n",
       "         Down     NA          731\n",
       "Up       NA       NA          514\n",
       "Down     Down     NA          321\n",
       "Up       Down     NA          287\n",
       "Down     NA       NA          285\n",
       "NA       NA       Down         63\n",
       "                  Up           54\n",
       "Unknown  Unknown  Unknown      52\n",
       "NA       Down     Down         43\n",
       "Down     Down     Down         21\n",
       "Up       NA       Up           17\n",
       "NA       Down     Up           13\n",
       "Up       Down     Up           11\n",
       "                  Down         10\n",
       "Down     NA       Up            7\n",
       "Up       NA       Down          7\n",
       "Down     Down     Up            7\n",
       "NA       Up       NA            4\n",
       "Down     NA       Down          2\n",
       "dtype: int64"
      ]
     },
     "execution_count": 9,
     "metadata": {},
     "output_type": "execute_result"
    }
   ],
   "source": [
    "df[[\"ke1\", \"ke2\", \"ke3\"]].value_counts()"
   ]
  },
  {
   "cell_type": "code",
   "execution_count": 10,
   "id": "3bca2ce5-cd9e-4f5a-9824-c7745ff35112",
   "metadata": {},
   "outputs": [
    {
     "data": {
      "text/html": [
       "<div>\n",
       "<style scoped>\n",
       "    .dataframe tbody tr th:only-of-type {\n",
       "        vertical-align: middle;\n",
       "    }\n",
       "\n",
       "    .dataframe tbody tr th {\n",
       "        vertical-align: top;\n",
       "    }\n",
       "\n",
       "    .dataframe thead th {\n",
       "        text-align: right;\n",
       "    }\n",
       "</style>\n",
       "<table border=\"1\" class=\"dataframe\">\n",
       "  <thead>\n",
       "    <tr style=\"text-align: right;\">\n",
       "      <th></th>\n",
       "      <th>casrn</th>\n",
       "      <th>PREFERRED NAME</th>\n",
       "      <th>Database</th>\n",
       "      <th>Use category</th>\n",
       "      <th># ToxCast Active</th>\n",
       "      <th>ke1</th>\n",
       "      <th>ke2</th>\n",
       "      <th>ke3</th>\n",
       "    </tr>\n",
       "  </thead>\n",
       "  <tbody>\n",
       "    <tr>\n",
       "      <th>90</th>\n",
       "      <td>68694-11-1</td>\n",
       "      <td>Triflumizole</td>\n",
       "      <td>EDSP21LIST2-2021-12-28</td>\n",
       "      <td>NaN</td>\n",
       "      <td>418/1156</td>\n",
       "      <td>Up</td>\n",
       "      <td>Down</td>\n",
       "      <td>Down</td>\n",
       "    </tr>\n",
       "    <tr>\n",
       "      <th>147</th>\n",
       "      <td>35554-44-0</td>\n",
       "      <td>Imazalil</td>\n",
       "      <td>EDSPUOC-2022-06-16</td>\n",
       "      <td>NaN</td>\n",
       "      <td>406/1189</td>\n",
       "      <td>Up</td>\n",
       "      <td>Down</td>\n",
       "      <td>Down</td>\n",
       "    </tr>\n",
       "    <tr>\n",
       "      <th>2666</th>\n",
       "      <td>25646-71-3</td>\n",
       "      <td>Methanesulfonamide, N-[2-[(4-amino-3-methylphe...</td>\n",
       "      <td>EDSPUOC-2022-06-16</td>\n",
       "      <td>NaN</td>\n",
       "      <td></td>\n",
       "      <td>Up</td>\n",
       "      <td>Down</td>\n",
       "      <td>Down</td>\n",
       "    </tr>\n",
       "    <tr>\n",
       "      <th>4459</th>\n",
       "      <td>120983-64-4</td>\n",
       "      <td>2-(1-Chlorocyclopropyl)-1-(2-chlorophenyl)-3-(...</td>\n",
       "      <td>EDSPUOC-2022-06-16</td>\n",
       "      <td>NaN</td>\n",
       "      <td>52/513</td>\n",
       "      <td>Up</td>\n",
       "      <td>Down</td>\n",
       "      <td>Down</td>\n",
       "    </tr>\n",
       "    <tr>\n",
       "      <th>4603</th>\n",
       "      <td>122453-73-0</td>\n",
       "      <td>4-Bromo-2-(4-chlorophenyl)-1-(ethoxymethyl)-5-...</td>\n",
       "      <td>EDSPUOC-2022-06-16</td>\n",
       "      <td>NaN</td>\n",
       "      <td>196/460</td>\n",
       "      <td>Up</td>\n",
       "      <td>Down</td>\n",
       "      <td>Down</td>\n",
       "    </tr>\n",
       "    <tr>\n",
       "      <th>5273</th>\n",
       "      <td>85509-19-9</td>\n",
       "      <td>Flusilazole</td>\n",
       "      <td>EDSPUOC-2022-06-16</td>\n",
       "      <td>NaN</td>\n",
       "      <td>316/1066</td>\n",
       "      <td>Up</td>\n",
       "      <td>Down</td>\n",
       "      <td>Down</td>\n",
       "    </tr>\n",
       "    <tr>\n",
       "      <th>6248</th>\n",
       "      <td>480-40-0</td>\n",
       "      <td>Chrysin</td>\n",
       "      <td>EDSPUOC-2022-06-16</td>\n",
       "      <td>NaN</td>\n",
       "      <td>144/532</td>\n",
       "      <td>Up</td>\n",
       "      <td>Down</td>\n",
       "      <td>Down</td>\n",
       "    </tr>\n",
       "    <tr>\n",
       "      <th>6315</th>\n",
       "      <td>5397-34-2</td>\n",
       "      <td>2,4'-Dihydroxydiphenyl sulfone</td>\n",
       "      <td>EDSPUOC-2022-06-16</td>\n",
       "      <td>NaN</td>\n",
       "      <td></td>\n",
       "      <td>Up</td>\n",
       "      <td>Down</td>\n",
       "      <td>Down</td>\n",
       "    </tr>\n",
       "    <tr>\n",
       "      <th>7254</th>\n",
       "      <td>127-27-5</td>\n",
       "      <td>alpha-Pimaricacid</td>\n",
       "      <td>EDSPUOC-2022-06-16</td>\n",
       "      <td>NaN</td>\n",
       "      <td></td>\n",
       "      <td>Up</td>\n",
       "      <td>Down</td>\n",
       "      <td>Down</td>\n",
       "    </tr>\n",
       "    <tr>\n",
       "      <th>7959</th>\n",
       "      <td>24169-02-6</td>\n",
       "      <td>Econazole nitrate</td>\n",
       "      <td>EDSPUOC-2022-06-16</td>\n",
       "      <td>NaN</td>\n",
       "      <td>189/446</td>\n",
       "      <td>Up</td>\n",
       "      <td>Down</td>\n",
       "      <td>Down</td>\n",
       "    </tr>\n",
       "  </tbody>\n",
       "</table>\n",
       "</div>"
      ],
      "text/plain": [
       "            casrn                                     PREFERRED NAME  \\\n",
       "90     68694-11-1                                       Triflumizole   \n",
       "147    35554-44-0                                           Imazalil   \n",
       "2666   25646-71-3  Methanesulfonamide, N-[2-[(4-amino-3-methylphe...   \n",
       "4459  120983-64-4  2-(1-Chlorocyclopropyl)-1-(2-chlorophenyl)-3-(...   \n",
       "4603  122453-73-0  4-Bromo-2-(4-chlorophenyl)-1-(ethoxymethyl)-5-...   \n",
       "5273   85509-19-9                                        Flusilazole   \n",
       "6248     480-40-0                                            Chrysin   \n",
       "6315    5397-34-2                     2,4'-Dihydroxydiphenyl sulfone   \n",
       "7254     127-27-5                                  alpha-Pimaricacid   \n",
       "7959   24169-02-6                                  Econazole nitrate   \n",
       "\n",
       "                    Database  Use category # ToxCast Active ke1   ke2   ke3  \n",
       "90    EDSP21LIST2-2021-12-28           NaN         418/1156  Up  Down  Down  \n",
       "147       EDSPUOC-2022-06-16           NaN         406/1189  Up  Down  Down  \n",
       "2666      EDSPUOC-2022-06-16           NaN                   Up  Down  Down  \n",
       "4459      EDSPUOC-2022-06-16           NaN           52/513  Up  Down  Down  \n",
       "4603      EDSPUOC-2022-06-16           NaN          196/460  Up  Down  Down  \n",
       "5273      EDSPUOC-2022-06-16           NaN         316/1066  Up  Down  Down  \n",
       "6248      EDSPUOC-2022-06-16           NaN          144/532  Up  Down  Down  \n",
       "6315      EDSPUOC-2022-06-16           NaN                   Up  Down  Down  \n",
       "7254      EDSPUOC-2022-06-16           NaN                   Up  Down  Down  \n",
       "7959      EDSPUOC-2022-06-16           NaN          189/446  Up  Down  Down  "
      ]
     },
     "execution_count": 10,
     "metadata": {},
     "output_type": "execute_result"
    }
   ],
   "source": [
    "# Up       Down      Down izvuci\n",
    "udd = df[(df[\"ke1\"] == \"Up\") & (df[\"ke2\"] == \"Down\") & (df[\"ke3\"] == \"Down\")]\n",
    "\n",
    "udd.to_csv(\"inference_results/skeec_udd.csv\", index=False)\n",
    "\n",
    "udd"
   ]
  },
  {
   "cell_type": "code",
   "execution_count": 8,
   "id": "1295d9d3-adaa-4198-9d5b-976f349d9d6e",
   "metadata": {},
   "outputs": [],
   "source": [
    "skeec_udd = pd.read_csv(\"inference_results/skeec_udd.csv\")\n",
    "skeec_udd[\"Type\"] = \"skec\"\n",
    "sac_udd = pd.read_csv(\"inference_results/sac_udd.csv\")\n",
    "sac_udd[\"Type\"] = \"sac\"\n",
    "\n",
    "joined = pd.concat([skeec_udd, sac_udd])\n",
    "\n",
    "joined[\"PREFERRED NAME\"].value_counts().to_csv(\"inference_results/presek.csv\")"
   ]
  },
  {
   "cell_type": "code",
   "execution_count": 9,
   "id": "fb787294-6741-405c-b9fd-f58b2430cdb7",
   "metadata": {},
   "outputs": [
    {
     "data": {
      "text/plain": [
       "(ke1    \n",
       " NA         8015\n",
       " Up          921\n",
       " Down        722\n",
       " Unknown      60\n",
       " dtype: int64,\n",
       " ke2    \n",
       " NA         8044\n",
       " Down       1608\n",
       " Unknown      60\n",
       " Up            6\n",
       " dtype: int64,\n",
       " ke3    \n",
       " NA         9355\n",
       " Down        164\n",
       " Up          139\n",
       " Unknown      60\n",
       " dtype: int64)"
      ]
     },
     "execution_count": 9,
     "metadata": {},
     "output_type": "execute_result"
    }
   ],
   "source": [
    "df[[\"ke1\"]].value_counts(), df[[\"ke2\"]].value_counts(), df[[\"ke3\"]].value_counts()"
   ]
  },
  {
   "cell_type": "code",
   "execution_count": 11,
   "id": "5149528e-5eed-4950-812a-e660e132fea2",
   "metadata": {},
   "outputs": [
    {
     "data": {
      "text/plain": [
       "<matplotlib.axes._subplots.AxesSubplot at 0x7f45f5e82f10>"
      ]
     },
     "execution_count": 11,
     "metadata": {},
     "output_type": "execute_result"
    },
    {
     "data": {
      "image/png": "[encoded data removed]",
      "text/plain": [
       "<Figure size 432x288 with 1 Axes>"
      ]
     },
     "metadata": {},
     "output_type": "display_data"
    }
   ],
   "source": [
    "df[[\"ke1\", \"ke2\", \"ke3\"]].value_counts().plot(kind=\"pie\")"
   ]
  },
  {
   "cell_type": "code",
   "execution_count": 13,
   "id": "c1049603-ad0e-4db2-a4b2-fe239d4bd963",
   "metadata": {},
   "outputs": [],
   "source": [
    "counts = df[(df[\"ke1\"] != \"Unknown\") | (df[\"ke2\"] != \"Unknown\") | (df[\"ke3\"] != \"Unknown\")][[\"ke1\", \"ke2\", \"ke3\"]].value_counts()"
   ]
  },
  {
   "cell_type": "code",
   "execution_count": 14,
   "id": "4aa66566-121f-4ced-8503-ef83e8769815",
   "metadata": {},
   "outputs": [],
   "source": [
    "counts = pd.DataFrame(counts)"
   ]
  },
  {
   "cell_type": "code",
   "execution_count": 15,
   "id": "bc17baec-9539-45d3-8e74-ee0f11eefa00",
   "metadata": {},
   "outputs": [],
   "source": [
    "counts[\"test\"] = counts.index"
   ]
  },
  {
   "cell_type": "code",
   "execution_count": 16,
   "id": "9f80394f-a373-4c8b-90ab-991f06570200",
   "metadata": {},
   "outputs": [],
   "source": [
    "def process(row):\n",
    "    \n",
    "    t = 3 - row[\"test\"].count(\"NA\")\n",
    "    row[\"involved\"] = t\n",
    "    \n",
    "    return row\n",
    "\n",
    "counts = counts.apply(process, axis=1)"
   ]
  },
  {
   "cell_type": "code",
   "execution_count": 17,
   "id": "ebf611a4-eea2-4cd4-979f-adf013c182cc",
   "metadata": {},
   "outputs": [
    {
     "data": {
      "text/html": [
       "<div>\n",
       "<style scoped>\n",
       "    .dataframe tbody tr th:only-of-type {\n",
       "        vertical-align: middle;\n",
       "    }\n",
       "\n",
       "    .dataframe tbody tr th {\n",
       "        vertical-align: top;\n",
       "    }\n",
       "\n",
       "    .dataframe thead th {\n",
       "        text-align: right;\n",
       "    }\n",
       "</style>\n",
       "<table border=\"1\" class=\"dataframe\">\n",
       "  <thead>\n",
       "    <tr style=\"text-align: right;\">\n",
       "      <th></th>\n",
       "      <th></th>\n",
       "      <th></th>\n",
       "      <th>0</th>\n",
       "      <th>test</th>\n",
       "      <th>involved</th>\n",
       "    </tr>\n",
       "    <tr>\n",
       "      <th>ke1</th>\n",
       "      <th>ke2</th>\n",
       "      <th>ke3</th>\n",
       "      <th></th>\n",
       "      <th></th>\n",
       "      <th></th>\n",
       "    </tr>\n",
       "  </thead>\n",
       "  <tbody>\n",
       "    <tr>\n",
       "      <th rowspan=\"2\" valign=\"top\">NA</th>\n",
       "      <th>NA</th>\n",
       "      <th>NA</th>\n",
       "      <td>6180</td>\n",
       "      <td>(NA, NA, NA)</td>\n",
       "      <td>0</td>\n",
       "    </tr>\n",
       "    <tr>\n",
       "      <th>Down</th>\n",
       "      <th>NA</th>\n",
       "      <td>731</td>\n",
       "      <td>(NA, Down, NA)</td>\n",
       "      <td>1</td>\n",
       "    </tr>\n",
       "    <tr>\n",
       "      <th>Up</th>\n",
       "      <th>NA</th>\n",
       "      <th>NA</th>\n",
       "      <td>514</td>\n",
       "      <td>(Up, NA, NA)</td>\n",
       "      <td>1</td>\n",
       "    </tr>\n",
       "    <tr>\n",
       "      <th>Down</th>\n",
       "      <th>Down</th>\n",
       "      <th>NA</th>\n",
       "      <td>321</td>\n",
       "      <td>(Down, Down, NA)</td>\n",
       "      <td>2</td>\n",
       "    </tr>\n",
       "    <tr>\n",
       "      <th>Up</th>\n",
       "      <th>Down</th>\n",
       "      <th>NA</th>\n",
       "      <td>287</td>\n",
       "      <td>(Up, Down, NA)</td>\n",
       "      <td>2</td>\n",
       "    </tr>\n",
       "    <tr>\n",
       "      <th>Down</th>\n",
       "      <th>NA</th>\n",
       "      <th>NA</th>\n",
       "      <td>285</td>\n",
       "      <td>(Down, NA, NA)</td>\n",
       "      <td>1</td>\n",
       "    </tr>\n",
       "    <tr>\n",
       "      <th rowspan=\"3\" valign=\"top\">NA</th>\n",
       "      <th rowspan=\"2\" valign=\"top\">NA</th>\n",
       "      <th>Down</th>\n",
       "      <td>63</td>\n",
       "      <td>(NA, NA, Down)</td>\n",
       "      <td>1</td>\n",
       "    </tr>\n",
       "    <tr>\n",
       "      <th>Up</th>\n",
       "      <td>54</td>\n",
       "      <td>(NA, NA, Up)</td>\n",
       "      <td>1</td>\n",
       "    </tr>\n",
       "    <tr>\n",
       "      <th>Down</th>\n",
       "      <th>Down</th>\n",
       "      <td>43</td>\n",
       "      <td>(NA, Down, Down)</td>\n",
       "      <td>2</td>\n",
       "    </tr>\n",
       "    <tr>\n",
       "      <th>Down</th>\n",
       "      <th>Down</th>\n",
       "      <th>Down</th>\n",
       "      <td>21</td>\n",
       "      <td>(Down, Down, Down)</td>\n",
       "      <td>3</td>\n",
       "    </tr>\n",
       "    <tr>\n",
       "      <th>Up</th>\n",
       "      <th>NA</th>\n",
       "      <th>Up</th>\n",
       "      <td>17</td>\n",
       "      <td>(Up, NA, Up)</td>\n",
       "      <td>2</td>\n",
       "    </tr>\n",
       "    <tr>\n",
       "      <th>NA</th>\n",
       "      <th>Down</th>\n",
       "      <th>Up</th>\n",
       "      <td>13</td>\n",
       "      <td>(NA, Down, Up)</td>\n",
       "      <td>2</td>\n",
       "    </tr>\n",
       "    <tr>\n",
       "      <th rowspan=\"2\" valign=\"top\">Up</th>\n",
       "      <th rowspan=\"2\" valign=\"top\">Down</th>\n",
       "      <th>Up</th>\n",
       "      <td>11</td>\n",
       "      <td>(Up, Down, Up)</td>\n",
       "      <td>3</td>\n",
       "    </tr>\n",
       "    <tr>\n",
       "      <th>Down</th>\n",
       "      <td>10</td>\n",
       "      <td>(Up, Down, Down)</td>\n",
       "      <td>3</td>\n",
       "    </tr>\n",
       "    <tr>\n",
       "      <th>Down</th>\n",
       "      <th>NA</th>\n",
       "      <th>Up</th>\n",
       "      <td>7</td>\n",
       "      <td>(Down, NA, Up)</td>\n",
       "      <td>2</td>\n",
       "    </tr>\n",
       "    <tr>\n",
       "      <th>Up</th>\n",
       "      <th>NA</th>\n",
       "      <th>Down</th>\n",
       "      <td>7</td>\n",
       "      <td>(Up, NA, Down)</td>\n",
       "      <td>2</td>\n",
       "    </tr>\n",
       "    <tr>\n",
       "      <th>Down</th>\n",
       "      <th>Down</th>\n",
       "      <th>Up</th>\n",
       "      <td>7</td>\n",
       "      <td>(Down, Down, Up)</td>\n",
       "      <td>3</td>\n",
       "    </tr>\n",
       "    <tr>\n",
       "      <th>NA</th>\n",
       "      <th>Up</th>\n",
       "      <th>NA</th>\n",
       "      <td>4</td>\n",
       "      <td>(NA, Up, NA)</td>\n",
       "      <td>1</td>\n",
       "    </tr>\n",
       "    <tr>\n",
       "      <th>Down</th>\n",
       "      <th>NA</th>\n",
       "      <th>Down</th>\n",
       "      <td>2</td>\n",
       "      <td>(Down, NA, Down)</td>\n",
       "      <td>2</td>\n",
       "    </tr>\n",
       "  </tbody>\n",
       "</table>\n",
       "</div>"
      ],
      "text/plain": [
       "                   0                test  involved\n",
       "ke1  ke2  ke3                                     \n",
       "NA   NA   NA    6180        (NA, NA, NA)         0\n",
       "     Down NA     731      (NA, Down, NA)         1\n",
       "Up   NA   NA     514        (Up, NA, NA)         1\n",
       "Down Down NA     321    (Down, Down, NA)         2\n",
       "Up   Down NA     287      (Up, Down, NA)         2\n",
       "Down NA   NA     285      (Down, NA, NA)         1\n",
       "NA   NA   Down    63      (NA, NA, Down)         1\n",
       "          Up      54        (NA, NA, Up)         1\n",
       "     Down Down    43    (NA, Down, Down)         2\n",
       "Down Down Down    21  (Down, Down, Down)         3\n",
       "Up   NA   Up      17        (Up, NA, Up)         2\n",
       "NA   Down Up      13      (NA, Down, Up)         2\n",
       "Up   Down Up      11      (Up, Down, Up)         3\n",
       "          Down    10    (Up, Down, Down)         3\n",
       "Down NA   Up       7      (Down, NA, Up)         2\n",
       "Up   NA   Down     7      (Up, NA, Down)         2\n",
       "Down Down Up       7    (Down, Down, Up)         3\n",
       "NA   Up   NA       4        (NA, Up, NA)         1\n",
       "Down NA   Down     2    (Down, NA, Down)         2"
      ]
     },
     "execution_count": 17,
     "metadata": {},
     "output_type": "execute_result"
    }
   ],
   "source": [
    "counts"
   ]
  },
  {
   "cell_type": "code",
   "execution_count": 20,
   "id": "be1a5063-c144-460d-a1ed-7b9eab6f8829",
   "metadata": {},
   "outputs": [
    {
     "data": {
      "text/html": [
       "<div>\n",
       "<style scoped>\n",
       "    .dataframe tbody tr th:only-of-type {\n",
       "        vertical-align: middle;\n",
       "    }\n",
       "\n",
       "    .dataframe tbody tr th {\n",
       "        vertical-align: top;\n",
       "    }\n",
       "\n",
       "    .dataframe thead th {\n",
       "        text-align: right;\n",
       "    }\n",
       "</style>\n",
       "<table border=\"1\" class=\"dataframe\">\n",
       "  <thead>\n",
       "    <tr style=\"text-align: right;\">\n",
       "      <th></th>\n",
       "      <th>Key Event Involvement</th>\n",
       "      <th>invol</th>\n",
       "    </tr>\n",
       "    <tr>\n",
       "      <th>involved</th>\n",
       "      <th></th>\n",
       "      <th></th>\n",
       "    </tr>\n",
       "  </thead>\n",
       "  <tbody>\n",
       "    <tr>\n",
       "      <th>0</th>\n",
       "      <td>6180</td>\n",
       "      <td>0</td>\n",
       "    </tr>\n",
       "    <tr>\n",
       "      <th>1</th>\n",
       "      <td>1651</td>\n",
       "      <td>1</td>\n",
       "    </tr>\n",
       "    <tr>\n",
       "      <th>2</th>\n",
       "      <td>697</td>\n",
       "      <td>2</td>\n",
       "    </tr>\n",
       "    <tr>\n",
       "      <th>3</th>\n",
       "      <td>49</td>\n",
       "      <td>3</td>\n",
       "    </tr>\n",
       "  </tbody>\n",
       "</table>\n",
       "</div>"
      ],
      "text/plain": [
       "          Key Event Involvement  invol\n",
       "involved                              \n",
       "0                          6180      0\n",
       "1                          1651      1\n",
       "2                           697      2\n",
       "3                            49      3"
      ]
     },
     "execution_count": 20,
     "metadata": {},
     "output_type": "execute_result"
    },
    {
     "data": {
      "image/png": "[encoded data removed]",
      "text/plain": [
       "<Figure size 720x432 with 1 Axes>"
      ]
     },
     "metadata": {},
     "output_type": "display_data"
    }
   ],
   "source": [
    "counts = counts.groupby(\"involved\").sum(\"0\")\n",
    "counts[\"invol\"] = counts.index\n",
    "counts.columns = [\"Key Event Involvement\", \"invol\"]\n",
    "counts.plot(kind=\"pie\", x=\"invol\", y=\"Key Event Involvement\", legend=False, \n",
    "                   autopct='%1.2f%%', explode=(0, 0, 0, 0), \n",
    "                   shadow=True, startangle=0, figsize=(10,6))\n",
    "counts"
   ]
  },
  {
   "cell_type": "code",
   "execution_count": 19,
   "id": "1d8e82d7-ff9f-4038-a865-c54e0eab8463",
   "metadata": {},
   "outputs": [
    {
     "data": {
      "text/html": [
       "<div>\n",
       "<style scoped>\n",
       "    .dataframe tbody tr th:only-of-type {\n",
       "        vertical-align: middle;\n",
       "    }\n",
       "\n",
       "    .dataframe tbody tr th {\n",
       "        vertical-align: top;\n",
       "    }\n",
       "\n",
       "    .dataframe thead th {\n",
       "        text-align: right;\n",
       "    }\n",
       "</style>\n",
       "<table border=\"1\" class=\"dataframe\">\n",
       "  <thead>\n",
       "    <tr style=\"text-align: right;\">\n",
       "      <th></th>\n",
       "      <th>counts</th>\n",
       "      <th>invol</th>\n",
       "    </tr>\n",
       "    <tr>\n",
       "      <th>involved</th>\n",
       "      <th></th>\n",
       "      <th></th>\n",
       "    </tr>\n",
       "  </thead>\n",
       "  <tbody>\n",
       "    <tr>\n",
       "      <th>0</th>\n",
       "      <td>6986</td>\n",
       "      <td>0</td>\n",
       "    </tr>\n",
       "    <tr>\n",
       "      <th>1</th>\n",
       "      <td>1839</td>\n",
       "      <td>1</td>\n",
       "    </tr>\n",
       "    <tr>\n",
       "      <th>2</th>\n",
       "      <td>778</td>\n",
       "      <td>2</td>\n",
       "    </tr>\n",
       "    <tr>\n",
       "      <th>3</th>\n",
       "      <td>55</td>\n",
       "      <td>3</td>\n",
       "    </tr>\n",
       "  </tbody>\n",
       "</table>\n",
       "</div>"
      ],
      "text/plain": [
       "          counts  invol\n",
       "involved               \n",
       "0           6986      0\n",
       "1           1839      1\n",
       "2            778      2\n",
       "3             55      3"
      ]
     },
     "execution_count": 19,
     "metadata": {},
     "output_type": "execute_result"
    }
   ],
   "source": [
    "counts"
   ]
  },
  {
   "cell_type": "code",
   "execution_count": 73,
   "id": "19155ca0-9abe-40d9-92e0-9c2cdf125804",
   "metadata": {},
   "outputs": [
    {
     "data": {
      "text/plain": [
       "<matplotlib.axes._subplots.AxesSubplot at 0x7f824be4b750>"
      ]
     },
     "execution_count": 73,
     "metadata": {},
     "output_type": "execute_result"
    },
    {
     "data": {
      "image/png": "[encoded data removed]",
      "text/plain": [
       "<Figure size 432x288 with 1 Axes>"
      ]
     },
     "metadata": {
      "needs_background": "light"
     },
     "output_type": "display_data"
    }
   ],
   "source": [
    "df[[\"ke1\"]].value_counts().plot(kind=\"bar\")"
   ]
  },
  {
   "cell_type": "code",
   "execution_count": 74,
   "id": "cc5f9717-93bf-4f4a-a065-7f30a9b16707",
   "metadata": {},
   "outputs": [
    {
     "data": {
      "text/plain": [
       "<matplotlib.axes._subplots.AxesSubplot at 0x7f824be2d650>"
      ]
     },
     "execution_count": 74,
     "metadata": {},
     "output_type": "execute_result"
    },
    {
     "data": {
      "image/png": "[encoded data removed]",
      "text/plain": [
       "<Figure size 432x288 with 1 Axes>"
      ]
     },
     "metadata": {
      "needs_background": "light"
     },
     "output_type": "display_data"
    }
   ],
   "source": [
    "df[[\"ke2\"]].value_counts().plot(kind=\"bar\")"
   ]
  },
  {
   "cell_type": "code",
   "execution_count": 75,
   "id": "1021da39-0b14-47e3-bec2-dd49f3384ee9",
   "metadata": {},
   "outputs": [
    {
     "data": {
      "text/plain": [
       "<matplotlib.axes._subplots.AxesSubplot at 0x7f824bd84590>"
      ]
     },
     "execution_count": 75,
     "metadata": {},
     "output_type": "execute_result"
    },
    {
     "data": {
      "image/png": "[encoded data removed]",
      "text/plain": [
       "<Figure size 432x288 with 1 Axes>"
      ]
     },
     "metadata": {
      "needs_background": "light"
     },
     "output_type": "display_data"
    }
   ],
   "source": [
    "df[[\"ke3\"]].value_counts().plot(kind=\"bar\")"
   ]
  },
  {
   "cell_type": "code",
   "execution_count": 99,
   "id": "5ca6a4f3-a471-4767-8e52-b17384afd72f",
   "metadata": {},
   "outputs": [
    {
     "data": {
      "text/plain": [
       "<matplotlib.axes._subplots.AxesSubplot at 0x7f8235b40850>"
      ]
     },
     "execution_count": 99,
     "metadata": {},
     "output_type": "execute_result"
    },
    {
     "data": {
      "image/png": "[encoded data removed]",
      "text/plain": [
       "<Figure size 1152x648 with 1 Axes>"
      ]
     },
     "metadata": {
      "needs_background": "light"
     },
     "output_type": "display_data"
    }
   ],
   "source": [
    "pd.DataFrame({\"MEI (PPARgamma)\": df[\"ke1\"].value_counts(), \"KEI1 (aromatase)\": df[\"ke2\"].value_counts(), \"KEI2 (estradiol)\": df[\"ke3\"].value_counts()}).plot(kind=\"bar\", figsize=(16, 9))"
   ]
  }
 ],
 "metadata": {
  "kernelspec": {
   "display_name": "Python 3 (ipykernel)",
   "language": "python",
   "name": "python3"
  },
  "language_info": {
   "codemirror_mode": {
    "name": "ipython",
    "version": 3
   },
   "file_extension": ".py",
   "mimetype": "text/x-python",
   "name": "python",
   "nbconvert_exporter": "python",
   "pygments_lexer": "ipython3",
   "version": "3.7.11"
  }
 },
 "nbformat": 4,
 "nbformat_minor": 5
}
