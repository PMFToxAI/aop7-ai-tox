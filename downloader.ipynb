{
 "cells": [
  {
   "cell_type": "code",
   "execution_count": null,
   "id": "8dfc480d-87e2-4715-b703-e83d65c92b06",
   "metadata": {},
   "outputs": [],
   "source": [
    "from tqdm import tqdm\n",
    "import requests\n",
    "import pandas as pd\n",
    "import numpy as np"
   ]
  },
  {
   "cell_type": "code",
   "execution_count": null,
   "id": "e8177b57-487a-473f-89b9-b22b7a2bf301",
   "metadata": {},
   "outputs": [],
   "source": [
    "assays = [\n",
    "    \"ATG_PPARg_TRANS_dn\", \n",
    "    \"ATG_PPARg_TRANS_up\", \n",
    "    \"TOX21_PPARg_BLA_antagonist_ratio\", \n",
    "    \"TOX21_PPARg_BLA_Agonist_ratio\", \n",
    "    \"NVS_NR_hPPARg\", \n",
    "    \"ERF_ENZ_hCYP19A1_dn\", \n",
    "    \"NVS_ADME_hCYP19A1\", \n",
    "    \"NVS_ADME_hCYP19A1_Activator\", \n",
    "    \"TOX21_Aromatase_Inhibition\", \n",
    "    \"CEETOX_H295R_ESTRADIOL_dn\", \n",
    "    \"CEETOX_H295R_ESTRADIOL_noMTC_dn\", \n",
    "    \"CEETOX_H295R_ESTRADIOL_noMTC_up\", \n",
    "    \"CEETOX_H295R_ESTRADIOL_up\", \n",
    "    \"CEETOX_H295R_ESTRONE_dn\", \n",
    "    \"CEETOX_H295R_ESTRONE_noMTC_dn\", \n",
    "    \"CEETOX_H295R_ESTRONE_noMTC_up\", \n",
    "    \"CEETOX_H295R_ESTRONE_up\"\n",
    "]\n",
    "\n",
    "base_url = \"https://comptox.epa.gov/dashboard-api/ccdapp2/assay-list-details/search/by-endpointname?name=[name]&size=[size]&page=[page]\""
   ]
  },
  {
   "cell_type": "code",
   "execution_count": null,
   "id": "f847158f-fe58-4cd5-9c7f-18b7ca517729",
   "metadata": {},
   "outputs": [],
   "source": [
    "for assay in assays:\n",
    "    jsons = []\n",
    "    probe_resp = requests.get(base_url\n",
    "                              .replace(\"[name]\", assay.strip())\n",
    "                              .replace(\"[page]\", \"1\")\n",
    "                              .replace(\"[size]\", \"1\"))\n",
    "    elements = int(probe_resp.json()['page']['totalElements'])\n",
    "    pages = elements // 1000 + 1\n",
    "    print(f\"{assay} -> Total elements: {elements}, pages: {pages}\")\n",
    "    for page in range(0, pages):\n",
    "        resp = requests.get(base_url\n",
    "                                  .replace(\"[name]\", assay.strip())\n",
    "                                  .replace(\"[page]\", str(page))\n",
    "                                  .replace(\"[size]\", \"1000\"))\n",
    "        if resp.status_code == 200:\n",
    "            print(f\"{assay} -> HTTP{resp.status_code}, Page: {page}\")\n",
    "            jsons.append(resp.json())\n",
    "        else:\n",
    "            print(f\"ERROR: {assay} -> HTTP{resp.status_code}\")\n",
    "\n",
    "    json = jsons[0]['_embedded']['assayListDetails']\n",
    "\n",
    "    for i in range(1, len(jsons)):\n",
    "        json.extend(jsons[i]['_embedded']['assayListDetails'])\n",
    "\n",
    "    df = pd.DataFrame(json)\n",
    "\n",
    "    assert len(df) == elements\n",
    "\n",
    "    path = f\"data/{assay}.csv\"\n",
    "    print(f\"Saved {assay} -> {path}\")\n",
    "    df.to_csv(path, index=False)\n"
   ]
  }
 ],
 "metadata": {
  "kernelspec": {
   "display_name": "Python 3 (ipykernel)",
   "language": "python",
   "name": "python3"
  },
  "language_info": {
   "codemirror_mode": {
    "name": "ipython",
    "version": 3
   },
   "file_extension": ".py",
   "mimetype": "text/x-python",
   "name": "python",
   "nbconvert_exporter": "python",
   "pygments_lexer": "ipython3",
   "version": "3.7.11"
  }
 },
 "nbformat": 4,
 "nbformat_minor": 5
}
