{
 "cells": [
  {
   "cell_type": "code",
   "execution_count": 1,
   "id": "080002f2-6f0b-4e1e-8fce-ef42e0c485ab",
   "metadata": {},
   "outputs": [
    {
     "name": "stderr",
     "output_type": "stream",
     "text": [
      "/home/milosevicn/.local/lib/python3.7/site-packages/requests/__init__.py:91: RequestsDependencyWarning: urllib3 (1.26.7) or chardet (3.0.4) doesn't match a supported version!\n",
      "  RequestsDependencyWarning)\n",
      "2022-10-18 12:35:09.684987: I tensorflow/stream_executor/platform/default/dso_loader.cc:49] Successfully opened dynamic library libcudart.so.10.1\n"
     ]
    }
   ],
   "source": [
    "from tqdm import tqdm\n",
    "import requests\n",
    "import pandas as pd\n",
    "import numpy as np\n",
    "\n",
    "from rdkit.Chem import AllChem\n",
    "from rdkit import DataStructs\n",
    "from rdkit.Chem import Draw\n",
    "from rdkit.Chem.Draw import SimilarityMaps\n",
    "from rdkit import Chem, DataStructs\n",
    "\n",
    "import tensorflow as tf\n",
    "import tensorflow.keras as keras\n",
    "from tensorflow.keras.models import Sequential\n",
    "from tensorflow.keras.layers import Dense, Dropout, Conv1D, Flatten, MaxPool1D\n",
    "\n",
    "from sklearn import preprocessing\n",
    "from sklearn.model_selection import train_test_split\n",
    "\n",
    "import matplotlib.pyplot as plt\n",
    "\n",
    "import imblearn"
   ]
  },
  {
   "cell_type": "code",
   "execution_count": 2,
   "id": "699d918a-e389-498e-af60-a67bb90e3d12",
   "metadata": {},
   "outputs": [],
   "source": [
    "assays = [\n",
    "    \"ATG_PPARg_TRANS_dn\", \n",
    "    \"ATG_PPARg_TRANS_up\", \n",
    "    \"TOX21_PPARg_BLA_antagonist_ratio\", \n",
    "    \"TOX21_PPARg_BLA_Agonist_ratio\", \n",
    "    \"NVS_NR_hPPARg\", \n",
    "    \"ERF_ENZ_hCYP19A1_dn\", \n",
    "    \"NVS_ADME_hCYP19A1\", \n",
    "    \"NVS_ADME_hCYP19A1_Activator\", \n",
    "    \"TOX21_Aromatase_Inhibition\", \n",
    "    \"CEETOX_H295R_ESTRADIOL_dn\", \n",
    "    \"CEETOX_H295R_ESTRADIOL_noMTC_dn\", \n",
    "    \"CEETOX_H295R_ESTRADIOL_noMTC_up\", \n",
    "    \"CEETOX_H295R_ESTRADIOL_up\", \n",
    "    \"CEETOX_H295R_ESTRONE_dn\", \n",
    "    \"CEETOX_H295R_ESTRONE_noMTC_dn\", \n",
    "    \"CEETOX_H295R_ESTRONE_noMTC_up\", \n",
    "    \"CEETOX_H295R_ESTRONE_up\"\n",
    "]"
   ]
  },
  {
   "cell_type": "code",
   "execution_count": 3,
   "id": "fdc74802-48d2-4b5f-bf65-ef2098096afe",
   "metadata": {},
   "outputs": [],
   "source": [
    "# find all matching\n",
    "\n",
    "dfs = []\n",
    "smiles = []\n",
    "\n",
    "for assay in assays:\n",
    "    path = f\"data/{assay}.csv\"\n",
    "    df = pd.read_csv(path)\n",
    "    # print(df[\"smiles\"].isnull().sum())\n",
    "    \n",
    "    s = df[[\"preferredName\", \"smiles\"]].copy()\n",
    "    s.index = s[\"preferredName\"]\n",
    "    del s[\"preferredName\"]\n",
    "    smiles.append(s)\n",
    "    \n",
    "    df = df[[\"preferredName\", \"hitc\"]] # only leave these two columns\n",
    "    \n",
    "    df = df[df[\"hitc\"] != -1] # 22.9.2022.: remove inconclusive results\n",
    "    \n",
    "    df.index = df[\"preferredName\"] \n",
    "    del df[\"preferredName\"] # set index to name and remove the column name\n",
    "    df.columns = [assay] # set type (only remaining column) to name of assay\n",
    "    # df.dropna(inplace=True)  # TODO: search for names in some other way?\n",
    "    \n",
    "    dfs.append(df)\n",
    "\n",
    "# save for later\n",
    "smiles = pd.concat(smiles, axis=0)\n",
    "smiles = smiles[~smiles.index.duplicated(keep='first')]"
   ]
  },
  {
   "cell_type": "code",
   "execution_count": 4,
   "id": "d53df791-ec0c-404e-bf61-847c237fce1a",
   "metadata": {},
   "outputs": [
    {
     "data": {
      "text/plain": [
       "smiles    0\n",
       "dtype: int64"
      ]
     },
     "execution_count": 4,
     "metadata": {},
     "output_type": "execute_result"
    }
   ],
   "source": [
    "smiles.isnull().sum() # should be zero, run fix-smiles!"
   ]
  },
  {
   "cell_type": "markdown",
   "id": "71f176a1-4a35-4539-bec6-1d7910a4a53b",
   "metadata": {
    "tags": []
   },
   "source": [
    "# Single Key Event Convs (SKEC)"
   ]
  },
  {
   "cell_type": "code",
   "execution_count": 5,
   "id": "9cd074ee-81c2-40bd-9ff5-c86588c24b9d",
   "metadata": {},
   "outputs": [
    {
     "name": "stderr",
     "output_type": "stream",
     "text": [
      "RDKit ERROR: [12:35:21] SMILES Parse Error: syntax error while parsing: [Ca+2].[X]CCCCCCCCCCCC.[X]CCCCCCCCCCCC.[O-]S(=O)(=O)c1ccccc1.[O-]S(=O)(=O)c2ccccc2\n",
      "[12:35:21] SMILES Parse Error: syntax error while parsing: [Ca+2].[X]CCCCCCCCCCCC.[X]CCCCCCCCCCCC.[O-]S(=O)(=O)c1ccccc1.[O-]S(=O)(=O)c2ccccc2\n",
      "RDKit ERROR: [12:35:21] SMILES Parse Error: Failed parsing SMILES '[Ca+2].[X]CCCCCCCCCCCC.[X]CCCCCCCCCCCC.[O-]S(=O)(=O)c1ccccc1.[O-]S(=O)(=O)c2ccccc2' for input: '[Ca+2].[X]CCCCCCCCCCCC.[X]CCCCCCCCCCCC.[O-]S(=O)(=O)c1ccccc1.[O-]S(=O)(=O)c2ccccc2'\n",
      "[12:35:21] SMILES Parse Error: Failed parsing SMILES '[Ca+2].[X]CCCCCCCCCCCC.[X]CCCCCCCCCCCC.[O-]S(=O)(=O)c1ccccc1.[O-]S(=O)(=O)c2ccccc2' for input: '[Ca+2].[X]CCCCCCCCCCCC.[X]CCCCCCCCCCCC.[O-]S(=O)(=O)c1ccccc1.[O-]S(=O)(=O)c2ccccc2'\n",
      "RDKit ERROR: [12:35:21] SMILES Parse Error: syntax error while parsing: [X]C(C)CCCCCC.[X][N+](=O)[O-].C\\C=C\\C(=O)Oc1ccccc1[N+](=O)[O-]\n",
      "[12:35:21] SMILES Parse Error: syntax error while parsing: [X]C(C)CCCCCC.[X][N+](=O)[O-].C\\C=C\\C(=O)Oc1ccccc1[N+](=O)[O-]\n",
      "RDKit ERROR: [12:35:21] SMILES Parse Error: Failed parsing SMILES '[X]C(C)CCCCCC.[X][N+](=O)[O-].C\\C=C\\C(=O)Oc1ccccc1[N+](=O)[O-]' for input: '[X]C(C)CCCCCC.[X][N+](=O)[O-].C\\C=C\\C(=O)Oc1ccccc1[N+](=O)[O-]'\n"
     ]
    },
    {
     "name": "stdout",
     "output_type": "stream",
     "text": [
      "Bad smiles string for Calcium dodecylbenzene sulfonate\n",
      "Bad smiles string for Dinocap\n"
     ]
    },
    {
     "name": "stderr",
     "output_type": "stream",
     "text": [
      "[12:35:21] SMILES Parse Error: Failed parsing SMILES '[X]C(C)CCCCCC.[X][N+](=O)[O-].C\\C=C\\C(=O)Oc1ccccc1[N+](=O)[O-]' for input: '[X]C(C)CCCCCC.[X][N+](=O)[O-].C\\C=C\\C(=O)Oc1ccccc1[N+](=O)[O-]'\n",
      "RDKit ERROR: [12:35:22] SMILES Parse Error: syntax error while parsing: ['Rgp']c1ccc(O)cc1\n",
      "[12:35:22] SMILES Parse Error: syntax error while parsing: ['Rgp']c1ccc(O)cc1\n",
      "RDKit ERROR: [12:35:22] SMILES Parse Error: Failed parsing SMILES '['Rgp']c1ccc(O)cc1' for input: '['Rgp']c1ccc(O)cc1'\n",
      "[12:35:22] SMILES Parse Error: Failed parsing SMILES '['Rgp']c1ccc(O)cc1' for input: '['Rgp']c1ccc(O)cc1'\n"
     ]
    },
    {
     "name": "stdout",
     "output_type": "stream",
     "text": [
      "Bad smiles string for 4-Nonylphenol, branched\n",
      "Bad smiles string for Zinc pyrithione\n",
      "Bad smiles string for Diisooctyl adipate\n"
     ]
    },
    {
     "name": "stderr",
     "output_type": "stream",
     "text": [
      "RDKit ERROR: [12:35:22] Explicit valence for atom # 0 O, 3, is greater than permitted\n",
      "[12:35:22] Explicit valence for atom # 0 O, 3, is greater than permitted\n",
      "RDKit ERROR: [12:35:22] SMILES Parse Error: syntax error while parsing: [X]C.[X]C.CCCCCCCOC(=O)CCCCC(=O)OCCCCCCC\n",
      "RDKit ERROR: [12:35:22] SMILES Parse Error: Failed parsing SMILES '[X]C.[X]C.CCCCCCCOC(=O)CCCCC(=O)OCCCCCCC' for input: '[X]C.[X]C.CCCCCCCOC(=O)CCCCC(=O)OCCCCCCC'\n",
      "[12:35:22] SMILES Parse Error: syntax error while parsing: [X]C.[X]C.CCCCCCCOC(=O)CCCCC(=O)OCCCCCCC\n",
      "[12:35:22] SMILES Parse Error: Failed parsing SMILES '[X]C.[X]C.CCCCCCCOC(=O)CCCCC(=O)OCCCCCCC' for input: '[X]C.[X]C.CCCCCCCOC(=O)CCCCC(=O)OCCCCCCC'\n",
      "RDKit ERROR: [12:35:22] Explicit valence for atom # 4 C, 5, is greater than permitted\n",
      "[12:35:22] Explicit valence for atom # 4 C, 5, is greater than permitted\n",
      "RDKit ERROR: [12:35:22] SMILES Parse Error: syntax error while parsing: [Cl-].['Rgp'][N+](C)(C)Cc1ccccc1\n",
      "[12:35:22] SMILES Parse Error: syntax error while parsing: [Cl-].['Rgp'][N+](C)(C)Cc1ccccc1\n",
      "RDKit ERROR: [12:35:22] SMILES Parse Error: Failed parsing SMILES '[Cl-].['Rgp'][N+](C)(C)Cc1ccccc1' for input: '[Cl-].['Rgp'][N+](C)(C)Cc1ccccc1'\n",
      "[12:35:22] SMILES Parse Error: Failed parsing SMILES '[Cl-].['Rgp'][N+](C)(C)Cc1ccccc1' for input: '[Cl-].['Rgp'][N+](C)(C)Cc1ccccc1'\n"
     ]
    },
    {
     "name": "stdout",
     "output_type": "stream",
     "text": [
      "Bad smiles string for (Methylcyclopentadienyl)tricarbonylmanganese\n",
      "Bad smiles string for Benzalkonium chloride\n",
      "Bad smiles string for Sodium hexafluorosilicate\n",
      "Bad smiles string for Calcium dodecylbenzene sulfonate\n"
     ]
    },
    {
     "name": "stderr",
     "output_type": "stream",
     "text": [
      "RDKit ERROR: [12:35:22] Explicit valence for atom # 3 Si, 8, is greater than permitted\n",
      "[12:35:22] Explicit valence for atom # 3 Si, 8, is greater than permitted\n",
      "RDKit ERROR: [12:35:22] SMILES Parse Error: syntax error while parsing: [Ca+2].[X]CCCCCCCCCCCC.[X]CCCCCCCCCCCC.[O-]S(=O)(=O)c1ccccc1.[O-]S(=O)(=O)c2ccccc2\n",
      "[12:35:22] SMILES Parse Error: syntax error while parsing: [Ca+2].[X]CCCCCCCCCCCC.[X]CCCCCCCCCCCC.[O-]S(=O)(=O)c1ccccc1.[O-]S(=O)(=O)c2ccccc2\n",
      "RDKit ERROR: [12:35:22] SMILES Parse Error: Failed parsing SMILES '[Ca+2].[X]CCCCCCCCCCCC.[X]CCCCCCCCCCCC.[O-]S(=O)(=O)c1ccccc1.[O-]S(=O)(=O)c2ccccc2' for input: '[Ca+2].[X]CCCCCCCCCCCC.[X]CCCCCCCCCCCC.[O-]S(=O)(=O)c1ccccc1.[O-]S(=O)(=O)c2ccccc2'\n",
      "[12:35:22] SMILES Parse Error: Failed parsing SMILES '[Ca+2].[X]CCCCCCCCCCCC.[X]CCCCCCCCCCCC.[O-]S(=O)(=O)c1ccccc1.[O-]S(=O)(=O)c2ccccc2' for input: '[Ca+2].[X]CCCCCCCCCCCC.[X]CCCCCCCCCCCC.[O-]S(=O)(=O)c1ccccc1.[O-]S(=O)(=O)c2ccccc2'\n",
      "RDKit ERROR: [12:35:22] SMILES Parse Error: syntax error while parsing: [X]C(C)CCCCCC.[X][N+](=O)[O-].C\\C=C\\C(=O)Oc1ccccc1[N+](=O)[O-]\n",
      "[12:35:22] SMILES Parse Error: syntax error while parsing: [X]C(C)CCCCCC.[X][N+](=O)[O-].C\\C=C\\C(=O)Oc1ccccc1[N+](=O)[O-]\n",
      "RDKit ERROR: [12:35:22] SMILES Parse Error: Failed parsing SMILES '[X]C(C)CCCCCC.[X][N+](=O)[O-].C\\C=C\\C(=O)Oc1ccccc1[N+](=O)[O-]' for input: '[X]C(C)CCCCCC.[X][N+](=O)[O-].C\\C=C\\C(=O)Oc1ccccc1[N+](=O)[O-]'\n",
      "[12:35:22] SMILES Parse Error: Failed parsing SMILES '[X]C(C)CCCCCC.[X][N+](=O)[O-].C\\C=C\\C(=O)Oc1ccccc1[N+](=O)[O-]' for input: '[X]C(C)CCCCCC.[X][N+](=O)[O-].C\\C=C\\C(=O)Oc1ccccc1[N+](=O)[O-]'\n",
      "RDKit ERROR: [12:35:23] SMILES Parse Error: syntax error while parsing: ['Rgp']c1ccc(O)cc1\n",
      "[12:35:23] SMILES Parse Error: syntax error while parsing: ['Rgp']c1ccc(O)cc1\n",
      "RDKit ERROR: [12:35:23] SMILES Parse Error: Failed parsing SMILES '['Rgp']c1ccc(O)cc1' for input: '['Rgp']c1ccc(O)cc1'\n",
      "[12:35:23] SMILES Parse Error: Failed parsing SMILES '['Rgp']c1ccc(O)cc1' for input: '['Rgp']c1ccc(O)cc1'\n"
     ]
    },
    {
     "name": "stdout",
     "output_type": "stream",
     "text": [
      "Bad smiles string for Dinocap\n",
      "Bad smiles string for 4-Nonylphenol, branched\n"
     ]
    },
    {
     "name": "stderr",
     "output_type": "stream",
     "text": [
      "RDKit ERROR: [12:35:23] Explicit valence for atom # 0 O, 3, is greater than permitted\n",
      "[12:35:23] Explicit valence for atom # 0 O, 3, is greater than permitted\n",
      "RDKit ERROR: [12:35:23] SMILES Parse Error: syntax error while parsing: [X]C.[X]C.CCCCCCCOC(=O)CCCCC(=O)OCCCCCCC\n",
      "RDKit ERROR: [12:35:23] SMILES Parse Error: Failed parsing SMILES '[X]C.[X]C.CCCCCCCOC(=O)CCCCC(=O)OCCCCCCC' for input: '[X]C.[X]C.CCCCCCCOC(=O)CCCCC(=O)OCCCCCCC'\n",
      "[12:35:23] SMILES Parse Error: syntax error while parsing: [X]C.[X]C.CCCCCCCOC(=O)CCCCC(=O)OCCCCCCC\n",
      "[12:35:23] SMILES Parse Error: Failed parsing SMILES '[X]C.[X]C.CCCCCCCOC(=O)CCCCC(=O)OCCCCCCC' for input: '[X]C.[X]C.CCCCCCCOC(=O)CCCCC(=O)OCCCCCCC'\n"
     ]
    },
    {
     "name": "stdout",
     "output_type": "stream",
     "text": [
      "Bad smiles string for Zinc pyrithione\n",
      "Bad smiles string for Diisooctyl adipate\n"
     ]
    },
    {
     "name": "stderr",
     "output_type": "stream",
     "text": [
      "RDKit ERROR: [12:35:23] Explicit valence for atom # 4 C, 5, is greater than permitted\n",
      "[12:35:23] Explicit valence for atom # 4 C, 5, is greater than permitted\n",
      "RDKit ERROR: [12:35:23] SMILES Parse Error: syntax error while parsing: [Cl-].['Rgp'][N+](C)(C)Cc1ccccc1\n",
      "RDKit ERROR: [12:35:23] SMILES Parse Error: Failed parsing SMILES '[Cl-].['Rgp'][N+](C)(C)Cc1ccccc1' for input: '[Cl-].['Rgp'][N+](C)(C)Cc1ccccc1'\n",
      "RDKit ERROR: [12:35:23] Explicit valence for atom # 3 Si, 8, is greater than permitted\n",
      "[12:35:23] SMILES Parse Error: syntax error while parsing: [Cl-].['Rgp'][N+](C)(C)Cc1ccccc1\n",
      "[12:35:23] SMILES Parse Error: Failed parsing SMILES '[Cl-].['Rgp'][N+](C)(C)Cc1ccccc1' for input: '[Cl-].['Rgp'][N+](C)(C)Cc1ccccc1'\n",
      "[12:35:23] Explicit valence for atom # 3 Si, 8, is greater than permitted\n",
      "RDKit ERROR: [12:35:23] SMILES Parse Error: syntax error while parsing: [X]C(C)C.CC(C)c1ccccc1\n",
      "[12:35:23] SMILES Parse Error: syntax error while parsing: [X]C(C)C.CC(C)c1ccccc1\n",
      "RDKit ERROR: [12:35:23] SMILES Parse Error: Failed parsing SMILES '[X]C(C)C.CC(C)c1ccccc1' for input: '[X]C(C)C.CC(C)c1ccccc1'\n",
      "[12:35:23] SMILES Parse Error: Failed parsing SMILES '[X]C(C)C.CC(C)c1ccccc1' for input: '[X]C(C)C.CC(C)c1ccccc1'\n"
     ]
    },
    {
     "name": "stdout",
     "output_type": "stream",
     "text": [
      "Bad smiles string for (Methylcyclopentadienyl)tricarbonylmanganese\n",
      "Bad smiles string for Benzalkonium chloride\n",
      "Bad smiles string for Sodium hexafluorosilicate\n",
      "Bad smiles string for Diisopropylbenzene\n"
     ]
    },
    {
     "name": "stderr",
     "output_type": "stream",
     "text": [
      "RDKit ERROR: [12:35:23] SMILES Parse Error: syntax error while parsing: [Ca+2].[X]CCCCCCCCCCCC.[X]CCCCCCCCCCCC.[O-]S(=O)(=O)c1ccccc1.[O-]S(=O)(=O)c2ccccc2\n",
      "[12:35:23] SMILES Parse Error: syntax error while parsing: [Ca+2].[X]CCCCCCCCCCCC.[X]CCCCCCCCCCCC.[O-]S(=O)(=O)c1ccccc1.[O-]S(=O)(=O)c2ccccc2\n",
      "RDKit ERROR: [12:35:23] SMILES Parse Error: Failed parsing SMILES '[Ca+2].[X]CCCCCCCCCCCC.[X]CCCCCCCCCCCC.[O-]S(=O)(=O)c1ccccc1.[O-]S(=O)(=O)c2ccccc2' for input: '[Ca+2].[X]CCCCCCCCCCCC.[X]CCCCCCCCCCCC.[O-]S(=O)(=O)c1ccccc1.[O-]S(=O)(=O)c2ccccc2'\n",
      "[12:35:23] SMILES Parse Error: Failed parsing SMILES '[Ca+2].[X]CCCCCCCCCCCC.[X]CCCCCCCCCCCC.[O-]S(=O)(=O)c1ccccc1.[O-]S(=O)(=O)c2ccccc2' for input: '[Ca+2].[X]CCCCCCCCCCCC.[X]CCCCCCCCCCCC.[O-]S(=O)(=O)c1ccccc1.[O-]S(=O)(=O)c2ccccc2'\n"
     ]
    },
    {
     "name": "stdout",
     "output_type": "stream",
     "text": [
      "Bad smiles string for Calcium dodecylbenzene sulfonate\n"
     ]
    },
    {
     "name": "stderr",
     "output_type": "stream",
     "text": [
      "RDKit ERROR: [12:35:24] SMILES Parse Error: syntax error while parsing: [X]C(C)CCCCCC.[X][N+](=O)[O-].C\\C=C\\C(=O)Oc1ccccc1[N+](=O)[O-]\n",
      "[12:35:24] SMILES Parse Error: syntax error while parsing: [X]C(C)CCCCCC.[X][N+](=O)[O-].C\\C=C\\C(=O)Oc1ccccc1[N+](=O)[O-]\n",
      "RDKit ERROR: [12:35:24] SMILES Parse Error: Failed parsing SMILES '[X]C(C)CCCCCC.[X][N+](=O)[O-].C\\C=C\\C(=O)Oc1ccccc1[N+](=O)[O-]' for input: '[X]C(C)CCCCCC.[X][N+](=O)[O-].C\\C=C\\C(=O)Oc1ccccc1[N+](=O)[O-]'\n",
      "[12:35:24] SMILES Parse Error: Failed parsing SMILES '[X]C(C)CCCCCC.[X][N+](=O)[O-].C\\C=C\\C(=O)Oc1ccccc1[N+](=O)[O-]' for input: '[X]C(C)CCCCCC.[X][N+](=O)[O-].C\\C=C\\C(=O)Oc1ccccc1[N+](=O)[O-]'\n",
      "RDKit ERROR: [12:35:24] Explicit valence for atom # 0 N, 4, is greater than permitted\n",
      "[12:35:24] Explicit valence for atom # 0 N, 4, is greater than permitted\n",
      "RDKit ERROR: [12:35:24] Explicit valence for atom # 0 N, 4, is greater than permitted\n",
      "[12:35:24] Explicit valence for atom # 0 N, 4, is greater than permitted\n"
     ]
    },
    {
     "name": "stdout",
     "output_type": "stream",
     "text": [
      "Bad smiles string for Dinocap\n",
      "Bad smiles string for Carboplatin\n",
      "Bad smiles string for Cisplatin\n"
     ]
    },
    {
     "name": "stderr",
     "output_type": "stream",
     "text": [
      "RDKit ERROR: [12:35:24] SMILES Parse Error: syntax error while parsing: ['Rgp']c1ccc(O)cc1\n",
      "[12:35:24] SMILES Parse Error: syntax error while parsing: ['Rgp']c1ccc(O)cc1\n",
      "RDKit ERROR: [12:35:24] SMILES Parse Error: Failed parsing SMILES '['Rgp']c1ccc(O)cc1' for input: '['Rgp']c1ccc(O)cc1'\n",
      "[12:35:24] SMILES Parse Error: Failed parsing SMILES '['Rgp']c1ccc(O)cc1' for input: '['Rgp']c1ccc(O)cc1'\n"
     ]
    },
    {
     "name": "stdout",
     "output_type": "stream",
     "text": [
      "Bad smiles string for 4-Nonylphenol, branched\n"
     ]
    },
    {
     "name": "stderr",
     "output_type": "stream",
     "text": [
      "RDKit ERROR: [12:35:24] Explicit valence for atom # 7 Mg, 6, is greater than permitted\n",
      "[12:35:24] Explicit valence for atom # 7 Mg, 6, is greater than permitted\n",
      "RDKit ERROR: [12:35:25] Explicit valence for atom # 0 O, 3, is greater than permitted\n",
      "[12:35:25] Explicit valence for atom # 0 O, 3, is greater than permitted\n",
      "RDKit ERROR: [12:35:25] SMILES Parse Error: syntax error while parsing: [X]C.[X]C.CCCCCCCOC(=O)CCCCC(=O)OCCCCCCC\n",
      "RDKit ERROR: [12:35:25] SMILES Parse Error: Failed parsing SMILES '[X]C.[X]C.CCCCCCCOC(=O)CCCCC(=O)OCCCCCCC' for input: '[X]C.[X]C.CCCCCCCOC(=O)CCCCC(=O)OCCCCCCC'\n",
      "[12:35:25] SMILES Parse Error: syntax error while parsing: [X]C.[X]C.CCCCCCCOC(=O)CCCCC(=O)OCCCCCCC\n",
      "[12:35:25] SMILES Parse Error: Failed parsing SMILES '[X]C.[X]C.CCCCCCCOC(=O)CCCCC(=O)OCCCCCCC' for input: '[X]C.[X]C.CCCCCCCOC(=O)CCCCC(=O)OCCCCCCC'\n",
      "RDKit ERROR: [12:35:25] Explicit valence for atom # 1 C, 5, is greater than permitted\n",
      "[12:35:25] Explicit valence for atom # 1 C, 5, is greater than permitted\n"
     ]
    },
    {
     "name": "stdout",
     "output_type": "stream",
     "text": [
      "Bad smiles string for Magnesium, bis(salicylato)-, tetrahydrate\n",
      "Bad smiles string for Zinc pyrithione\n",
      "Bad smiles string for Diisooctyl adipate\n",
      "Bad smiles string for Vitamin B12\n"
     ]
    },
    {
     "name": "stderr",
     "output_type": "stream",
     "text": [
      "RDKit WARNING: [12:35:25] WARNING: not removing hydrogen atom without neighbors\n",
      "[12:35:25] WARNING: not removing hydrogen atom without neighbors\n",
      "RDKit ERROR: [12:35:25] Explicit valence for atom # 0 F, 2, is greater than permitted\n",
      "[12:35:25] Explicit valence for atom # 0 F, 2, is greater than permitted\n",
      "RDKit ERROR: [12:35:25] Explicit valence for atom # 4 C, 5, is greater than permitted\n",
      "[12:35:25] Explicit valence for atom # 4 C, 5, is greater than permitted\n",
      "RDKit ERROR: [12:35:25] SMILES Parse Error: syntax error while parsing: [*]C.[*]C.[*]CC.[*]CC.['Rgp']CCCCCOC(=O)c1ccccc1C(=O)OCCCCC['Rgp']\n",
      "RDKit ERROR: [12:35:25] SMILES Parse Error: Failed parsing SMILES '[*]C.[*]C.[*]CC.[*]CC.['Rgp']CCCCCOC(=O)c1ccccc1C(=O)OCCCCC['Rgp']' for input: '[*]C.[*]C.[*]CC.[*]CC.['Rgp']CCCCCOC(=O)c1ccccc1C(=O)OCCCCC['Rgp']'\n"
     ]
    },
    {
     "name": "stdout",
     "output_type": "stream",
     "text": [
      "Bad smiles string for 1-Ethyl-1-methylpyrrolidinium tetrafluoroborate\n",
      "Bad smiles string for (Methylcyclopentadienyl)tricarbonylmanganese\n",
      "Bad smiles string for 1,2-Benzenedicarboxylic acid, di-C6-8-branched alkyl esters, C7-rich\n",
      "Bad smiles string for Benzalkonium chloride\n",
      "Bad smiles string for Sodium hexafluorosilicate\n"
     ]
    },
    {
     "name": "stderr",
     "output_type": "stream",
     "text": [
      "RDKit ERROR: [12:35:25] SMILES Parse Error: syntax error while parsing: [Cl-].['Rgp'][N+](C)(C)Cc1ccccc1\n",
      "RDKit ERROR: [12:35:25] SMILES Parse Error: Failed parsing SMILES '[Cl-].['Rgp'][N+](C)(C)Cc1ccccc1' for input: '[Cl-].['Rgp'][N+](C)(C)Cc1ccccc1'\n",
      "[12:35:25] SMILES Parse Error: syntax error while parsing: [*]C.[*]C.[*]CC.[*]CC.['Rgp']CCCCCOC(=O)c1ccccc1C(=O)OCCCCC['Rgp']\n",
      "[12:35:25] SMILES Parse Error: Failed parsing SMILES '[*]C.[*]C.[*]CC.[*]CC.['Rgp']CCCCCOC(=O)c1ccccc1C(=O)OCCCCC['Rgp']' for input: '[*]C.[*]C.[*]CC.[*]CC.['Rgp']CCCCCOC(=O)c1ccccc1C(=O)OCCCCC['Rgp']'\n",
      "[12:35:25] SMILES Parse Error: syntax error while parsing: [Cl-].['Rgp'][N+](C)(C)Cc1ccccc1\n",
      "RDKit ERROR: [12:35:25] Explicit valence for atom # 3 Si, 8, is greater than permitted\n",
      "[12:35:25] SMILES Parse Error: Failed parsing SMILES '[Cl-].['Rgp'][N+](C)(C)Cc1ccccc1' for input: '[Cl-].['Rgp'][N+](C)(C)Cc1ccccc1'\n",
      "[12:35:25] Explicit valence for atom # 3 Si, 8, is greater than permitted\n",
      "RDKit ERROR: [12:35:25] SMILES Parse Error: syntax error while parsing: [X]C(C)C.CC(C)c1ccccc1\n",
      "[12:35:25] SMILES Parse Error: syntax error while parsing: [X]C(C)C.CC(C)c1ccccc1\n",
      "RDKit ERROR: [12:35:25] SMILES Parse Error: Failed parsing SMILES '[X]C(C)C.CC(C)c1ccccc1' for input: '[X]C(C)C.CC(C)c1ccccc1'\n",
      "[12:35:25] SMILES Parse Error: Failed parsing SMILES '[X]C(C)C.CC(C)c1ccccc1' for input: '[X]C(C)C.CC(C)c1ccccc1'\n",
      "RDKit ERROR: [12:35:25] SMILES Parse Error: syntax error while parsing: ['Rgp']CN.['Rgp']C(C)N.['Rgp']C(C)NC.['Rgp']C1CCC(N)C(OC2C(N)CC(N)C(OC3OCC(C)(O)C(NC)C3O)C2O)O1\n",
      "RDKit ERROR: [12:35:25] SMILES Parse Error: Failed parsing SMILES '['Rgp']CN.['Rgp']C(C)N.['Rgp']C(C)NC.['Rgp']C1CCC(N)C(OC2C(N)CC(N)C(OC3OCC(C)(O)C(NC)C3O)C2O)O1' for input: '['Rgp']CN.['Rgp']C(C)N.['Rgp']C(C)NC.['Rgp']C1CCC(N)C(OC2C(N)CC(N)C(OC3OCC(C)(O)C(NC)C3O)C2O)O1'\n"
     ]
    },
    {
     "name": "stdout",
     "output_type": "stream",
     "text": [
      "Bad smiles string for Diisopropylbenzene\n",
      "Bad smiles string for Gentamicin sulfate\n"
     ]
    },
    {
     "name": "stderr",
     "output_type": "stream",
     "text": [
      "[12:35:25] SMILES Parse Error: syntax error while parsing: ['Rgp']CN.['Rgp']C(C)N.['Rgp']C(C)NC.['Rgp']C1CCC(N)C(OC2C(N)CC(N)C(OC3OCC(C)(O)C(NC)C3O)C2O)O1\n",
      "[12:35:25] SMILES Parse Error: Failed parsing SMILES '['Rgp']CN.['Rgp']C(C)N.['Rgp']C(C)NC.['Rgp']C1CCC(N)C(OC2C(N)CC(N)C(OC3OCC(C)(O)C(NC)C3O)C2O)O1' for input: '['Rgp']CN.['Rgp']C(C)N.['Rgp']C(C)NC.['Rgp']C1CCC(N)C(OC2C(N)CC(N)C(OC3OCC(C)(O)C(NC)C3O)C2O)O1'\n",
      "RDKit ERROR: [12:35:25] SMILES Parse Error: syntax error while parsing: [Ca+2].[X]CCCCCCCCCCCC.[X]CCCCCCCCCCCC.[O-]S(=O)(=O)c1ccccc1.[O-]S(=O)(=O)c2ccccc2\n",
      "[12:35:25] SMILES Parse Error: syntax error while parsing: [Ca+2].[X]CCCCCCCCCCCC.[X]CCCCCCCCCCCC.[O-]S(=O)(=O)c1ccccc1.[O-]S(=O)(=O)c2ccccc2\n",
      "RDKit ERROR: [12:35:25] SMILES Parse Error: Failed parsing SMILES '[Ca+2].[X]CCCCCCCCCCCC.[X]CCCCCCCCCCCC.[O-]S(=O)(=O)c1ccccc1.[O-]S(=O)(=O)c2ccccc2' for input: '[Ca+2].[X]CCCCCCCCCCCC.[X]CCCCCCCCCCCC.[O-]S(=O)(=O)c1ccccc1.[O-]S(=O)(=O)c2ccccc2'\n",
      "[12:35:25] SMILES Parse Error: Failed parsing SMILES '[Ca+2].[X]CCCCCCCCCCCC.[X]CCCCCCCCCCCC.[O-]S(=O)(=O)c1ccccc1.[O-]S(=O)(=O)c2ccccc2' for input: '[Ca+2].[X]CCCCCCCCCCCC.[X]CCCCCCCCCCCC.[O-]S(=O)(=O)c1ccccc1.[O-]S(=O)(=O)c2ccccc2'\n"
     ]
    },
    {
     "name": "stdout",
     "output_type": "stream",
     "text": [
      "Bad smiles string for Calcium dodecylbenzene sulfonate\n"
     ]
    },
    {
     "name": "stderr",
     "output_type": "stream",
     "text": [
      "RDKit ERROR: [12:35:26] SMILES Parse Error: syntax error while parsing: [X]C(C)CCCCCC.[X][N+](=O)[O-].C\\C=C\\C(=O)Oc1ccccc1[N+](=O)[O-]\n",
      "[12:35:26] SMILES Parse Error: syntax error while parsing: [X]C(C)CCCCCC.[X][N+](=O)[O-].C\\C=C\\C(=O)Oc1ccccc1[N+](=O)[O-]\n",
      "RDKit ERROR: [12:35:26] SMILES Parse Error: Failed parsing SMILES '[X]C(C)CCCCCC.[X][N+](=O)[O-].C\\C=C\\C(=O)Oc1ccccc1[N+](=O)[O-]' for input: '[X]C(C)CCCCCC.[X][N+](=O)[O-].C\\C=C\\C(=O)Oc1ccccc1[N+](=O)[O-]'\n",
      "[12:35:26] SMILES Parse Error: Failed parsing SMILES '[X]C(C)CCCCCC.[X][N+](=O)[O-].C\\C=C\\C(=O)Oc1ccccc1[N+](=O)[O-]' for input: '[X]C(C)CCCCCC.[X][N+](=O)[O-].C\\C=C\\C(=O)Oc1ccccc1[N+](=O)[O-]'\n",
      "RDKit ERROR: [12:35:26] Explicit valence for atom # 0 N, 4, is greater than permitted\n",
      "[12:35:26] Explicit valence for atom # 0 N, 4, is greater than permitted\n",
      "RDKit ERROR: [12:35:26] Explicit valence for atom # 0 N, 4, is greater than permitted\n",
      "[12:35:26] Explicit valence for atom # 0 N, 4, is greater than permitted\n"
     ]
    },
    {
     "name": "stdout",
     "output_type": "stream",
     "text": [
      "Bad smiles string for Dinocap\n",
      "Bad smiles string for Carboplatin\n",
      "Bad smiles string for Cisplatin\n"
     ]
    },
    {
     "name": "stderr",
     "output_type": "stream",
     "text": [
      "RDKit ERROR: [12:35:26] SMILES Parse Error: syntax error while parsing: ['Rgp']c1ccc(O)cc1\n",
      "[12:35:26] SMILES Parse Error: syntax error while parsing: ['Rgp']c1ccc(O)cc1\n",
      "RDKit ERROR: [12:35:26] SMILES Parse Error: Failed parsing SMILES '['Rgp']c1ccc(O)cc1' for input: '['Rgp']c1ccc(O)cc1'\n",
      "RDKit ERROR: [12:35:26] SMILES Parse Error: syntax error while parsing: ['Rgp'][C@@H]1N2C(=O)[C@](NC(=O)[C@@H]3C[C@H]4[C@@H](Cc5c[nH]c6cccc4c56)N(C)C3)(O[C@@]2(O)[C@@H]7CCCN7C1=O)C(C)C.CS(=O)(=O)O\n",
      "RDKit ERROR: [12:35:26] SMILES Parse Error: Failed parsing SMILES '['Rgp'][C@@H]1N2C(=O)[C@](NC(=O)[C@@H]3C[C@H]4[C@@H](Cc5c[nH]c6cccc4c56)N(C)C3)(O[C@@]2(O)[C@@H]7CCCN7C1=O)C(C)C.CS(=O)(=O)O' for input: '['Rgp'][C@@H]1N2C(=O)[C@](NC(=O)[C@@H]3C[C@H]4[C@@H](Cc5c[nH]c6cccc4c56)N(C)C3)(O[C@@]2(O)[C@@H]7CCCN7C1=O)C(C)C.CS(=O)(=O)O'\n",
      "[12:35:26] SMILES Parse Error: Failed parsing SMILES '['Rgp']c1ccc(O)cc1' for input: '['Rgp']c1ccc(O)cc1'\n",
      "[12:35:26] SMILES Parse Error: syntax error while parsing: ['Rgp'][C@@H]1N2C(=O)[C@](NC(=O)[C@@H]3C[C@H]4[C@@H](Cc5c[nH]c6cccc4c56)N(C)C3)(O[C@@]2(O)[C@@H]7CCCN7C1=O)C(C)C.CS(=O)(=O)O\n",
      "[12:35:26] SMILES Parse Error: Failed parsing SMILES '['Rgp'][C@@H]1N2C(=O)[C@](NC(=O)[C@@H]3C[C@H]4[C@@H](Cc5c[nH]c6cccc4c56)N(C)C3)(O[C@@]2(O)[C@@H]7CCCN7C1=O)C(C)C.CS(=O)(=O)O' for input: '['Rgp'][C@@H]1N2C(=O)[C@](NC(=O)[C@@H]3C[C@H]4[C@@H](Cc5c[nH]c6cccc4c56)N(C)C3)(O[C@@]2(O)[C@@H]7CCCN7C1=O)C(C)C.CS(=O)(=O)O'\n",
      "RDKit ERROR: [12:35:26] Explicit valence for atom # 0 O, 3, is greater than permitted\n",
      "[12:35:26] Explicit valence for atom # 0 O, 3, is greater than permitted\n",
      "RDKit WARNING: [12:35:26] WARNING: not removing hydrogen atom without neighbors\n",
      "[12:35:26] WARNING: not removing hydrogen atom without neighbors\n",
      "RDKit WARNING: [12:35:26] WARNING: not removing hydrogen atom without neighbors\n",
      "[12:35:26] WARNING: not removing hydrogen atom without neighbors\n"
     ]
    },
    {
     "name": "stdout",
     "output_type": "stream",
     "text": [
      "Bad smiles string for 4-Nonylphenol, branched\n",
      "Bad smiles string for Hydergine\n",
      "Bad smiles string for Aurothioglucose\n"
     ]
    },
    {
     "name": "stderr",
     "output_type": "stream",
     "text": [
      "RDKit ERROR: [12:35:27] Explicit valence for atom # 7 Mg, 6, is greater than permitted\n",
      "[12:35:27] Explicit valence for atom # 7 Mg, 6, is greater than permitted\n",
      "RDKit ERROR: [12:35:27] Explicit valence for atom # 3 Si, 8, is greater than permitted\n",
      "[12:35:27] Explicit valence for atom # 3 Si, 8, is greater than permitted\n",
      "RDKit ERROR: [12:35:27] Explicit valence for atom # 0 O, 3, is greater than permitted\n",
      "[12:35:27] Explicit valence for atom # 0 O, 3, is greater than permitted\n",
      "RDKit ERROR: [12:35:27] SMILES Parse Error: syntax error while parsing: [X]C.[X]C.CCCCCCCOC(=O)CCCCC(=O)OCCCCCCC\n",
      "RDKit ERROR: [12:35:27] SMILES Parse Error: Failed parsing SMILES '[X]C.[X]C.CCCCCCCOC(=O)CCCCC(=O)OCCCCCCC' for input: '[X]C.[X]C.CCCCCCCOC(=O)CCCCC(=O)OCCCCCCC'\n",
      "[12:35:27] SMILES Parse Error: syntax error while parsing: [X]C.[X]C.CCCCCCCOC(=O)CCCCC(=O)OCCCCCCC\n",
      "[12:35:27] SMILES Parse Error: Failed parsing SMILES '[X]C.[X]C.CCCCCCCOC(=O)CCCCC(=O)OCCCCCCC' for input: '[X]C.[X]C.CCCCCCCOC(=O)CCCCC(=O)OCCCCCCC'\n",
      "RDKit ERROR: [12:35:27] Explicit valence for atom # 1 C, 5, is greater than permitted\n",
      "[12:35:27] Explicit valence for atom # 1 C, 5, is greater than permitted\n"
     ]
    },
    {
     "name": "stdout",
     "output_type": "stream",
     "text": [
      "Bad smiles string for Magnesium, bis(salicylato)-, tetrahydrate\n",
      "Bad smiles string for Ammonium hexafluorosilicate\n",
      "Bad smiles string for Zinc pyrithione\n",
      "Bad smiles string for Diisooctyl adipate\n",
      "Bad smiles string for Vitamin B12\n"
     ]
    },
    {
     "name": "stderr",
     "output_type": "stream",
     "text": [
      "RDKit WARNING: [12:35:27] WARNING: not removing hydrogen atom without neighbors\n",
      "[12:35:27] WARNING: not removing hydrogen atom without neighbors\n",
      "RDKit ERROR: [12:35:27] Explicit valence for atom # 0 F, 2, is greater than permitted\n",
      "[12:35:27] Explicit valence for atom # 0 F, 2, is greater than permitted\n"
     ]
    },
    {
     "name": "stdout",
     "output_type": "stream",
     "text": [
      "Bad smiles string for 1-Ethyl-1-methylpyrrolidinium tetrafluoroborate\n",
      "Bad smiles string for (Methylcyclopentadienyl)tricarbonylmanganese\n",
      "Bad smiles string for 1,2-Benzenedicarboxylic acid, di-C6-8-branched alkyl esters, C7-rich\n",
      "Bad smiles string for Benzalkonium chloride\n",
      "Bad smiles string for Sodium hexafluorosilicate\n"
     ]
    },
    {
     "name": "stderr",
     "output_type": "stream",
     "text": [
      "RDKit ERROR: [12:35:27] Explicit valence for atom # 4 C, 5, is greater than permitted\n",
      "[12:35:27] Explicit valence for atom # 4 C, 5, is greater than permitted\n",
      "RDKit ERROR: [12:35:27] SMILES Parse Error: syntax error while parsing: [*]C.[*]C.[*]CC.[*]CC.['Rgp']CCCCCOC(=O)c1ccccc1C(=O)OCCCCC['Rgp']\n",
      "[12:35:27] SMILES Parse Error: syntax error while parsing: [*]C.[*]C.[*]CC.[*]CC.['Rgp']CCCCCOC(=O)c1ccccc1C(=O)OCCCCC['Rgp']\n",
      "RDKit ERROR: [12:35:27] SMILES Parse Error: Failed parsing SMILES '[*]C.[*]C.[*]CC.[*]CC.['Rgp']CCCCCOC(=O)c1ccccc1C(=O)OCCCCC['Rgp']' for input: '[*]C.[*]C.[*]CC.[*]CC.['Rgp']CCCCCOC(=O)c1ccccc1C(=O)OCCCCC['Rgp']'\n",
      "[12:35:27] SMILES Parse Error: Failed parsing SMILES '[*]C.[*]C.[*]CC.[*]CC.['Rgp']CCCCCOC(=O)c1ccccc1C(=O)OCCCCC['Rgp']' for input: '[*]C.[*]C.[*]CC.[*]CC.['Rgp']CCCCCOC(=O)c1ccccc1C(=O)OCCCCC['Rgp']'\n",
      "RDKit ERROR: [12:35:27] SMILES Parse Error: syntax error while parsing: [Cl-].['Rgp'][N+](C)(C)Cc1ccccc1\n",
      "RDKit ERROR: [12:35:27] SMILES Parse Error: Failed parsing SMILES '[Cl-].['Rgp'][N+](C)(C)Cc1ccccc1' for input: '[Cl-].['Rgp'][N+](C)(C)Cc1ccccc1'\n",
      "RDKit ERROR: [12:35:27] Explicit valence for atom # 3 Si, 8, is greater than permitted\n",
      "[12:35:27] SMILES Parse Error: syntax error while parsing: [Cl-].['Rgp'][N+](C)(C)Cc1ccccc1\n",
      "[12:35:27] SMILES Parse Error: Failed parsing SMILES '[Cl-].['Rgp'][N+](C)(C)Cc1ccccc1' for input: '[Cl-].['Rgp'][N+](C)(C)Cc1ccccc1'\n",
      "[12:35:27] Explicit valence for atom # 3 Si, 8, is greater than permitted\n",
      "RDKit ERROR: [12:35:27] SMILES Parse Error: syntax error while parsing: [Ca+2].[X]CCCCCCCCCCCC.[X]CCCCCCCCCCCC.[O-]S(=O)(=O)c1ccccc1.[O-]S(=O)(=O)c2ccccc2\n",
      "[12:35:27] SMILES Parse Error: syntax error while parsing: [Ca+2].[X]CCCCCCCCCCCC.[X]CCCCCCCCCCCC.[O-]S(=O)(=O)c1ccccc1.[O-]S(=O)(=O)c2ccccc2\n",
      "RDKit ERROR: [12:35:27] SMILES Parse Error: Failed parsing SMILES '[Ca+2].[X]CCCCCCCCCCCC.[X]CCCCCCCCCCCC.[O-]S(=O)(=O)c1ccccc1.[O-]S(=O)(=O)c2ccccc2' for input: '[Ca+2].[X]CCCCCCCCCCCC.[X]CCCCCCCCCCCC.[O-]S(=O)(=O)c1ccccc1.[O-]S(=O)(=O)c2ccccc2'\n",
      "[12:35:27] SMILES Parse Error: Failed parsing SMILES '[Ca+2].[X]CCCCCCCCCCCC.[X]CCCCCCCCCCCC.[O-]S(=O)(=O)c1ccccc1.[O-]S(=O)(=O)c2ccccc2' for input: '[Ca+2].[X]CCCCCCCCCCCC.[X]CCCCCCCCCCCC.[O-]S(=O)(=O)c1ccccc1.[O-]S(=O)(=O)c2ccccc2'\n"
     ]
    },
    {
     "name": "stdout",
     "output_type": "stream",
     "text": [
      "Bad smiles string for Calcium dodecylbenzene sulfonate\n",
      "Bad smiles string for Dinocap\n",
      "Bad smiles string for 4-Nonylphenol, branched\n",
      "Bad smiles string for Diisooctyl adipate\n",
      "Bad smiles string for Benzalkonium chloride\n",
      "ok: 23426\n",
      "bad: ['Calcium dodecylbenzene sulfonate', 'Dinocap', '4-Nonylphenol, branched', 'Zinc pyrithione', 'Diisooctyl adipate', '(Methylcyclopentadienyl)tricarbonylmanganese', 'Benzalkonium chloride', 'Sodium hexafluorosilicate', 'Calcium dodecylbenzene sulfonate', 'Dinocap', '4-Nonylphenol, branched', 'Zinc pyrithione', 'Diisooctyl adipate', '(Methylcyclopentadienyl)tricarbonylmanganese', 'Benzalkonium chloride', 'Sodium hexafluorosilicate', 'Diisopropylbenzene', 'Calcium dodecylbenzene sulfonate', 'Dinocap', 'Carboplatin', 'Cisplatin', '4-Nonylphenol, branched', 'Magnesium, bis(salicylato)-, tetrahydrate', 'Zinc pyrithione', 'Diisooctyl adipate', 'Vitamin B12', '1-Ethyl-1-methylpyrrolidinium tetrafluoroborate', '(Methylcyclopentadienyl)tricarbonylmanganese', '1,2-Benzenedicarboxylic acid, di-C6-8-branched alkyl esters, C7-rich', 'Benzalkonium chloride', 'Sodium hexafluorosilicate', 'Diisopropylbenzene', 'Gentamicin sulfate', 'Calcium dodecylbenzene sulfonate', 'Dinocap', 'Carboplatin', 'Cisplatin', '4-Nonylphenol, branched', 'Hydergine', 'Aurothioglucose', 'Magnesium, bis(salicylato)-, tetrahydrate', 'Ammonium hexafluorosilicate', 'Zinc pyrithione', 'Diisooctyl adipate', 'Vitamin B12', '1-Ethyl-1-methylpyrrolidinium tetrafluoroborate', '(Methylcyclopentadienyl)tricarbonylmanganese', '1,2-Benzenedicarboxylic acid, di-C6-8-branched alkyl esters, C7-rich', 'Benzalkonium chloride', 'Sodium hexafluorosilicate', 'Calcium dodecylbenzene sulfonate', 'Dinocap', '4-Nonylphenol, branched', 'Diisooctyl adipate', 'Benzalkonium chloride']\n",
      "bad count: 55\n"
     ]
    },
    {
     "name": "stderr",
     "output_type": "stream",
     "text": [
      "RDKit ERROR: [12:35:27] SMILES Parse Error: syntax error while parsing: [X]C(C)CCCCCC.[X][N+](=O)[O-].C\\C=C\\C(=O)Oc1ccccc1[N+](=O)[O-]\n",
      "[12:35:27] SMILES Parse Error: syntax error while parsing: [X]C(C)CCCCCC.[X][N+](=O)[O-].C\\C=C\\C(=O)Oc1ccccc1[N+](=O)[O-]\n",
      "RDKit ERROR: [12:35:27] SMILES Parse Error: Failed parsing SMILES '[X]C(C)CCCCCC.[X][N+](=O)[O-].C\\C=C\\C(=O)Oc1ccccc1[N+](=O)[O-]' for input: '[X]C(C)CCCCCC.[X][N+](=O)[O-].C\\C=C\\C(=O)Oc1ccccc1[N+](=O)[O-]'\n",
      "[12:35:27] SMILES Parse Error: Failed parsing SMILES '[X]C(C)CCCCCC.[X][N+](=O)[O-].C\\C=C\\C(=O)Oc1ccccc1[N+](=O)[O-]' for input: '[X]C(C)CCCCCC.[X][N+](=O)[O-].C\\C=C\\C(=O)Oc1ccccc1[N+](=O)[O-]'\n",
      "RDKit ERROR: [12:35:27] SMILES Parse Error: syntax error while parsing: ['Rgp']c1ccc(O)cc1\n",
      "[12:35:27] SMILES Parse Error: syntax error while parsing: ['Rgp']c1ccc(O)cc1\n",
      "RDKit ERROR: [12:35:27] SMILES Parse Error: Failed parsing SMILES '['Rgp']c1ccc(O)cc1' for input: '['Rgp']c1ccc(O)cc1'\n",
      "[12:35:27] SMILES Parse Error: Failed parsing SMILES '['Rgp']c1ccc(O)cc1' for input: '['Rgp']c1ccc(O)cc1'\n",
      "RDKit ERROR: [12:35:28] SMILES Parse Error: syntax error while parsing: [X]C.[X]C.CCCCCCCOC(=O)CCCCC(=O)OCCCCCCC\n",
      "[12:35:28] SMILES Parse Error: syntax error while parsing: [X]C.[X]C.CCCCCCCOC(=O)CCCCC(=O)OCCCCCCC\n",
      "RDKit ERROR: [12:35:28] SMILES Parse Error: Failed parsing SMILES '[X]C.[X]C.CCCCCCCOC(=O)CCCCC(=O)OCCCCCCC' for input: '[X]C.[X]C.CCCCCCCOC(=O)CCCCC(=O)OCCCCCCC'\n",
      "[12:35:28] SMILES Parse Error: Failed parsing SMILES '[X]C.[X]C.CCCCCCCOC(=O)CCCCC(=O)OCCCCCCC' for input: '[X]C.[X]C.CCCCCCCOC(=O)CCCCC(=O)OCCCCCCC'\n",
      "RDKit ERROR: [12:35:28] SMILES Parse Error: syntax error while parsing: [Cl-].['Rgp'][N+](C)(C)Cc1ccccc1\n",
      "[12:35:28] SMILES Parse Error: syntax error while parsing: [Cl-].['Rgp'][N+](C)(C)Cc1ccccc1\n",
      "RDKit ERROR: [12:35:28] SMILES Parse Error: Failed parsing SMILES '[Cl-].['Rgp'][N+](C)(C)Cc1ccccc1' for input: '[Cl-].['Rgp'][N+](C)(C)Cc1ccccc1'\n",
      "[12:35:28] SMILES Parse Error: Failed parsing SMILES '[Cl-].['Rgp'][N+](C)(C)Cc1ccccc1' for input: '[Cl-].['Rgp'][N+](C)(C)Cc1ccccc1'\n",
      "/home/milosevicn/miniconda3/envs/bio/lib/python3.7/site-packages/pandas/core/frame.py:4315: SettingWithCopyWarning: \n",
      "A value is trying to be set on a copy of a slice from a DataFrame\n",
      "\n",
      "See the caveats in the documentation: https://pandas.pydata.org/pandas-docs/stable/user_guide/indexing.html#returning-a-view-versus-a-copy\n",
      "  errors=errors,\n",
      "2022-10-18 12:35:29.801555: I tensorflow/compiler/jit/xla_cpu_device.cc:41] Not creating XLA devices, tf_xla_enable_xla_devices not set\n",
      "2022-10-18 12:35:29.803020: I tensorflow/stream_executor/platform/default/dso_loader.cc:49] Successfully opened dynamic library libcuda.so.1\n",
      "2022-10-18 12:35:30.267394: I tensorflow/stream_executor/cuda/cuda_gpu_executor.cc:941] successful NUMA node read from SysFS had negative value (-1), but there must be at least one NUMA node, so returning NUMA node zero\n",
      "2022-10-18 12:35:30.267716: I tensorflow/core/common_runtime/gpu/gpu_device.cc:1720] Found device 0 with properties: \n",
      "pciBusID: 0000:01:00.0 name: NVIDIA GeForce RTX 2070 SUPER computeCapability: 7.5\n",
      "coreClock: 1.815GHz coreCount: 40 deviceMemorySize: 7.79GiB deviceMemoryBandwidth: 417.29GiB/s\n",
      "2022-10-18 12:35:30.267766: I tensorflow/stream_executor/platform/default/dso_loader.cc:49] Successfully opened dynamic library libcudart.so.10.1\n",
      "2022-10-18 12:35:30.272459: I tensorflow/stream_executor/platform/default/dso_loader.cc:49] Successfully opened dynamic library libcublas.so.10\n",
      "2022-10-18 12:35:30.272540: I tensorflow/stream_executor/platform/default/dso_loader.cc:49] Successfully opened dynamic library libcublasLt.so.10\n",
      "2022-10-18 12:35:30.276417: I tensorflow/stream_executor/platform/default/dso_loader.cc:49] Successfully opened dynamic library libcufft.so.10\n",
      "2022-10-18 12:35:30.277783: I tensorflow/stream_executor/platform/default/dso_loader.cc:49] Successfully opened dynamic library libcurand.so.10\n",
      "2022-10-18 12:35:30.282360: I tensorflow/stream_executor/platform/default/dso_loader.cc:49] Successfully opened dynamic library libcusolver.so.10\n",
      "2022-10-18 12:35:30.284924: I tensorflow/stream_executor/platform/default/dso_loader.cc:49] Successfully opened dynamic library libcusparse.so.10\n",
      "2022-10-18 12:35:30.291792: I tensorflow/stream_executor/platform/default/dso_loader.cc:49] Successfully opened dynamic library libcudnn.so.7\n",
      "2022-10-18 12:35:30.291955: I tensorflow/stream_executor/cuda/cuda_gpu_executor.cc:941] successful NUMA node read from SysFS had negative value (-1), but there must be at least one NUMA node, so returning NUMA node zero\n",
      "2022-10-18 12:35:30.292232: I tensorflow/stream_executor/cuda/cuda_gpu_executor.cc:941] successful NUMA node read from SysFS had negative value (-1), but there must be at least one NUMA node, so returning NUMA node zero\n",
      "2022-10-18 12:35:30.292397: I tensorflow/core/common_runtime/gpu/gpu_device.cc:1862] Adding visible gpu devices: 0\n",
      "2022-10-18 12:35:30.292798: I tensorflow/core/platform/cpu_feature_guard.cc:142] This TensorFlow binary is optimized with oneAPI Deep Neural Network Library (oneDNN) to use the following CPU instructions in performance-critical operations:  SSE4.1 SSE4.2 AVX AVX2 FMA\n",
      "To enable them in other operations, rebuild TensorFlow with the appropriate compiler flags.\n",
      "2022-10-18 12:35:30.293066: I tensorflow/stream_executor/cuda/cuda_gpu_executor.cc:941] successful NUMA node read from SysFS had negative value (-1), but there must be at least one NUMA node, so returning NUMA node zero\n",
      "2022-10-18 12:35:30.293248: I tensorflow/core/common_runtime/gpu/gpu_device.cc:1720] Found device 0 with properties: \n",
      "pciBusID: 0000:01:00.0 name: NVIDIA GeForce RTX 2070 SUPER computeCapability: 7.5\n",
      "coreClock: 1.815GHz coreCount: 40 deviceMemorySize: 7.79GiB deviceMemoryBandwidth: 417.29GiB/s\n",
      "2022-10-18 12:35:30.293281: I tensorflow/stream_executor/platform/default/dso_loader.cc:49] Successfully opened dynamic library libcudart.so.10.1\n",
      "2022-10-18 12:35:30.293312: I tensorflow/stream_executor/platform/default/dso_loader.cc:49] Successfully opened dynamic library libcublas.so.10\n",
      "2022-10-18 12:35:30.293340: I tensorflow/stream_executor/platform/default/dso_loader.cc:49] Successfully opened dynamic library libcublasLt.so.10\n",
      "2022-10-18 12:35:30.293368: I tensorflow/stream_executor/platform/default/dso_loader.cc:49] Successfully opened dynamic library libcufft.so.10\n",
      "2022-10-18 12:35:30.293396: I tensorflow/stream_executor/platform/default/dso_loader.cc:49] Successfully opened dynamic library libcurand.so.10\n",
      "2022-10-18 12:35:30.293423: I tensorflow/stream_executor/platform/default/dso_loader.cc:49] Successfully opened dynamic library libcusolver.so.10\n",
      "2022-10-18 12:35:30.293452: I tensorflow/stream_executor/platform/default/dso_loader.cc:49] Successfully opened dynamic library libcusparse.so.10\n",
      "2022-10-18 12:35:30.293480: I tensorflow/stream_executor/platform/default/dso_loader.cc:49] Successfully opened dynamic library libcudnn.so.7\n",
      "2022-10-18 12:35:30.293580: I tensorflow/stream_executor/cuda/cuda_gpu_executor.cc:941] successful NUMA node read from SysFS had negative value (-1), but there must be at least one NUMA node, so returning NUMA node zero\n",
      "2022-10-18 12:35:30.293811: I tensorflow/stream_executor/cuda/cuda_gpu_executor.cc:941] successful NUMA node read from SysFS had negative value (-1), but there must be at least one NUMA node, so returning NUMA node zero\n",
      "2022-10-18 12:35:30.293961: I tensorflow/core/common_runtime/gpu/gpu_device.cc:1862] Adding visible gpu devices: 0\n",
      "2022-10-18 12:35:30.294003: I tensorflow/stream_executor/platform/default/dso_loader.cc:49] Successfully opened dynamic library libcudart.so.10.1\n",
      "2022-10-18 12:35:30.670517: I tensorflow/core/common_runtime/gpu/gpu_device.cc:1261] Device interconnect StreamExecutor with strength 1 edge matrix:\n",
      "2022-10-18 12:35:30.670540: I tensorflow/core/common_runtime/gpu/gpu_device.cc:1267]      0 \n",
      "2022-10-18 12:35:30.670548: I tensorflow/core/common_runtime/gpu/gpu_device.cc:1280] 0:   N \n",
      "2022-10-18 12:35:30.670726: I tensorflow/stream_executor/cuda/cuda_gpu_executor.cc:941] successful NUMA node read from SysFS had negative value (-1), but there must be at least one NUMA node, so returning NUMA node zero\n",
      "2022-10-18 12:35:30.670919: I tensorflow/stream_executor/cuda/cuda_gpu_executor.cc:941] successful NUMA node read from SysFS had negative value (-1), but there must be at least one NUMA node, so returning NUMA node zero\n",
      "2022-10-18 12:35:30.671068: I tensorflow/stream_executor/cuda/cuda_gpu_executor.cc:941] successful NUMA node read from SysFS had negative value (-1), but there must be at least one NUMA node, so returning NUMA node zero\n",
      "2022-10-18 12:35:30.671186: I tensorflow/core/common_runtime/gpu/gpu_device.cc:1406] Created TensorFlow device (/job:localhost/replica:0/task:0/device:GPU:0 with 7269 MB memory) -> physical GPU (device: 0, name: NVIDIA GeForce RTX 2070 SUPER, pci bus id: 0000:01:00.0, compute capability: 7.5)\n",
      "2022-10-18 12:35:30.671339: I tensorflow/compiler/jit/xla_gpu_device.cc:99] Not creating XLA devices, tf_xla_enable_xla_devices not set\n",
      "2022-10-18 12:35:30.921165: W tensorflow/core/framework/cpu_allocator_impl.cc:80] Allocation of 275865600 exceeds 10% of free system memory.\n",
      "2022-10-18 12:35:31.068687: I tensorflow/compiler/mlir/mlir_graph_optimization_pass.cc:116] None of the MLIR optimization passes are enabled (registered 2)\n",
      "2022-10-18 12:35:31.069082: I tensorflow/core/platform/profile_utils/cpu_utils.cc:112] CPU Frequency: 3192000000 Hz\n"
     ]
    },
    {
     "name": "stdout",
     "output_type": "stream",
     "text": [
      "Epoch 1/25\n"
     ]
    },
    {
     "name": "stderr",
     "output_type": "stream",
     "text": [
      "2022-10-18 12:35:31.414397: I tensorflow/stream_executor/platform/default/dso_loader.cc:49] Successfully opened dynamic library libcublas.so.10\n",
      "2022-10-18 12:35:31.564670: I tensorflow/stream_executor/platform/default/dso_loader.cc:49] Successfully opened dynamic library libcudnn.so.7\n"
     ]
    },
    {
     "name": "stdout",
     "output_type": "stream",
     "text": [
      "1053/1053 [==============================] - 17s 15ms/step - loss: 0.9413 - accuracy: 0.5105 - val_loss: 0.7122 - val_accuracy: 0.5659\n",
      "Epoch 2/25\n",
      "1053/1053 [==============================] - 15s 14ms/step - loss: 0.8472 - accuracy: 0.6145 - val_loss: 0.8227 - val_accuracy: 0.5593\n",
      "Epoch 3/25\n",
      "1053/1053 [==============================] - 15s 14ms/step - loss: 0.7297 - accuracy: 0.7162 - val_loss: 0.4184 - val_accuracy: 0.8239\n",
      "Epoch 4/25\n",
      "1053/1053 [==============================] - 15s 14ms/step - loss: 0.5963 - accuracy: 0.7894 - val_loss: 0.3469 - val_accuracy: 0.8551\n",
      "Epoch 5/25\n",
      "1053/1053 [==============================] - 15s 14ms/step - loss: 0.4699 - accuracy: 0.8418 - val_loss: 1.2045 - val_accuracy: 0.5808\n",
      "Epoch 6/25\n",
      "1053/1053 [==============================] - 15s 14ms/step - loss: 0.4099 - accuracy: 0.8634 - val_loss: 0.3859 - val_accuracy: 0.8367\n",
      "Epoch 7/25\n",
      "1053/1053 [==============================] - 15s 14ms/step - loss: 0.3623 - accuracy: 0.8809 - val_loss: 0.3130 - val_accuracy: 0.8692\n",
      "Epoch 8/25\n",
      "1053/1053 [==============================] - 15s 14ms/step - loss: 0.3334 - accuracy: 0.8886 - val_loss: 0.3029 - val_accuracy: 0.8628\n",
      "Epoch 9/25\n",
      "1053/1053 [==============================] - 15s 14ms/step - loss: 0.3103 - accuracy: 0.8959 - val_loss: 0.4813 - val_accuracy: 0.8221\n",
      "Epoch 10/25\n",
      "1053/1053 [==============================] - 15s 14ms/step - loss: 0.3009 - accuracy: 0.8987 - val_loss: 0.3113 - val_accuracy: 0.8718\n",
      "Epoch 11/25\n",
      "1053/1053 [==============================] - 15s 14ms/step - loss: 0.2793 - accuracy: 0.9067 - val_loss: 0.2428 - val_accuracy: 0.8885\n",
      "Epoch 12/25\n",
      "1053/1053 [==============================] - 15s 14ms/step - loss: 0.2734 - accuracy: 0.9048 - val_loss: 1.5715 - val_accuracy: 0.6026\n",
      "Epoch 13/25\n",
      "1053/1053 [==============================] - 15s 14ms/step - loss: 0.3047 - accuracy: 0.9010 - val_loss: 0.2513 - val_accuracy: 0.8945\n",
      "Epoch 14/25\n",
      "1053/1053 [==============================] - 15s 14ms/step - loss: 0.2601 - accuracy: 0.9100 - val_loss: 0.3601 - val_accuracy: 0.8613\n",
      "Epoch 15/25\n",
      "1053/1053 [==============================] - 15s 14ms/step - loss: 0.2619 - accuracy: 0.9116 - val_loss: 0.2591 - val_accuracy: 0.8926\n",
      "Epoch 16/25\n",
      "1053/1053 [==============================] - 15s 14ms/step - loss: 0.2550 - accuracy: 0.9100 - val_loss: 0.2873 - val_accuracy: 0.8860\n",
      "Epoch 17/25\n",
      "1053/1053 [==============================] - 15s 14ms/step - loss: 0.2505 - accuracy: 0.9133 - val_loss: 0.2632 - val_accuracy: 0.8862\n",
      "Epoch 18/25\n",
      "1053/1053 [==============================] - 15s 14ms/step - loss: 0.2468 - accuracy: 0.9135 - val_loss: 0.2375 - val_accuracy: 0.9007\n",
      "Epoch 19/25\n",
      "1053/1053 [==============================] - 15s 14ms/step - loss: 0.2380 - accuracy: 0.9158 - val_loss: 0.2350 - val_accuracy: 0.8980\n",
      "Epoch 20/25\n",
      "1053/1053 [==============================] - 15s 14ms/step - loss: 0.2363 - accuracy: 0.9162 - val_loss: 0.2377 - val_accuracy: 0.8996\n",
      "Epoch 21/25\n",
      "1053/1053 [==============================] - 15s 14ms/step - loss: 0.2358 - accuracy: 0.9147 - val_loss: 0.2557 - val_accuracy: 0.8938\n",
      "Epoch 22/25\n",
      "1053/1053 [==============================] - 15s 14ms/step - loss: 0.2295 - accuracy: 0.9174 - val_loss: 0.2319 - val_accuracy: 0.9034\n",
      "Epoch 23/25\n",
      "1053/1053 [==============================] - 15s 14ms/step - loss: 0.2272 - accuracy: 0.9167 - val_loss: 0.2499 - val_accuracy: 0.8957\n",
      "Epoch 24/25\n",
      "1053/1053 [==============================] - 15s 14ms/step - loss: 0.2260 - accuracy: 0.9165 - val_loss: 0.2455 - val_accuracy: 0.8958\n",
      "Epoch 25/25\n",
      "1053/1053 [==============================] - 15s 14ms/step - loss: 0.2271 - accuracy: 0.9171 - val_loss: 0.2786 - val_accuracy: 0.8816\n",
      "0.9155753254890442 0.9034327268600464\n"
     ]
    },
    {
     "name": "stderr",
     "output_type": "stream",
     "text": [
      "2022-10-18 12:41:43.594492: W tensorflow/core/framework/cpu_allocator_impl.cc:80] Allocation of 500170752 exceeds 10% of free system memory.\n"
     ]
    },
    {
     "name": "stdout",
     "output_type": "stream",
     "text": [
      "model saved ke1\n"
     ]
    },
    {
     "name": "stderr",
     "output_type": "stream",
     "text": [
      "RDKit ERROR: [12:41:45] SMILES Parse Error: syntax error while parsing: [X]C(C)C.CC(C)c1ccccc1\n",
      "[12:41:45] SMILES Parse Error: syntax error while parsing: [X]C(C)C.CC(C)c1ccccc1\n",
      "RDKit ERROR: [12:41:45] SMILES Parse Error: Failed parsing SMILES '[X]C(C)C.CC(C)c1ccccc1' for input: '[X]C(C)C.CC(C)c1ccccc1'\n",
      "[12:41:45] SMILES Parse Error: Failed parsing SMILES '[X]C(C)C.CC(C)c1ccccc1' for input: '[X]C(C)C.CC(C)c1ccccc1'\n",
      "RDKit ERROR: [12:41:45] SMILES Parse Error: syntax error while parsing: ['Rgp']CN.['Rgp']C(C)N.['Rgp']C(C)NC.['Rgp']C1CCC(N)C(OC2C(N)CC(N)C(OC3OCC(C)(O)C(NC)C3O)C2O)O1\n",
      "[12:41:45] SMILES Parse Error: syntax error while parsing: ['Rgp']CN.['Rgp']C(C)N.['Rgp']C(C)NC.['Rgp']C1CCC(N)C(OC2C(N)CC(N)C(OC3OCC(C)(O)C(NC)C3O)C2O)O1\n",
      "RDKit ERROR: [12:41:45] SMILES Parse Error: Failed parsing SMILES '['Rgp']CN.['Rgp']C(C)N.['Rgp']C(C)NC.['Rgp']C1CCC(N)C(OC2C(N)CC(N)C(OC3OCC(C)(O)C(NC)C3O)C2O)O1' for input: '['Rgp']CN.['Rgp']C(C)N.['Rgp']C(C)NC.['Rgp']C1CCC(N)C(OC2C(N)CC(N)C(OC3OCC(C)(O)C(NC)C3O)C2O)O1'\n",
      "[12:41:45] SMILES Parse Error: Failed parsing SMILES '['Rgp']CN.['Rgp']C(C)N.['Rgp']C(C)NC.['Rgp']C1CCC(N)C(OC2C(N)CC(N)C(OC3OCC(C)(O)C(NC)C3O)C2O)O1' for input: '['Rgp']CN.['Rgp']C(C)N.['Rgp']C(C)NC.['Rgp']C1CCC(N)C(OC2C(N)CC(N)C(OC3OCC(C)(O)C(NC)C3O)C2O)O1'\n"
     ]
    },
    {
     "name": "stdout",
     "output_type": "stream",
     "text": [
      "Bad smiles string for Diisopropylbenzene\n",
      "Bad smiles string for Gentamicin sulfate\n"
     ]
    },
    {
     "name": "stderr",
     "output_type": "stream",
     "text": [
      "RDKit ERROR: [12:41:45] SMILES Parse Error: syntax error while parsing: [Ca+2].[X]CCCCCCCCCCCC.[X]CCCCCCCCCCCC.[O-]S(=O)(=O)c1ccccc1.[O-]S(=O)(=O)c2ccccc2\n",
      "[12:41:45] SMILES Parse Error: syntax error while parsing: [Ca+2].[X]CCCCCCCCCCCC.[X]CCCCCCCCCCCC.[O-]S(=O)(=O)c1ccccc1.[O-]S(=O)(=O)c2ccccc2\n",
      "RDKit ERROR: [12:41:45] SMILES Parse Error: Failed parsing SMILES '[Ca+2].[X]CCCCCCCCCCCC.[X]CCCCCCCCCCCC.[O-]S(=O)(=O)c1ccccc1.[O-]S(=O)(=O)c2ccccc2' for input: '[Ca+2].[X]CCCCCCCCCCCC.[X]CCCCCCCCCCCC.[O-]S(=O)(=O)c1ccccc1.[O-]S(=O)(=O)c2ccccc2'\n",
      "[12:41:45] SMILES Parse Error: Failed parsing SMILES '[Ca+2].[X]CCCCCCCCCCCC.[X]CCCCCCCCCCCC.[O-]S(=O)(=O)c1ccccc1.[O-]S(=O)(=O)c2ccccc2' for input: '[Ca+2].[X]CCCCCCCCCCCC.[X]CCCCCCCCCCCC.[O-]S(=O)(=O)c1ccccc1.[O-]S(=O)(=O)c2ccccc2'\n"
     ]
    },
    {
     "name": "stdout",
     "output_type": "stream",
     "text": [
      "Bad smiles string for Calcium dodecylbenzene sulfonate\n"
     ]
    },
    {
     "name": "stderr",
     "output_type": "stream",
     "text": [
      "RDKit ERROR: [12:41:45] SMILES Parse Error: syntax error while parsing: [X]C(C)CCCCCC.[X][N+](=O)[O-].C\\C=C\\C(=O)Oc1ccccc1[N+](=O)[O-]\n",
      "[12:41:45] SMILES Parse Error: syntax error while parsing: [X]C(C)CCCCCC.[X][N+](=O)[O-].C\\C=C\\C(=O)Oc1ccccc1[N+](=O)[O-]\n",
      "RDKit ERROR: [12:41:45] SMILES Parse Error: Failed parsing SMILES '[X]C(C)CCCCCC.[X][N+](=O)[O-].C\\C=C\\C(=O)Oc1ccccc1[N+](=O)[O-]' for input: '[X]C(C)CCCCCC.[X][N+](=O)[O-].C\\C=C\\C(=O)Oc1ccccc1[N+](=O)[O-]'\n",
      "[12:41:45] SMILES Parse Error: Failed parsing SMILES '[X]C(C)CCCCCC.[X][N+](=O)[O-].C\\C=C\\C(=O)Oc1ccccc1[N+](=O)[O-]' for input: '[X]C(C)CCCCCC.[X][N+](=O)[O-].C\\C=C\\C(=O)Oc1ccccc1[N+](=O)[O-]'\n",
      "RDKit ERROR: [12:41:45] Explicit valence for atom # 0 N, 4, is greater than permitted\n",
      "[12:41:45] Explicit valence for atom # 0 N, 4, is greater than permitted\n",
      "RDKit ERROR: [12:41:46] Explicit valence for atom # 0 N, 4, is greater than permitted\n",
      "[12:41:46] Explicit valence for atom # 0 N, 4, is greater than permitted\n"
     ]
    },
    {
     "name": "stdout",
     "output_type": "stream",
     "text": [
      "Bad smiles string for Dinocap\n",
      "Bad smiles string for Carboplatin\n",
      "Bad smiles string for Cisplatin\n"
     ]
    },
    {
     "name": "stderr",
     "output_type": "stream",
     "text": [
      "RDKit ERROR: [12:41:46] SMILES Parse Error: syntax error while parsing: ['Rgp']c1ccc(O)cc1\n",
      "[12:41:46] SMILES Parse Error: syntax error while parsing: ['Rgp']c1ccc(O)cc1\n",
      "RDKit ERROR: [12:41:46] SMILES Parse Error: Failed parsing SMILES '['Rgp']c1ccc(O)cc1' for input: '['Rgp']c1ccc(O)cc1'\n",
      "RDKit ERROR: [12:41:46] SMILES Parse Error: syntax error while parsing: ['Rgp'][C@@H]1N2C(=O)[C@](NC(=O)[C@@H]3C[C@H]4[C@@H](Cc5c[nH]c6cccc4c56)N(C)C3)(O[C@@]2(O)[C@@H]7CCCN7C1=O)C(C)C.CS(=O)(=O)O\n",
      "RDKit ERROR: [12:41:46] SMILES Parse Error: Failed parsing SMILES '['Rgp'][C@@H]1N2C(=O)[C@](NC(=O)[C@@H]3C[C@H]4[C@@H](Cc5c[nH]c6cccc4c56)N(C)C3)(O[C@@]2(O)[C@@H]7CCCN7C1=O)C(C)C.CS(=O)(=O)O' for input: '['Rgp'][C@@H]1N2C(=O)[C@](NC(=O)[C@@H]3C[C@H]4[C@@H](Cc5c[nH]c6cccc4c56)N(C)C3)(O[C@@]2(O)[C@@H]7CCCN7C1=O)C(C)C.CS(=O)(=O)O'\n",
      "[12:41:46] SMILES Parse Error: Failed parsing SMILES '['Rgp']c1ccc(O)cc1' for input: '['Rgp']c1ccc(O)cc1'\n",
      "[12:41:46] SMILES Parse Error: syntax error while parsing: ['Rgp'][C@@H]1N2C(=O)[C@](NC(=O)[C@@H]3C[C@H]4[C@@H](Cc5c[nH]c6cccc4c56)N(C)C3)(O[C@@]2(O)[C@@H]7CCCN7C1=O)C(C)C.CS(=O)(=O)O\n",
      "[12:41:46] SMILES Parse Error: Failed parsing SMILES '['Rgp'][C@@H]1N2C(=O)[C@](NC(=O)[C@@H]3C[C@H]4[C@@H](Cc5c[nH]c6cccc4c56)N(C)C3)(O[C@@]2(O)[C@@H]7CCCN7C1=O)C(C)C.CS(=O)(=O)O' for input: '['Rgp'][C@@H]1N2C(=O)[C@](NC(=O)[C@@H]3C[C@H]4[C@@H](Cc5c[nH]c6cccc4c56)N(C)C3)(O[C@@]2(O)[C@@H]7CCCN7C1=O)C(C)C.CS(=O)(=O)O'\n",
      "RDKit ERROR: [12:41:46] Explicit valence for atom # 0 O, 3, is greater than permitted\n",
      "[12:41:46] Explicit valence for atom # 0 O, 3, is greater than permitted\n",
      "RDKit WARNING: [12:41:46] WARNING: not removing hydrogen atom without neighbors\n",
      "[12:41:46] WARNING: not removing hydrogen atom without neighbors\n",
      "RDKit WARNING: [12:41:46] WARNING: not removing hydrogen atom without neighbors\n",
      "[12:41:46] WARNING: not removing hydrogen atom without neighbors\n"
     ]
    },
    {
     "name": "stdout",
     "output_type": "stream",
     "text": [
      "Bad smiles string for 4-Nonylphenol, branched\n",
      "Bad smiles string for Hydergine\n",
      "Bad smiles string for Aurothioglucose\n"
     ]
    },
    {
     "name": "stderr",
     "output_type": "stream",
     "text": [
      "RDKit ERROR: [12:41:46] Explicit valence for atom # 7 Mg, 6, is greater than permitted\n",
      "[12:41:46] Explicit valence for atom # 7 Mg, 6, is greater than permitted\n",
      "RDKit ERROR: [12:41:46] Explicit valence for atom # 3 Si, 8, is greater than permitted\n",
      "[12:41:46] Explicit valence for atom # 3 Si, 8, is greater than permitted\n",
      "RDKit ERROR: [12:41:46] Explicit valence for atom # 0 O, 3, is greater than permitted\n",
      "[12:41:46] Explicit valence for atom # 0 O, 3, is greater than permitted\n",
      "RDKit ERROR: [12:41:46] SMILES Parse Error: syntax error while parsing: [X]C.[X]C.CCCCCCCOC(=O)CCCCC(=O)OCCCCCCC\n",
      "[12:41:46] SMILES Parse Error: syntax error while parsing: [X]C.[X]C.CCCCCCCOC(=O)CCCCC(=O)OCCCCCCC\n",
      "RDKit ERROR: [12:41:46] SMILES Parse Error: Failed parsing SMILES '[X]C.[X]C.CCCCCCCOC(=O)CCCCC(=O)OCCCCCCC' for input: '[X]C.[X]C.CCCCCCCOC(=O)CCCCC(=O)OCCCCCCC'\n",
      "[12:41:46] SMILES Parse Error: Failed parsing SMILES '[X]C.[X]C.CCCCCCCOC(=O)CCCCC(=O)OCCCCCCC' for input: '[X]C.[X]C.CCCCCCCOC(=O)CCCCC(=O)OCCCCCCC'\n",
      "RDKit ERROR: [12:41:46] Explicit valence for atom # 1 C, 5, is greater than permitted\n",
      "[12:41:46] Explicit valence for atom # 1 C, 5, is greater than permitted\n"
     ]
    },
    {
     "name": "stdout",
     "output_type": "stream",
     "text": [
      "Bad smiles string for Magnesium, bis(salicylato)-, tetrahydrate\n",
      "Bad smiles string for Ammonium hexafluorosilicate\n",
      "Bad smiles string for Zinc pyrithione\n",
      "Bad smiles string for Diisooctyl adipate\n",
      "Bad smiles string for Vitamin B12\n"
     ]
    },
    {
     "name": "stderr",
     "output_type": "stream",
     "text": [
      "RDKit WARNING: [12:41:47] WARNING: not removing hydrogen atom without neighbors\n",
      "[12:41:47] WARNING: not removing hydrogen atom without neighbors\n",
      "RDKit ERROR: [12:41:47] Explicit valence for atom # 0 F, 2, is greater than permitted\n",
      "[12:41:47] Explicit valence for atom # 0 F, 2, is greater than permitted\n"
     ]
    },
    {
     "name": "stdout",
     "output_type": "stream",
     "text": [
      "Bad smiles string for 1-Ethyl-1-methylpyrrolidinium tetrafluoroborate\n",
      "Bad smiles string for (Methylcyclopentadienyl)tricarbonylmanganese\n",
      "Bad smiles string for 1,2-Benzenedicarboxylic acid, di-C6-8-branched alkyl esters, C7-rich\n",
      "Bad smiles string for Benzalkonium chloride\n",
      "Bad smiles string for Sodium hexafluorosilicate\n"
     ]
    },
    {
     "name": "stderr",
     "output_type": "stream",
     "text": [
      "RDKit ERROR: [12:41:47] Explicit valence for atom # 4 C, 5, is greater than permitted\n",
      "[12:41:47] Explicit valence for atom # 4 C, 5, is greater than permitted\n",
      "RDKit ERROR: [12:41:47] SMILES Parse Error: syntax error while parsing: [*]C.[*]C.[*]CC.[*]CC.['Rgp']CCCCCOC(=O)c1ccccc1C(=O)OCCCCC['Rgp']\n",
      "RDKit ERROR: [12:41:47] SMILES Parse Error: Failed parsing SMILES '[*]C.[*]C.[*]CC.[*]CC.['Rgp']CCCCCOC(=O)c1ccccc1C(=O)OCCCCC['Rgp']' for input: '[*]C.[*]C.[*]CC.[*]CC.['Rgp']CCCCCOC(=O)c1ccccc1C(=O)OCCCCC['Rgp']'\n",
      "[12:41:47] SMILES Parse Error: syntax error while parsing: [*]C.[*]C.[*]CC.[*]CC.['Rgp']CCCCCOC(=O)c1ccccc1C(=O)OCCCCC['Rgp']\n",
      "RDKit ERROR: [12:41:47] SMILES Parse Error: syntax error while parsing: [Cl-].['Rgp'][N+](C)(C)Cc1ccccc1\n",
      "RDKit ERROR: [12:41:47] SMILES Parse Error: Failed parsing SMILES '[Cl-].['Rgp'][N+](C)(C)Cc1ccccc1' for input: '[Cl-].['Rgp'][N+](C)(C)Cc1ccccc1'\n",
      "[12:41:47] SMILES Parse Error: Failed parsing SMILES '[*]C.[*]C.[*]CC.[*]CC.['Rgp']CCCCCOC(=O)c1ccccc1C(=O)OCCCCC['Rgp']' for input: '[*]C.[*]C.[*]CC.[*]CC.['Rgp']CCCCCOC(=O)c1ccccc1C(=O)OCCCCC['Rgp']'\n",
      "RDKit ERROR: [12:41:47] Explicit valence for atom # 3 Si, 8, is greater than permitted\n",
      "[12:41:47] SMILES Parse Error: syntax error while parsing: [Cl-].['Rgp'][N+](C)(C)Cc1ccccc1\n",
      "[12:41:47] SMILES Parse Error: Failed parsing SMILES '[Cl-].['Rgp'][N+](C)(C)Cc1ccccc1' for input: '[Cl-].['Rgp'][N+](C)(C)Cc1ccccc1'\n",
      "[12:41:47] Explicit valence for atom # 3 Si, 8, is greater than permitted\n",
      "/home/milosevicn/miniconda3/envs/bio/lib/python3.7/site-packages/pandas/core/frame.py:4315: SettingWithCopyWarning: \n",
      "A value is trying to be set on a copy of a slice from a DataFrame\n",
      "\n",
      "See the caveats in the documentation: https://pandas.pydata.org/pandas-docs/stable/user_guide/indexing.html#returning-a-view-versus-a-copy\n",
      "  errors=errors,\n"
     ]
    },
    {
     "name": "stdout",
     "output_type": "stream",
     "text": [
      "ok: 8592\n",
      "bad: ['Diisopropylbenzene', 'Gentamicin sulfate', 'Calcium dodecylbenzene sulfonate', 'Dinocap', 'Carboplatin', 'Cisplatin', '4-Nonylphenol, branched', 'Hydergine', 'Aurothioglucose', 'Magnesium, bis(salicylato)-, tetrahydrate', 'Ammonium hexafluorosilicate', 'Zinc pyrithione', 'Diisooctyl adipate', 'Vitamin B12', '1-Ethyl-1-methylpyrrolidinium tetrafluoroborate', '(Methylcyclopentadienyl)tricarbonylmanganese', '1,2-Benzenedicarboxylic acid, di-C6-8-branched alkyl esters, C7-rich', 'Benzalkonium chloride', 'Sodium hexafluorosilicate']\n",
      "bad count: 19\n",
      "Epoch 1/25\n",
      "365/365 [==============================] - 6s 15ms/step - loss: 0.9649 - accuracy: 0.5047 - val_loss: 0.7562 - val_accuracy: 0.4837\n",
      "Epoch 2/25\n",
      "365/365 [==============================] - 5s 14ms/step - loss: 0.9086 - accuracy: 0.5126 - val_loss: 0.6354 - val_accuracy: 0.6421\n",
      "Epoch 3/25\n",
      "365/365 [==============================] - 5s 14ms/step - loss: 0.8352 - accuracy: 0.6130 - val_loss: 0.5977 - val_accuracy: 0.6846\n",
      "Epoch 4/25\n",
      "365/365 [==============================] - 5s 14ms/step - loss: 0.7855 - accuracy: 0.6735 - val_loss: 0.5474 - val_accuracy: 0.7285\n",
      "Epoch 5/25\n",
      "365/365 [==============================] - 5s 14ms/step - loss: 0.7058 - accuracy: 0.7306 - val_loss: 0.5718 - val_accuracy: 0.6939\n",
      "Epoch 6/25\n",
      "365/365 [==============================] - 5s 14ms/step - loss: 0.6570 - accuracy: 0.7505 - val_loss: 0.5397 - val_accuracy: 0.7316\n",
      "Epoch 7/25\n",
      "365/365 [==============================] - 5s 14ms/step - loss: 0.5983 - accuracy: 0.7824 - val_loss: 0.3773 - val_accuracy: 0.8375\n",
      "Epoch 8/25\n",
      "365/365 [==============================] - 5s 14ms/step - loss: 0.4989 - accuracy: 0.8304 - val_loss: 0.5580 - val_accuracy: 0.7319\n",
      "Epoch 9/25\n",
      "365/365 [==============================] - 5s 14ms/step - loss: 0.4385 - accuracy: 0.8541 - val_loss: 0.2942 - val_accuracy: 0.8804\n",
      "Epoch 10/25\n",
      "365/365 [==============================] - 5s 14ms/step - loss: 0.3543 - accuracy: 0.8915 - val_loss: 0.2698 - val_accuracy: 0.8872\n",
      "Epoch 11/25\n",
      "365/365 [==============================] - 5s 14ms/step - loss: 0.3169 - accuracy: 0.9045 - val_loss: 0.2696 - val_accuracy: 0.8954\n",
      "Epoch 12/25\n",
      "365/365 [==============================] - 5s 14ms/step - loss: 0.2528 - accuracy: 0.9304 - val_loss: 0.2851 - val_accuracy: 0.8886\n",
      "Epoch 13/25\n",
      "365/365 [==============================] - 5s 14ms/step - loss: 0.2126 - accuracy: 0.9402 - val_loss: 0.2303 - val_accuracy: 0.9133\n",
      "Epoch 14/25\n",
      "365/365 [==============================] - 5s 14ms/step - loss: 0.1871 - accuracy: 0.9482 - val_loss: 0.3303 - val_accuracy: 0.8642\n",
      "Epoch 15/25\n",
      "365/365 [==============================] - 5s 14ms/step - loss: 0.1480 - accuracy: 0.9593 - val_loss: 0.2276 - val_accuracy: 0.9218\n",
      "Epoch 16/25\n",
      "365/365 [==============================] - 5s 14ms/step - loss: 0.1399 - accuracy: 0.9620 - val_loss: 0.2116 - val_accuracy: 0.9273\n",
      "Epoch 17/25\n",
      "365/365 [==============================] - 5s 14ms/step - loss: 0.1116 - accuracy: 0.9736 - val_loss: 0.2117 - val_accuracy: 0.9287\n",
      "Epoch 18/25\n",
      "365/365 [==============================] - 5s 14ms/step - loss: 0.1126 - accuracy: 0.9703 - val_loss: 0.7492 - val_accuracy: 0.7902\n",
      "Epoch 19/25\n",
      "365/365 [==============================] - 5s 14ms/step - loss: 0.1206 - accuracy: 0.9707 - val_loss: 0.2140 - val_accuracy: 0.9304\n",
      "Epoch 20/25\n",
      "365/365 [==============================] - 5s 14ms/step - loss: 0.1145 - accuracy: 0.9731 - val_loss: 0.3870 - val_accuracy: 0.8862\n",
      "Epoch 21/25\n",
      "365/365 [==============================] - 5s 14ms/step - loss: 0.1010 - accuracy: 0.9767 - val_loss: 0.2182 - val_accuracy: 0.9359\n",
      "Epoch 22/25\n",
      "365/365 [==============================] - 5s 14ms/step - loss: 0.0892 - accuracy: 0.9768 - val_loss: 0.2372 - val_accuracy: 0.9229\n",
      "Epoch 23/25\n",
      "365/365 [==============================] - 5s 14ms/step - loss: 0.0873 - accuracy: 0.9784 - val_loss: 0.2074 - val_accuracy: 0.9332\n",
      "Epoch 24/25\n",
      "365/365 [==============================] - 5s 14ms/step - loss: 0.0758 - accuracy: 0.9805 - val_loss: 0.1968 - val_accuracy: 0.9376\n",
      "Epoch 25/25\n",
      "365/365 [==============================] - 5s 14ms/step - loss: 0.0740 - accuracy: 0.9832 - val_loss: 0.2011 - val_accuracy: 0.9359\n",
      "0.9796828031539917 0.9376071095466614\n"
     ]
    },
    {
     "name": "stderr",
     "output_type": "stream",
     "text": [
      "2022-10-18 12:43:57.426454: W tensorflow/core/framework/cpu_allocator_impl.cc:80] Allocation of 500170752 exceeds 10% of free system memory.\n"
     ]
    },
    {
     "name": "stdout",
     "output_type": "stream",
     "text": [
      "model saved ke2\n",
      "Bad smiles string for Benzalkonium chloride\n"
     ]
    },
    {
     "name": "stderr",
     "output_type": "stream",
     "text": [
      "RDKit ERROR: [12:43:58] SMILES Parse Error: syntax error while parsing: [Cl-].['Rgp'][N+](C)(C)Cc1ccccc1\n",
      "[12:43:58] SMILES Parse Error: syntax error while parsing: [Cl-].['Rgp'][N+](C)(C)Cc1ccccc1\n",
      "RDKit ERROR: [12:43:58] SMILES Parse Error: Failed parsing SMILES '[Cl-].['Rgp'][N+](C)(C)Cc1ccccc1' for input: '[Cl-].['Rgp'][N+](C)(C)Cc1ccccc1'\n",
      "[12:43:58] SMILES Parse Error: Failed parsing SMILES '[Cl-].['Rgp'][N+](C)(C)Cc1ccccc1' for input: '[Cl-].['Rgp'][N+](C)(C)Cc1ccccc1'\n",
      "RDKit ERROR: [12:43:58] SMILES Parse Error: syntax error while parsing: [Cl-].['Rgp'][N+](C)(C)Cc1ccccc1\n",
      "[12:43:58] SMILES Parse Error: syntax error while parsing: [Cl-].['Rgp'][N+](C)(C)Cc1ccccc1\n",
      "RDKit ERROR: [12:43:58] SMILES Parse Error: Failed parsing SMILES '[Cl-].['Rgp'][N+](C)(C)Cc1ccccc1' for input: '[Cl-].['Rgp'][N+](C)(C)Cc1ccccc1'\n",
      "[12:43:58] SMILES Parse Error: Failed parsing SMILES '[Cl-].['Rgp'][N+](C)(C)Cc1ccccc1' for input: '[Cl-].['Rgp'][N+](C)(C)Cc1ccccc1'\n",
      "RDKit ERROR: [12:43:59] SMILES Parse Error: syntax error while parsing: [Cl-].['Rgp'][N+](C)(C)Cc1ccccc1\n",
      "[12:43:59] SMILES Parse Error: syntax error while parsing: [Cl-].['Rgp'][N+](C)(C)Cc1ccccc1\n",
      "RDKit ERROR: [12:43:59] SMILES Parse Error: Failed parsing SMILES '[Cl-].['Rgp'][N+](C)(C)Cc1ccccc1' for input: '[Cl-].['Rgp'][N+](C)(C)Cc1ccccc1'\n",
      "[12:43:59] SMILES Parse Error: Failed parsing SMILES '[Cl-].['Rgp'][N+](C)(C)Cc1ccccc1' for input: '[Cl-].['Rgp'][N+](C)(C)Cc1ccccc1'\n"
     ]
    },
    {
     "name": "stdout",
     "output_type": "stream",
     "text": [
      "Bad smiles string for Benzalkonium chloride\n",
      "Bad smiles string for Benzalkonium chloride\n"
     ]
    },
    {
     "name": "stderr",
     "output_type": "stream",
     "text": [
      "RDKit ERROR: [12:43:59] SMILES Parse Error: syntax error while parsing: [Cl-].['Rgp'][N+](C)(C)Cc1ccccc1\n",
      "[12:43:59] SMILES Parse Error: syntax error while parsing: [Cl-].['Rgp'][N+](C)(C)Cc1ccccc1\n",
      "RDKit ERROR: [12:43:59] SMILES Parse Error: Failed parsing SMILES '[Cl-].['Rgp'][N+](C)(C)Cc1ccccc1' for input: '[Cl-].['Rgp'][N+](C)(C)Cc1ccccc1'\n",
      "[12:43:59] SMILES Parse Error: Failed parsing SMILES '[Cl-].['Rgp'][N+](C)(C)Cc1ccccc1' for input: '[Cl-].['Rgp'][N+](C)(C)Cc1ccccc1'\n",
      "/home/milosevicn/miniconda3/envs/bio/lib/python3.7/site-packages/pandas/core/frame.py:4315: SettingWithCopyWarning: \n",
      "A value is trying to be set on a copy of a slice from a DataFrame\n",
      "\n",
      "See the caveats in the documentation: https://pandas.pydata.org/pandas-docs/stable/user_guide/indexing.html#returning-a-view-versus-a-copy\n",
      "  errors=errors,\n"
     ]
    },
    {
     "name": "stdout",
     "output_type": "stream",
     "text": [
      "Bad smiles string for Benzalkonium chloride\n",
      "ok: 2620\n",
      "bad: ['Benzalkonium chloride', 'Benzalkonium chloride', 'Benzalkonium chloride', 'Benzalkonium chloride']\n",
      "bad count: 4\n",
      "Epoch 1/25\n",
      "119/119 [==============================] - 2s 16ms/step - loss: 0.9900 - accuracy: 0.5072 - val_loss: 0.7317 - val_accuracy: 0.4947\n",
      "Epoch 2/25\n",
      "119/119 [==============================] - 2s 14ms/step - loss: 0.9348 - accuracy: 0.5112 - val_loss: 0.7251 - val_accuracy: 0.4947\n",
      "Epoch 3/25\n",
      "119/119 [==============================] - 2s 14ms/step - loss: 0.9016 - accuracy: 0.5185 - val_loss: 0.6621 - val_accuracy: 0.5714\n",
      "Epoch 4/25\n",
      "119/119 [==============================] - 2s 14ms/step - loss: 0.8617 - accuracy: 0.5697 - val_loss: 0.6736 - val_accuracy: 0.6019\n",
      "Epoch 5/25\n",
      "119/119 [==============================] - 2s 14ms/step - loss: 0.7975 - accuracy: 0.6549 - val_loss: 0.5743 - val_accuracy: 0.6954\n",
      "Epoch 6/25\n",
      "119/119 [==============================] - 2s 14ms/step - loss: 0.7336 - accuracy: 0.7064 - val_loss: 0.5935 - val_accuracy: 0.6933\n",
      "Epoch 7/25\n",
      "119/119 [==============================] - 2s 14ms/step - loss: 0.6837 - accuracy: 0.7376 - val_loss: 0.5154 - val_accuracy: 0.7458\n",
      "Epoch 8/25\n",
      "119/119 [==============================] - 2s 14ms/step - loss: 0.6148 - accuracy: 0.7781 - val_loss: 0.4452 - val_accuracy: 0.7889\n",
      "Epoch 9/25\n",
      "119/119 [==============================] - 2s 14ms/step - loss: 0.5312 - accuracy: 0.8210 - val_loss: 0.4853 - val_accuracy: 0.7742\n",
      "Epoch 10/25\n",
      "119/119 [==============================] - 2s 14ms/step - loss: 0.4873 - accuracy: 0.8478 - val_loss: 0.4608 - val_accuracy: 0.7994\n",
      "Epoch 11/25\n",
      "119/119 [==============================] - 2s 14ms/step - loss: 0.4562 - accuracy: 0.8553 - val_loss: 0.4383 - val_accuracy: 0.8246\n",
      "Epoch 12/25\n",
      "119/119 [==============================] - 2s 14ms/step - loss: 0.3940 - accuracy: 0.8818 - val_loss: 0.9426 - val_accuracy: 0.6439\n",
      "Epoch 13/25\n",
      "119/119 [==============================] - 2s 14ms/step - loss: 0.3846 - accuracy: 0.8820 - val_loss: 0.3145 - val_accuracy: 0.8718\n",
      "Epoch 14/25\n",
      "119/119 [==============================] - 2s 14ms/step - loss: 0.3493 - accuracy: 0.8935 - val_loss: 0.3565 - val_accuracy: 0.8739\n",
      "Epoch 15/25\n",
      "119/119 [==============================] - 2s 14ms/step - loss: 0.3138 - accuracy: 0.9134 - val_loss: 0.3007 - val_accuracy: 0.8897\n",
      "Epoch 16/25\n",
      "119/119 [==============================] - 2s 14ms/step - loss: 0.2937 - accuracy: 0.9151 - val_loss: 0.2670 - val_accuracy: 0.9013\n",
      "Epoch 17/25\n",
      "119/119 [==============================] - 2s 14ms/step - loss: 0.2863 - accuracy: 0.9209 - val_loss: 0.2654 - val_accuracy: 0.9044\n",
      "Epoch 18/25\n",
      "119/119 [==============================] - 2s 14ms/step - loss: 0.2626 - accuracy: 0.9234 - val_loss: 0.3271 - val_accuracy: 0.8950\n",
      "Epoch 19/25\n",
      "119/119 [==============================] - 2s 14ms/step - loss: 0.2596 - accuracy: 0.9233 - val_loss: 0.2628 - val_accuracy: 0.9097\n",
      "Epoch 20/25\n",
      "119/119 [==============================] - 2s 14ms/step - loss: 0.2478 - accuracy: 0.9305 - val_loss: 0.2723 - val_accuracy: 0.9076\n",
      "Epoch 21/25\n",
      "119/119 [==============================] - 2s 14ms/step - loss: 0.2490 - accuracy: 0.9285 - val_loss: 0.2860 - val_accuracy: 0.9034\n",
      "Epoch 22/25\n",
      "119/119 [==============================] - 2s 14ms/step - loss: 0.2341 - accuracy: 0.9336 - val_loss: 0.2794 - val_accuracy: 0.9128\n",
      "Epoch 23/25\n",
      "119/119 [==============================] - 2s 14ms/step - loss: 0.2546 - accuracy: 0.9267 - val_loss: 0.2848 - val_accuracy: 0.9065\n",
      "Epoch 24/25\n",
      "119/119 [==============================] - 2s 14ms/step - loss: 0.2558 - accuracy: 0.9253 - val_loss: 0.2791 - val_accuracy: 0.9118\n",
      "Epoch 25/25\n",
      "119/119 [==============================] - 2s 14ms/step - loss: 0.2318 - accuracy: 0.9305 - val_loss: 0.2563 - val_accuracy: 0.9149\n",
      "0.9287592172622681 0.9149159789085388\n"
     ]
    },
    {
     "name": "stderr",
     "output_type": "stream",
     "text": [
      "2022-10-18 12:44:42.529098: W tensorflow/core/framework/cpu_allocator_impl.cc:80] Allocation of 500170752 exceeds 10% of free system memory.\n"
     ]
    },
    {
     "name": "stdout",
     "output_type": "stream",
     "text": [
      "model saved ke3\n"
     ]
    },
    {
     "data": {
      "image/png": "[encoded data removed]",
      "text/plain": [
       "<Figure size 432x288 with 1 Axes>"
      ]
     },
     "metadata": {
      "needs_background": "light"
     },
     "output_type": "display_data"
    },
    {
     "data": {
      "image/png": "[encoded data removed]",
      "text/plain": [
       "<Figure size 432x288 with 1 Axes>"
      ]
     },
     "metadata": {
      "needs_background": "light"
     },
     "output_type": "display_data"
    },
    {
     "data": {
      "image/png": "[encoded data removed]",
      "text/plain": [
       "<Figure size 432x288 with 1 Axes>"
      ]
     },
     "metadata": {
      "needs_background": "light"
     },
     "output_type": "display_data"
    }
   ],
   "source": [
    "plt_count = 1\n",
    "for assay, name in zip([pd.concat(dfs[0:5]), pd.concat(dfs[5:9]), pd.concat(dfs[9:17])],\n",
    "                       [\"ke1\", \"ke2\", \"ke3\"]):\n",
    "\n",
    "    assay[\"label\"] = assay.sum(axis=1)\n",
    "\n",
    "    assay = assay[[\"label\"]]\n",
    "\n",
    "    fingerprints = list()\n",
    "    bad_smiles = []\n",
    "\n",
    "    def get_fingerprint(row):\n",
    "        try:\n",
    "            sm = smiles.loc[row.name]\n",
    "            mol = Chem.MolFromSmiles(sm.smiles)\n",
    "            fp = AllChem.GetMorganFingerprintAsBitVect(mol, 2) #, nBits=1024) # TODO: can replace morgan with other fingerprint!\n",
    "            arr = np.zeros((1,))\n",
    "            DataStructs.ConvertToNumpyArray(fp, arr)\n",
    "            fingerprints.append(arr)\n",
    "        except Exception as e:\n",
    "            # print(e)\n",
    "            print(\"Bad smiles string for\", row.name)\n",
    "            bad_smiles.append(row.name)\n",
    "\n",
    "    assay.apply(lambda x: get_fingerprint(x), axis=1)\n",
    "\n",
    "    print(\"ok:\", len(fingerprints))\n",
    "    print(\"bad:\", bad_smiles)\n",
    "    print(\"bad count:\", len(bad_smiles))\n",
    "\n",
    "    assay.drop(bad_smiles, inplace=True)\n",
    "\n",
    "    inputs = np.array(fingerprints)\n",
    "    X = inputs.reshape(-1, 2048)\n",
    "    y = assay.values\n",
    "\n",
    "    oversample = imblearn.over_sampling.SMOTE()\n",
    "    X, y = oversample.fit_resample(X, y)\n",
    "\n",
    "    X = X.reshape(-1, 2048, 1)\n",
    "    y = y.reshape(-1, 1)\n",
    "\n",
    "    X_train, X_test, y_train, y_test = train_test_split(X, y, test_size=0.2, random_state=42)\n",
    "\n",
    "    model = Sequential()\n",
    "    model.add(Conv1D(32, 16, activation='relu', input_shape=(2048, 1)))\n",
    "    model.add(MaxPool1D())\n",
    "    model.add(Conv1D(64, 32, activation='relu'))\n",
    "    model.add(MaxPool1D())\n",
    "    model.add(Conv1D(128, 16, activation='relu'))\n",
    "    model.add(Flatten())\n",
    "    model.add(Dense(units=2048, activation='relu'))\n",
    "    model.add(Dropout(0.2))\n",
    "    model.add(Dense(units=1024, activation='relu'))\n",
    "    model.add(Dense(units=y.shape[1], activation='sigmoid'))\n",
    "\n",
    "    model.compile(loss=tf.keras.losses.BinaryCrossentropy(from_logits=False), metrics=['accuracy'],\n",
    "                  optimizer=tf.keras.optimizers.SGD(learning_rate=0.01))\n",
    "\n",
    "    class_weight = {0: 1.,\n",
    "                    1: float(len(X_train) / sum(y_train))}\n",
    "\n",
    "    history = model.fit(\n",
    "        X_train, y_train, epochs=25, verbose=1, validation_data=(X_test, y_test), class_weight=class_weight,\n",
    "    )\n",
    "\n",
    "    plt.figure(plt_count)\n",
    "    plt_count += 1\n",
    "    \n",
    "    plt.plot(history.history[\"accuracy\"], label='accuracy')\n",
    "    plt.plot(history.history[\"val_accuracy\"], label='val_accuracy')\n",
    "    plt.plot(history.history[\"loss\"], label='loss')\n",
    "\n",
    "    plt.xlabel('Epoch')\n",
    "    plt.ylabel('Accuracy')\n",
    "    plt.ylim([0.0, 1])\n",
    "    plt.legend(loc='lower right')\n",
    "\n",
    "    vacc = max(history.history[\"val_accuracy\"])\n",
    "    acc = max(history.history[\"accuracy\"])\n",
    "\n",
    "    print(acc, vacc)\n",
    "\n",
    "    model.save(f\"models/skec/nn_{name}.h5\")\n",
    "    plt.savefig(f\"models/skec/train_{name}_{acc}_{vacc}.png\")\n",
    "    print(\"model saved\", name)\n"
   ]
  },
  {
   "cell_type": "code",
   "execution_count": null,
   "id": "3f703e2d-e1e7-4097-bc52-1ed51ff22236",
   "metadata": {},
   "outputs": [],
   "source": []
  }
 ],
 "metadata": {
  "kernelspec": {
   "display_name": "Python 3 (ipykernel)",
   "language": "python",
   "name": "python3"
  },
  "language_info": {
   "codemirror_mode": {
    "name": "ipython",
    "version": 3
   },
   "file_extension": ".py",
   "mimetype": "text/x-python",
   "name": "python",
   "nbconvert_exporter": "python",
   "pygments_lexer": "ipython3",
   "version": "3.7.11"
  }
 },
 "nbformat": 4,
 "nbformat_minor": 5
}
