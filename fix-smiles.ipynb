{
 "cells": [
  {
   "cell_type": "code",
   "execution_count": null,
   "id": "927c9918-6b77-478f-bb22-2fa39b2beef7",
   "metadata": {},
   "outputs": [],
   "source": [
    "# https://chem.nlm.nih.gov/chemidsearch/expression\n",
    "# ChemIDPlus API Beta hvala bogu da postoji\n",
    "\n",
    "\n",
    "# Za jedan assay CSV, prođe kroz ceo i popuni gde može smiles a gde je nedostajao\n",
    "# Snimi ponovo u isti fajl"
   ]
  },
  {
   "cell_type": "code",
   "execution_count": 5,
   "id": "080002f2-6f0b-4e1e-8fce-ef42e0c485ab",
   "metadata": {},
   "outputs": [],
   "source": [
    "from tqdm import tqdm\n",
    "import requests\n",
    "import pandas as pd\n",
    "import numpy as np"
   ]
  },
  {
   "cell_type": "code",
   "execution_count": 6,
   "id": "699d918a-e389-498e-af60-a67bb90e3d12",
   "metadata": {},
   "outputs": [],
   "source": [
    "assays = [\n",
    "    \"ATG_PPARg_TRANS_dn\", \n",
    "    \"ATG_PPARg_TRANS_up\", \n",
    "    \"TOX21_PPARg_BLA_antagonist_ratio\", \n",
    "    \"TOX21_PPARg_BLA_Agonist_ratio\", \n",
    "    \"NVS_NR_hPPARg\", \n",
    "    \"ERF_ENZ_hCYP19A1_dn\", \n",
    "    \"NVS_ADME_hCYP19A1\", \n",
    "    \"NVS_ADME_hCYP19A1_Activator\", \n",
    "    \"TOX21_Aromatase_Inhibition\", \n",
    "    \"CEETOX_H295R_ESTRADIOL_dn\", \n",
    "    \"CEETOX_H295R_ESTRADIOL_noMTC_dn\", \n",
    "    \"CEETOX_H295R_ESTRADIOL_noMTC_up\", \n",
    "    \"CEETOX_H295R_ESTRADIOL_up\", \n",
    "    \"CEETOX_H295R_ESTRONE_dn\", \n",
    "    \"CEETOX_H295R_ESTRONE_noMTC_dn\", \n",
    "    \"CEETOX_H295R_ESTRONE_noMTC_up\", \n",
    "    \"CEETOX_H295R_ESTRONE_up\"\n",
    "]\n",
    "assays = [f\"data/{assay}.csv\" for assay in assays]\n",
    "to_process = assays"
   ]
  },
  {
   "cell_type": "code",
   "execution_count": 9,
   "id": "90220f42-0f04-4026-958c-9da956c9dfeb",
   "metadata": {},
   "outputs": [],
   "source": [
    "test_data = [\n",
    "    \"data_tests/Chemical List EDSP21LIST2-2021-12-28.csv\",\n",
    "    \"data_tests/Chemical List EDSPUOC-2022-06-16.csv\",\n",
    "    \"data_tests/Chemical List OSHA-2021-12-28.csv\",\n",
    "    \"data_tests/Chemical List UBAPMT-2021-12-28.csv\",\n",
    "    \"data_tests/Chemical List EDSP21LIST1-2021-12-28.csv\"\n",
    "]\n",
    "to_process = test_data"
   ]
  },
  {
   "cell_type": "code",
   "execution_count": 11,
   "id": "fdc74802-48d2-4b5f-bf65-ef2098096afe",
   "metadata": {},
   "outputs": [
    {
     "name": "stdout",
     "output_type": "stream",
     "text": [
      "data_tests/Chemical List EDSP21LIST2-2021-12-28.csv\n",
      "before cas/smile check 106\n",
      "after cas/smile check 106\n",
      "remaining smiles nulls 0\n",
      "final smiles nulls 0\n",
      "final length 106\n",
      "saved data_tests/Chemical List EDSP21LIST2-2021-12-28.csv\n",
      "data_tests/Chemical List EDSPUOC-2022-06-16.csv\n",
      "before cas/smile check 8437\n",
      "after cas/smile check 8437\n",
      "remaining smiles nulls 0\n",
      "final smiles nulls 0\n",
      "final length 8437\n",
      "saved data_tests/Chemical List EDSPUOC-2022-06-16.csv\n",
      "data_tests/Chemical List OSHA-2021-12-28.csv\n",
      "before cas/smile check 811\n",
      "after cas/smile check 811\n",
      "remaining smiles nulls 0\n",
      "final smiles nulls 0\n",
      "final length 811\n",
      "saved data_tests/Chemical List OSHA-2021-12-28.csv\n",
      "data_tests/Chemical List UBAPMT-2021-12-28.csv\n",
      "before cas/smile check 297\n",
      "after cas/smile check 297\n",
      "remaining smiles nulls 0\n",
      "final smiles nulls 0\n",
      "final length 297\n",
      "saved data_tests/Chemical List UBAPMT-2021-12-28.csv\n",
      "data_tests/Chemical List EDSP21LIST1-2021-12-28.csv\n",
      "before cas/smile check 67\n",
      "after cas/smile check 67\n",
      "remaining smiles nulls 0\n",
      "final smiles nulls 0\n",
      "final length 67\n",
      "saved data_tests/Chemical List EDSP21LIST1-2021-12-28.csv\n"
     ]
    }
   ],
   "source": [
    "cache = dict()\n",
    "\n",
    "for filename in to_process:\n",
    "    \n",
    "    df = pd.read_csv(filename)\n",
    "\n",
    "    print(filename)\n",
    "\n",
    "    print(\"before cas/smile check\", len(df))\n",
    "    df.drop(df[(df[\"smiles\"].isna()) & df[\"casrn\"].str.startswith(\"NOCAS\")].index.tolist(), inplace=True)\n",
    "    print(\"after cas/smile check\", len(df))\n",
    "\n",
    "    print(\"remaining smiles nulls\", df[\"smiles\"].isna().sum())\n",
    "\n",
    "    def fix_smiles(row):\n",
    "        if str(row[\"smiles\"]).strip() == \"nan\":\n",
    "            cas = str(row[\"casrn\"]).strip()\n",
    "            # print(cas)\n",
    "            \n",
    "            if cas in cache.keys():\n",
    "                smiles = cache[cas]\n",
    "                print(cas, \"--(cache)-->\", smiles)\n",
    "                row[\"smiles\"] = smiles\n",
    "            else:            \n",
    "                url = f\"https://chem.nlm.nih.gov/api/data/number/startswith/{cas}?data=smiles\"\n",
    "                resp = requests.get(url)\n",
    "                if resp.status_code == 200:\n",
    "                    d = resp.json()[\"results\"][0]\n",
    "                    # print(d)\n",
    "                    if \"structureDetails\" in d.keys():\n",
    "                        smiles = d[\"structureDetails\"][\"s\"]\n",
    "                        print(cas, \"->\", smiles)\n",
    "                        row[\"smiles\"] = smiles\n",
    "                        cache[cas] = smiles\n",
    "                else:\n",
    "                    print(f\"ERROR for cas:\", cas)\n",
    "        return row\n",
    "\n",
    "    df = df.apply(lambda x: fix_smiles(x), axis=1)\n",
    "\n",
    "    print(\"final smiles nulls\", df[\"smiles\"].isna().sum())\n",
    "\n",
    "    df.dropna(subset=[\"smiles\"], inplace=True)\n",
    "\n",
    "    print(\"final length\", len(df))\n",
    "    \n",
    "    df.to_csv(filename, index=False)\n",
    "    \n",
    "    print(\"saved\", filename)"
   ]
  },
  {
   "cell_type": "code",
   "execution_count": null,
   "id": "19c90041-e287-4bbb-930f-08cd205c9a97",
   "metadata": {},
   "outputs": [],
   "source": []
  }
 ],
 "metadata": {
  "kernelspec": {
   "display_name": "Python 3 (ipykernel)",
   "language": "python",
   "name": "python3"
  },
  "language_info": {
   "codemirror_mode": {
    "name": "ipython",
    "version": 3
   },
   "file_extension": ".py",
   "mimetype": "text/x-python",
   "name": "python",
   "nbconvert_exporter": "python",
   "pygments_lexer": "ipython3",
   "version": "3.7.11"
  }
 },
 "nbformat": 4,
 "nbformat_minor": 5
}
