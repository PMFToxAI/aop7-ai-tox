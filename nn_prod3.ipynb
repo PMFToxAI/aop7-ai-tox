{
 "cells": [
  {
   "cell_type": "code",
   "execution_count": 10,
   "id": "080002f2-6f0b-4e1e-8fce-ef42e0c485ab",
   "metadata": {},
   "outputs": [],
   "source": [
    "from tqdm import tqdm\n",
    "import requests\n",
    "import pandas as pd\n",
    "import numpy as np\n",
    "\n",
    "from rdkit.Chem import AllChem\n",
    "from rdkit import DataStructs\n",
    "from rdkit.Chem import Draw\n",
    "from rdkit.Chem.Draw import SimilarityMaps\n",
    "from rdkit import Chem, DataStructs\n",
    "from joblib import parallel_backend\n",
    "\n",
    "import tensorflow as tf\n",
    "import tensorflow.keras as keras\n",
    "from tensorflow.keras.models import Sequential\n",
    "from tensorflow.keras.layers import Dense, Dropout, Conv1D, Flatten, MaxPool1D\n",
    "\n",
    "from sklearn import preprocessing\n",
    "from sklearn.model_selection import train_test_split\n",
    "from sklearn.neighbors import NearestNeighbors\n",
    "\n",
    "import matplotlib.pyplot as plt\n",
    "import pickle\n",
    "\n",
    "import imblearn"
   ]
  },
  {
   "cell_type": "code",
   "execution_count": 3,
   "id": "699d918a-e389-498e-af60-a67bb90e3d12",
   "metadata": {},
   "outputs": [],
   "source": [
    "assays = [\n",
    "    \"ATG_PPARg_TRANS_dn\", \n",
    "    \"ATG_PPARg_TRANS_up\", \n",
    "    \"TOX21_PPARg_BLA_antagonist_ratio\", \n",
    "    \"TOX21_PPARg_BLA_Agonist_ratio\", \n",
    "    \"NVS_NR_hPPARg\", \n",
    "    \"ERF_ENZ_hCYP19A1_dn\", \n",
    "    \"NVS_ADME_hCYP19A1\", \n",
    "    \"NVS_ADME_hCYP19A1_Activator\", \n",
    "    \"TOX21_Aromatase_Inhibition\", \n",
    "    \"CEETOX_H295R_ESTRADIOL_dn\", \n",
    "    \"CEETOX_H295R_ESTRADIOL_noMTC_dn\", \n",
    "    \"CEETOX_H295R_ESTRADIOL_noMTC_up\", \n",
    "    \"CEETOX_H295R_ESTRADIOL_up\", \n",
    "    \"CEETOX_H295R_ESTRONE_dn\", \n",
    "    \"CEETOX_H295R_ESTRONE_noMTC_dn\", \n",
    "    \"CEETOX_H295R_ESTRONE_noMTC_up\", \n",
    "    \"CEETOX_H295R_ESTRONE_up\"\n",
    "]\n",
    "\n",
    "effects = [\n",
    "    \"dn\",\n",
    "    \"up\",\n",
    "    \"dn\",\n",
    "    \"up\",\n",
    "    \"dn\",\n",
    "    \"dn\",\n",
    "    \"dn\",\n",
    "    \"up\",\n",
    "    \"dn\",\n",
    "    \"dn\",\n",
    "    \"dn\",\n",
    "    \"up\",\n",
    "    \"up\",\n",
    "    \"dn\",\n",
    "    \"dn\",\n",
    "    \"up\",\n",
    "    \"up\"    \n",
    "]"
   ]
  },
  {
   "cell_type": "code",
   "execution_count": 4,
   "id": "fdc74802-48d2-4b5f-bf65-ef2098096afe",
   "metadata": {},
   "outputs": [],
   "source": [
    "# find all matching\n",
    "\n",
    "dfs = []\n",
    "smiles = []\n",
    "\n",
    "for assay, effect in zip(assays, effects):\n",
    "    path = f\"data/{assay}.csv\"\n",
    "    df = pd.read_csv(path)\n",
    "    # print(df[\"smiles\"].isnull().sum())\n",
    "    \n",
    "    s = df[[\"preferredName\", \"smiles\"]].copy()\n",
    "    s.index = s[\"preferredName\"]\n",
    "    del s[\"preferredName\"]\n",
    "    smiles.append(s)\n",
    "    \n",
    "    df = df[[\"preferredName\", \"hitc\"]] # only leave these two columns\n",
    "    \n",
    "    df = df[df[\"hitc\"] != -1] # 22.9.2022.: remove inconclusive results\n",
    "    \n",
    "    df[f\"effect_{assay}\"] = -1 if effect == \"dn\" else 1\n",
    "    \n",
    "    df[\"hitc\"] *= df[f\"effect_{assay}\"]\n",
    "    \n",
    "    del df[f\"effect_{assay}\"]\n",
    "    \n",
    "    df.index = df[\"preferredName\"] \n",
    "    del df[\"preferredName\"] # set index to name and remove the column name\n",
    "    df.columns = [assay] # set type (only remaining column) to name of assay\n",
    "    # df.dropna(inplace=True)  # TODO: search for names in some other way?\n",
    "    \n",
    "    dfs.append(df)\n",
    "\n",
    "# save for later\n",
    "smiles = pd.concat(smiles, axis=0)\n",
    "smiles = smiles[~smiles.index.duplicated(keep='first')]"
   ]
  },
  {
   "cell_type": "code",
   "execution_count": 5,
   "id": "d53df791-ec0c-404e-bf61-847c237fce1a",
   "metadata": {},
   "outputs": [
    {
     "data": {
      "text/plain": [
       "smiles    0\n",
       "dtype: int64"
      ]
     },
     "execution_count": 5,
     "metadata": {},
     "output_type": "execute_result"
    }
   ],
   "source": [
    "smiles.isnull().sum() # should be zero, run fix-smiles!"
   ]
  },
  {
   "cell_type": "code",
   "execution_count": 7,
   "id": "6dd9ed65-e0b4-4070-8958-e69db4d5615d",
   "metadata": {},
   "outputs": [
    {
     "data": {
      "text/plain": [
       "CEETOX_H295R_ESTRADIOL_up\n",
       "0                            514\n",
       "1                             58\n",
       "dtype: int64"
      ]
     },
     "execution_count": 7,
     "metadata": {},
     "output_type": "execute_result"
    }
   ],
   "source": [
    "dfs[12].value_counts()"
   ]
  },
  {
   "cell_type": "markdown",
   "id": "71f176a1-4a35-4539-bec6-1d7910a4a53b",
   "metadata": {
    "tags": []
   },
   "source": [
    "# Single Key Event Convs (SKEC)"
   ]
  },
  {
   "cell_type": "code",
   "execution_count": 14,
   "id": "9cd074ee-81c2-40bd-9ff5-c86588c24b9d",
   "metadata": {},
   "outputs": [
    {
     "name": "stderr",
     "output_type": "stream",
     "text": [
      "/home/milosevicn/miniconda3/envs/bio/lib/python3.7/site-packages/ipykernel_launcher.py:9: SettingWithCopyWarning: \n",
      "A value is trying to be set on a copy of a slice from a DataFrame.\n",
      "Try using .loc[row_indexer,col_indexer] = value instead\n",
      "\n",
      "See the caveats in the documentation: https://pandas.pydata.org/pandas-docs/stable/user_guide/indexing.html#returning-a-view-versus-a-copy\n",
      "  if __name__ == '__main__':\n",
      "/home/milosevicn/miniconda3/envs/bio/lib/python3.7/site-packages/ipykernel_launcher.py:10: SettingWithCopyWarning: \n",
      "A value is trying to be set on a copy of a slice from a DataFrame.\n",
      "Try using .loc[row_indexer,col_indexer] = value instead\n",
      "\n",
      "See the caveats in the documentation: https://pandas.pydata.org/pandas-docs/stable/user_guide/indexing.html#returning-a-view-versus-a-copy\n",
      "  # Remove the CWD from sys.path while we load stuff.\n",
      "RDKit ERROR: [18:44:17] SMILES Parse Error: syntax error while parsing: [Ca+2].[X]CCCCCCCCCCCC.[X]CCCCCCCCCCCC.[O-]S(=O)(=O)c1ccccc1.[O-]S(=O)(=O)c2ccccc2\n",
      "[18:44:17] SMILES Parse Error: syntax error while parsing: [Ca+2].[X]CCCCCCCCCCCC.[X]CCCCCCCCCCCC.[O-]S(=O)(=O)c1ccccc1.[O-]S(=O)(=O)c2ccccc2\n",
      "RDKit ERROR: [18:44:17] SMILES Parse Error: Failed parsing SMILES '[Ca+2].[X]CCCCCCCCCCCC.[X]CCCCCCCCCCCC.[O-]S(=O)(=O)c1ccccc1.[O-]S(=O)(=O)c2ccccc2' for input: '[Ca+2].[X]CCCCCCCCCCCC.[X]CCCCCCCCCCCC.[O-]S(=O)(=O)c1ccccc1.[O-]S(=O)(=O)c2ccccc2'\n",
      "[18:44:17] SMILES Parse Error: Failed parsing SMILES '[Ca+2].[X]CCCCCCCCCCCC.[X]CCCCCCCCCCCC.[O-]S(=O)(=O)c1ccccc1.[O-]S(=O)(=O)c2ccccc2' for input: '[Ca+2].[X]CCCCCCCCCCCC.[X]CCCCCCCCCCCC.[O-]S(=O)(=O)c1ccccc1.[O-]S(=O)(=O)c2ccccc2'\n"
     ]
    },
    {
     "name": "stdout",
     "output_type": "stream",
     "text": [
      "0.0    21095\n",
      "2.0     1320\n",
      "1.0     1066\n",
      "Name: label, dtype: int64\n",
      "Bad smiles string for Calcium dodecylbenzene sulfonate\n"
     ]
    },
    {
     "name": "stderr",
     "output_type": "stream",
     "text": [
      "RDKit ERROR: [18:44:17] SMILES Parse Error: syntax error while parsing: [X]C(C)CCCCCC.[X][N+](=O)[O-].C\\C=C\\C(=O)Oc1ccccc1[N+](=O)[O-]\n",
      "[18:44:17] SMILES Parse Error: syntax error while parsing: [X]C(C)CCCCCC.[X][N+](=O)[O-].C\\C=C\\C(=O)Oc1ccccc1[N+](=O)[O-]\n",
      "RDKit ERROR: [18:44:17] SMILES Parse Error: Failed parsing SMILES '[X]C(C)CCCCCC.[X][N+](=O)[O-].C\\C=C\\C(=O)Oc1ccccc1[N+](=O)[O-]' for input: '[X]C(C)CCCCCC.[X][N+](=O)[O-].C\\C=C\\C(=O)Oc1ccccc1[N+](=O)[O-]'\n",
      "[18:44:17] SMILES Parse Error: Failed parsing SMILES '[X]C(C)CCCCCC.[X][N+](=O)[O-].C\\C=C\\C(=O)Oc1ccccc1[N+](=O)[O-]' for input: '[X]C(C)CCCCCC.[X][N+](=O)[O-].C\\C=C\\C(=O)Oc1ccccc1[N+](=O)[O-]'\n",
      "RDKit ERROR: [18:44:18] SMILES Parse Error: syntax error while parsing: ['Rgp']c1ccc(O)cc1\n",
      "[18:44:18] SMILES Parse Error: syntax error while parsing: ['Rgp']c1ccc(O)cc1\n",
      "RDKit ERROR: [18:44:18] SMILES Parse Error: Failed parsing SMILES '['Rgp']c1ccc(O)cc1' for input: '['Rgp']c1ccc(O)cc1'\n",
      "[18:44:18] SMILES Parse Error: Failed parsing SMILES '['Rgp']c1ccc(O)cc1' for input: '['Rgp']c1ccc(O)cc1'\n"
     ]
    },
    {
     "name": "stdout",
     "output_type": "stream",
     "text": [
      "Bad smiles string for Dinocap\n",
      "Bad smiles string for 4-Nonylphenol, branched\n"
     ]
    },
    {
     "name": "stderr",
     "output_type": "stream",
     "text": [
      "RDKit ERROR: [18:44:18] Explicit valence for atom # 0 O, 3, is greater than permitted\n",
      "[18:44:18] Explicit valence for atom # 0 O, 3, is greater than permitted\n",
      "RDKit ERROR: [18:44:18] SMILES Parse Error: syntax error while parsing: [X]C.[X]C.CCCCCCCOC(=O)CCCCC(=O)OCCCCCCC\n",
      "RDKit ERROR: [18:44:18] SMILES Parse Error: Failed parsing SMILES '[X]C.[X]C.CCCCCCCOC(=O)CCCCC(=O)OCCCCCCC' for input: '[X]C.[X]C.CCCCCCCOC(=O)CCCCC(=O)OCCCCCCC'\n",
      "[18:44:18] SMILES Parse Error: syntax error while parsing: [X]C.[X]C.CCCCCCCOC(=O)CCCCC(=O)OCCCCCCC\n",
      "[18:44:18] SMILES Parse Error: Failed parsing SMILES '[X]C.[X]C.CCCCCCCOC(=O)CCCCC(=O)OCCCCCCC' for input: '[X]C.[X]C.CCCCCCCOC(=O)CCCCC(=O)OCCCCCCC'\n",
      "RDKit ERROR: [18:44:18] Explicit valence for atom # 4 C, 5, is greater than permitted\n",
      "[18:44:18] Explicit valence for atom # 4 C, 5, is greater than permitted\n",
      "RDKit ERROR: [18:44:18] SMILES Parse Error: syntax error while parsing: [Cl-].['Rgp'][N+](C)(C)Cc1ccccc1\n",
      "[18:44:18] SMILES Parse Error: syntax error while parsing: [Cl-].['Rgp'][N+](C)(C)Cc1ccccc1\n",
      "RDKit ERROR: [18:44:18] SMILES Parse Error: Failed parsing SMILES '[Cl-].['Rgp'][N+](C)(C)Cc1ccccc1' for input: '[Cl-].['Rgp'][N+](C)(C)Cc1ccccc1'\n",
      "RDKit ERROR: [18:44:18] Explicit valence for atom # 3 Si, 8, is greater than permitted\n",
      "[18:44:18] SMILES Parse Error: Failed parsing SMILES '[Cl-].['Rgp'][N+](C)(C)Cc1ccccc1' for input: '[Cl-].['Rgp'][N+](C)(C)Cc1ccccc1'\n",
      "[18:44:18] Explicit valence for atom # 3 Si, 8, is greater than permitted\n"
     ]
    },
    {
     "name": "stdout",
     "output_type": "stream",
     "text": [
      "Bad smiles string for Zinc pyrithione\n",
      "Bad smiles string for Diisooctyl adipate\n",
      "Bad smiles string for (Methylcyclopentadienyl)tricarbonylmanganese\n",
      "Bad smiles string for Benzalkonium chloride\n",
      "Bad smiles string for Sodium hexafluorosilicate\n"
     ]
    },
    {
     "name": "stderr",
     "output_type": "stream",
     "text": [
      "RDKit ERROR: [18:44:18] SMILES Parse Error: syntax error while parsing: [Ca+2].[X]CCCCCCCCCCCC.[X]CCCCCCCCCCCC.[O-]S(=O)(=O)c1ccccc1.[O-]S(=O)(=O)c2ccccc2\n",
      "[18:44:18] SMILES Parse Error: syntax error while parsing: [Ca+2].[X]CCCCCCCCCCCC.[X]CCCCCCCCCCCC.[O-]S(=O)(=O)c1ccccc1.[O-]S(=O)(=O)c2ccccc2\n",
      "RDKit ERROR: [18:44:18] SMILES Parse Error: Failed parsing SMILES '[Ca+2].[X]CCCCCCCCCCCC.[X]CCCCCCCCCCCC.[O-]S(=O)(=O)c1ccccc1.[O-]S(=O)(=O)c2ccccc2' for input: '[Ca+2].[X]CCCCCCCCCCCC.[X]CCCCCCCCCCCC.[O-]S(=O)(=O)c1ccccc1.[O-]S(=O)(=O)c2ccccc2'\n",
      "[18:44:18] SMILES Parse Error: Failed parsing SMILES '[Ca+2].[X]CCCCCCCCCCCC.[X]CCCCCCCCCCCC.[O-]S(=O)(=O)c1ccccc1.[O-]S(=O)(=O)c2ccccc2' for input: '[Ca+2].[X]CCCCCCCCCCCC.[X]CCCCCCCCCCCC.[O-]S(=O)(=O)c1ccccc1.[O-]S(=O)(=O)c2ccccc2'\n",
      "RDKit ERROR: [18:44:18] SMILES Parse Error: syntax error while parsing: [X]C(C)CCCCCC.[X][N+](=O)[O-].C\\C=C\\C(=O)Oc1ccccc1[N+](=O)[O-]\n",
      "[18:44:18] SMILES Parse Error: syntax error while parsing: [X]C(C)CCCCCC.[X][N+](=O)[O-].C\\C=C\\C(=O)Oc1ccccc1[N+](=O)[O-]\n",
      "RDKit ERROR: [18:44:18] SMILES Parse Error: Failed parsing SMILES '[X]C(C)CCCCCC.[X][N+](=O)[O-].C\\C=C\\C(=O)Oc1ccccc1[N+](=O)[O-]' for input: '[X]C(C)CCCCCC.[X][N+](=O)[O-].C\\C=C\\C(=O)Oc1ccccc1[N+](=O)[O-]'\n"
     ]
    },
    {
     "name": "stdout",
     "output_type": "stream",
     "text": [
      "Bad smiles string for Calcium dodecylbenzene sulfonate\n",
      "Bad smiles string for Dinocap\n"
     ]
    },
    {
     "name": "stderr",
     "output_type": "stream",
     "text": [
      "[18:44:18] SMILES Parse Error: Failed parsing SMILES '[X]C(C)CCCCCC.[X][N+](=O)[O-].C\\C=C\\C(=O)Oc1ccccc1[N+](=O)[O-]' for input: '[X]C(C)CCCCCC.[X][N+](=O)[O-].C\\C=C\\C(=O)Oc1ccccc1[N+](=O)[O-]'\n",
      "RDKit ERROR: [18:44:19] SMILES Parse Error: syntax error while parsing: ['Rgp']c1ccc(O)cc1\n",
      "[18:44:19] SMILES Parse Error: syntax error while parsing: ['Rgp']c1ccc(O)cc1\n",
      "RDKit ERROR: [18:44:19] SMILES Parse Error: Failed parsing SMILES '['Rgp']c1ccc(O)cc1' for input: '['Rgp']c1ccc(O)cc1'\n",
      "[18:44:19] SMILES Parse Error: Failed parsing SMILES '['Rgp']c1ccc(O)cc1' for input: '['Rgp']c1ccc(O)cc1'\n"
     ]
    },
    {
     "name": "stdout",
     "output_type": "stream",
     "text": [
      "Bad smiles string for 4-Nonylphenol, branched\n",
      "Bad smiles string for Zinc pyrithione\n",
      "Bad smiles string for Diisooctyl adipate\n"
     ]
    },
    {
     "name": "stderr",
     "output_type": "stream",
     "text": [
      "RDKit ERROR: [18:44:19] Explicit valence for atom # 0 O, 3, is greater than permitted\n",
      "[18:44:19] Explicit valence for atom # 0 O, 3, is greater than permitted\n",
      "RDKit ERROR: [18:44:19] SMILES Parse Error: syntax error while parsing: [X]C.[X]C.CCCCCCCOC(=O)CCCCC(=O)OCCCCCCC\n",
      "RDKit ERROR: [18:44:19] SMILES Parse Error: Failed parsing SMILES '[X]C.[X]C.CCCCCCCOC(=O)CCCCC(=O)OCCCCCCC' for input: '[X]C.[X]C.CCCCCCCOC(=O)CCCCC(=O)OCCCCCCC'\n",
      "[18:44:19] SMILES Parse Error: syntax error while parsing: [X]C.[X]C.CCCCCCCOC(=O)CCCCC(=O)OCCCCCCC\n",
      "[18:44:19] SMILES Parse Error: Failed parsing SMILES '[X]C.[X]C.CCCCCCCOC(=O)CCCCC(=O)OCCCCCCC' for input: '[X]C.[X]C.CCCCCCCOC(=O)CCCCC(=O)OCCCCCCC'\n",
      "RDKit ERROR: [18:44:19] Explicit valence for atom # 4 C, 5, is greater than permitted\n",
      "[18:44:19] Explicit valence for atom # 4 C, 5, is greater than permitted\n",
      "RDKit ERROR: [18:44:19] SMILES Parse Error: syntax error while parsing: [Cl-].['Rgp'][N+](C)(C)Cc1ccccc1\n",
      "[18:44:19] SMILES Parse Error: syntax error while parsing: [Cl-].['Rgp'][N+](C)(C)Cc1ccccc1\n",
      "RDKit ERROR: [18:44:19] SMILES Parse Error: Failed parsing SMILES '[Cl-].['Rgp'][N+](C)(C)Cc1ccccc1' for input: '[Cl-].['Rgp'][N+](C)(C)Cc1ccccc1'\n",
      "[18:44:19] SMILES Parse Error: Failed parsing SMILES '[Cl-].['Rgp'][N+](C)(C)Cc1ccccc1' for input: '[Cl-].['Rgp'][N+](C)(C)Cc1ccccc1'\n"
     ]
    },
    {
     "name": "stdout",
     "output_type": "stream",
     "text": [
      "Bad smiles string for (Methylcyclopentadienyl)tricarbonylmanganese\n",
      "Bad smiles string for Benzalkonium chloride\n",
      "Bad smiles string for Sodium hexafluorosilicate\n",
      "Bad smiles string for Diisopropylbenzene\n"
     ]
    },
    {
     "name": "stderr",
     "output_type": "stream",
     "text": [
      "RDKit ERROR: [18:44:19] Explicit valence for atom # 3 Si, 8, is greater than permitted\n",
      "[18:44:19] Explicit valence for atom # 3 Si, 8, is greater than permitted\n",
      "RDKit ERROR: [18:44:19] SMILES Parse Error: syntax error while parsing: [X]C(C)C.CC(C)c1ccccc1\n",
      "[18:44:19] SMILES Parse Error: syntax error while parsing: [X]C(C)C.CC(C)c1ccccc1\n",
      "RDKit ERROR: [18:44:19] SMILES Parse Error: Failed parsing SMILES '[X]C(C)C.CC(C)c1ccccc1' for input: '[X]C(C)C.CC(C)c1ccccc1'\n",
      "[18:44:19] SMILES Parse Error: Failed parsing SMILES '[X]C(C)C.CC(C)c1ccccc1' for input: '[X]C(C)C.CC(C)c1ccccc1'\n",
      "RDKit ERROR: [18:44:19] SMILES Parse Error: syntax error while parsing: [Ca+2].[X]CCCCCCCCCCCC.[X]CCCCCCCCCCCC.[O-]S(=O)(=O)c1ccccc1.[O-]S(=O)(=O)c2ccccc2\n",
      "[18:44:19] SMILES Parse Error: syntax error while parsing: [Ca+2].[X]CCCCCCCCCCCC.[X]CCCCCCCCCCCC.[O-]S(=O)(=O)c1ccccc1.[O-]S(=O)(=O)c2ccccc2\n",
      "RDKit ERROR: [18:44:19] SMILES Parse Error: Failed parsing SMILES '[Ca+2].[X]CCCCCCCCCCCC.[X]CCCCCCCCCCCC.[O-]S(=O)(=O)c1ccccc1.[O-]S(=O)(=O)c2ccccc2' for input: '[Ca+2].[X]CCCCCCCCCCCC.[X]CCCCCCCCCCCC.[O-]S(=O)(=O)c1ccccc1.[O-]S(=O)(=O)c2ccccc2'\n",
      "[18:44:19] SMILES Parse Error: Failed parsing SMILES '[Ca+2].[X]CCCCCCCCCCCC.[X]CCCCCCCCCCCC.[O-]S(=O)(=O)c1ccccc1.[O-]S(=O)(=O)c2ccccc2' for input: '[Ca+2].[X]CCCCCCCCCCCC.[X]CCCCCCCCCCCC.[O-]S(=O)(=O)c1ccccc1.[O-]S(=O)(=O)c2ccccc2'\n"
     ]
    },
    {
     "name": "stdout",
     "output_type": "stream",
     "text": [
      "Bad smiles string for Calcium dodecylbenzene sulfonate\n"
     ]
    },
    {
     "name": "stderr",
     "output_type": "stream",
     "text": [
      "RDKit ERROR: [18:44:20] SMILES Parse Error: syntax error while parsing: [X]C(C)CCCCCC.[X][N+](=O)[O-].C\\C=C\\C(=O)Oc1ccccc1[N+](=O)[O-]\n",
      "[18:44:20] SMILES Parse Error: syntax error while parsing: [X]C(C)CCCCCC.[X][N+](=O)[O-].C\\C=C\\C(=O)Oc1ccccc1[N+](=O)[O-]\n",
      "RDKit ERROR: [18:44:20] SMILES Parse Error: Failed parsing SMILES '[X]C(C)CCCCCC.[X][N+](=O)[O-].C\\C=C\\C(=O)Oc1ccccc1[N+](=O)[O-]' for input: '[X]C(C)CCCCCC.[X][N+](=O)[O-].C\\C=C\\C(=O)Oc1ccccc1[N+](=O)[O-]'\n",
      "[18:44:20] SMILES Parse Error: Failed parsing SMILES '[X]C(C)CCCCCC.[X][N+](=O)[O-].C\\C=C\\C(=O)Oc1ccccc1[N+](=O)[O-]' for input: '[X]C(C)CCCCCC.[X][N+](=O)[O-].C\\C=C\\C(=O)Oc1ccccc1[N+](=O)[O-]'\n",
      "RDKit ERROR: [18:44:20] Explicit valence for atom # 0 N, 4, is greater than permitted\n",
      "[18:44:20] Explicit valence for atom # 0 N, 4, is greater than permitted\n",
      "RDKit ERROR: [18:44:20] Explicit valence for atom # 0 N, 4, is greater than permitted\n",
      "[18:44:20] Explicit valence for atom # 0 N, 4, is greater than permitted\n"
     ]
    },
    {
     "name": "stdout",
     "output_type": "stream",
     "text": [
      "Bad smiles string for Dinocap\n",
      "Bad smiles string for Carboplatin\n",
      "Bad smiles string for Cisplatin\n"
     ]
    },
    {
     "name": "stderr",
     "output_type": "stream",
     "text": [
      "RDKit ERROR: [18:44:20] SMILES Parse Error: syntax error while parsing: ['Rgp']c1ccc(O)cc1\n",
      "[18:44:20] SMILES Parse Error: syntax error while parsing: ['Rgp']c1ccc(O)cc1\n",
      "RDKit ERROR: [18:44:20] SMILES Parse Error: Failed parsing SMILES '['Rgp']c1ccc(O)cc1' for input: '['Rgp']c1ccc(O)cc1'\n",
      "[18:44:20] SMILES Parse Error: Failed parsing SMILES '['Rgp']c1ccc(O)cc1' for input: '['Rgp']c1ccc(O)cc1'\n"
     ]
    },
    {
     "name": "stdout",
     "output_type": "stream",
     "text": [
      "Bad smiles string for 4-Nonylphenol, branched\n"
     ]
    },
    {
     "name": "stderr",
     "output_type": "stream",
     "text": [
      "RDKit ERROR: [18:44:20] Explicit valence for atom # 7 Mg, 6, is greater than permitted\n",
      "[18:44:20] Explicit valence for atom # 7 Mg, 6, is greater than permitted\n",
      "RDKit ERROR: [18:44:20] Explicit valence for atom # 0 O, 3, is greater than permitted\n",
      "[18:44:20] Explicit valence for atom # 0 O, 3, is greater than permitted\n",
      "RDKit ERROR: [18:44:20] SMILES Parse Error: syntax error while parsing: [X]C.[X]C.CCCCCCCOC(=O)CCCCC(=O)OCCCCCCC\n",
      "RDKit ERROR: [18:44:20] SMILES Parse Error: Failed parsing SMILES '[X]C.[X]C.CCCCCCCOC(=O)CCCCC(=O)OCCCCCCC' for input: '[X]C.[X]C.CCCCCCCOC(=O)CCCCC(=O)OCCCCCCC'\n",
      "[18:44:20] SMILES Parse Error: syntax error while parsing: [X]C.[X]C.CCCCCCCOC(=O)CCCCC(=O)OCCCCCCC\n",
      "[18:44:20] SMILES Parse Error: Failed parsing SMILES '[X]C.[X]C.CCCCCCCOC(=O)CCCCC(=O)OCCCCCCC' for input: '[X]C.[X]C.CCCCCCCOC(=O)CCCCC(=O)OCCCCCCC'\n",
      "RDKit ERROR: [18:44:21] Explicit valence for atom # 1 C, 5, is greater than permitted\n",
      "[18:44:21] Explicit valence for atom # 1 C, 5, is greater than permitted\n"
     ]
    },
    {
     "name": "stdout",
     "output_type": "stream",
     "text": [
      "Bad smiles string for Magnesium, bis(salicylato)-, tetrahydrate\n",
      "Bad smiles string for Zinc pyrithione\n",
      "Bad smiles string for Diisooctyl adipate\n",
      "Bad smiles string for Vitamin B12\n"
     ]
    },
    {
     "name": "stderr",
     "output_type": "stream",
     "text": [
      "RDKit WARNING: [18:44:21] WARNING: not removing hydrogen atom without neighbors\n",
      "[18:44:21] WARNING: not removing hydrogen atom without neighbors\n",
      "RDKit ERROR: [18:44:21] Explicit valence for atom # 0 F, 2, is greater than permitted\n",
      "[18:44:21] Explicit valence for atom # 0 F, 2, is greater than permitted\n",
      "RDKit ERROR: [18:44:21] Explicit valence for atom # 4 C, 5, is greater than permitted\n",
      "[18:44:21] Explicit valence for atom # 4 C, 5, is greater than permitted\n",
      "RDKit ERROR: [18:44:21] SMILES Parse Error: syntax error while parsing: [*]C.[*]C.[*]CC.[*]CC.['Rgp']CCCCCOC(=O)c1ccccc1C(=O)OCCCCC['Rgp']\n",
      "RDKit ERROR: [18:44:21] SMILES Parse Error: Failed parsing SMILES '[*]C.[*]C.[*]CC.[*]CC.['Rgp']CCCCCOC(=O)c1ccccc1C(=O)OCCCCC['Rgp']' for input: '[*]C.[*]C.[*]CC.[*]CC.['Rgp']CCCCCOC(=O)c1ccccc1C(=O)OCCCCC['Rgp']'\n",
      "[18:44:21] SMILES Parse Error: syntax error while parsing: [*]C.[*]C.[*]CC.[*]CC.['Rgp']CCCCCOC(=O)c1ccccc1C(=O)OCCCCC['Rgp']\n",
      "[18:44:21] SMILES Parse Error: Failed parsing SMILES '[*]C.[*]C.[*]CC.[*]CC.['Rgp']CCCCCOC(=O)c1ccccc1C(=O)OCCCCC['Rgp']' for input: '[*]C.[*]C.[*]CC.[*]CC.['Rgp']CCCCCOC(=O)c1ccccc1C(=O)OCCCCC['Rgp']'\n",
      "RDKit ERROR: [18:44:21] SMILES Parse Error: syntax error while parsing: [Cl-].['Rgp'][N+](C)(C)Cc1ccccc1\n",
      "RDKit ERROR: [18:44:21] SMILES Parse Error: Failed parsing SMILES '[Cl-].['Rgp'][N+](C)(C)Cc1ccccc1' for input: '[Cl-].['Rgp'][N+](C)(C)Cc1ccccc1'\n",
      "RDKit ERROR: [18:44:21] Explicit valence for atom # 3 Si, 8, is greater than permitted\n"
     ]
    },
    {
     "name": "stdout",
     "output_type": "stream",
     "text": [
      "Bad smiles string for 1-Ethyl-1-methylpyrrolidinium tetrafluoroborate\n",
      "Bad smiles string for (Methylcyclopentadienyl)tricarbonylmanganese\n",
      "Bad smiles string for 1,2-Benzenedicarboxylic acid, di-C6-8-branched alkyl esters, C7-rich\n",
      "Bad smiles string for Benzalkonium chloride\n",
      "Bad smiles string for Sodium hexafluorosilicate\n"
     ]
    },
    {
     "name": "stderr",
     "output_type": "stream",
     "text": [
      "[18:44:21] SMILES Parse Error: syntax error while parsing: [Cl-].['Rgp'][N+](C)(C)Cc1ccccc1\n",
      "[18:44:21] SMILES Parse Error: Failed parsing SMILES '[Cl-].['Rgp'][N+](C)(C)Cc1ccccc1' for input: '[Cl-].['Rgp'][N+](C)(C)Cc1ccccc1'\n",
      "[18:44:21] Explicit valence for atom # 3 Si, 8, is greater than permitted\n",
      "RDKit ERROR: [18:44:21] SMILES Parse Error: syntax error while parsing: [X]C(C)C.CC(C)c1ccccc1\n",
      "[18:44:21] SMILES Parse Error: syntax error while parsing: [X]C(C)C.CC(C)c1ccccc1\n",
      "RDKit ERROR: [18:44:21] SMILES Parse Error: Failed parsing SMILES '[X]C(C)C.CC(C)c1ccccc1' for input: '[X]C(C)C.CC(C)c1ccccc1'\n",
      "[18:44:21] SMILES Parse Error: Failed parsing SMILES '[X]C(C)C.CC(C)c1ccccc1' for input: '[X]C(C)C.CC(C)c1ccccc1'\n",
      "RDKit ERROR: [18:44:21] SMILES Parse Error: syntax error while parsing: ['Rgp']CN.['Rgp']C(C)N.['Rgp']C(C)NC.['Rgp']C1CCC(N)C(OC2C(N)CC(N)C(OC3OCC(C)(O)C(NC)C3O)C2O)O1\n",
      "RDKit ERROR: [18:44:21] SMILES Parse Error: Failed parsing SMILES '['Rgp']CN.['Rgp']C(C)N.['Rgp']C(C)NC.['Rgp']C1CCC(N)C(OC2C(N)CC(N)C(OC3OCC(C)(O)C(NC)C3O)C2O)O1' for input: '['Rgp']CN.['Rgp']C(C)N.['Rgp']C(C)NC.['Rgp']C1CCC(N)C(OC2C(N)CC(N)C(OC3OCC(C)(O)C(NC)C3O)C2O)O1'\n",
      "[18:44:21] SMILES Parse Error: syntax error while parsing: ['Rgp']CN.['Rgp']C(C)N.['Rgp']C(C)NC.['Rgp']C1CCC(N)C(OC2C(N)CC(N)C(OC3OCC(C)(O)C(NC)C3O)C2O)O1\n",
      "[18:44:21] SMILES Parse Error: Failed parsing SMILES '['Rgp']CN.['Rgp']C(C)N.['Rgp']C(C)NC.['Rgp']C1CCC(N)C(OC2C(N)CC(N)C(OC3OCC(C)(O)C(NC)C3O)C2O)O1' for input: '['Rgp']CN.['Rgp']C(C)N.['Rgp']C(C)NC.['Rgp']C1CCC(N)C(OC2C(N)CC(N)C(OC3OCC(C)(O)C(NC)C3O)C2O)O1'\n"
     ]
    },
    {
     "name": "stdout",
     "output_type": "stream",
     "text": [
      "Bad smiles string for Diisopropylbenzene\n",
      "Bad smiles string for Gentamicin sulfate\n"
     ]
    },
    {
     "name": "stderr",
     "output_type": "stream",
     "text": [
      "RDKit ERROR: [18:44:21] SMILES Parse Error: syntax error while parsing: [Ca+2].[X]CCCCCCCCCCCC.[X]CCCCCCCCCCCC.[O-]S(=O)(=O)c1ccccc1.[O-]S(=O)(=O)c2ccccc2\n",
      "[18:44:21] SMILES Parse Error: syntax error while parsing: [Ca+2].[X]CCCCCCCCCCCC.[X]CCCCCCCCCCCC.[O-]S(=O)(=O)c1ccccc1.[O-]S(=O)(=O)c2ccccc2\n",
      "RDKit ERROR: [18:44:21] SMILES Parse Error: Failed parsing SMILES '[Ca+2].[X]CCCCCCCCCCCC.[X]CCCCCCCCCCCC.[O-]S(=O)(=O)c1ccccc1.[O-]S(=O)(=O)c2ccccc2' for input: '[Ca+2].[X]CCCCCCCCCCCC.[X]CCCCCCCCCCCC.[O-]S(=O)(=O)c1ccccc1.[O-]S(=O)(=O)c2ccccc2'\n",
      "[18:44:21] SMILES Parse Error: Failed parsing SMILES '[Ca+2].[X]CCCCCCCCCCCC.[X]CCCCCCCCCCCC.[O-]S(=O)(=O)c1ccccc1.[O-]S(=O)(=O)c2ccccc2' for input: '[Ca+2].[X]CCCCCCCCCCCC.[X]CCCCCCCCCCCC.[O-]S(=O)(=O)c1ccccc1.[O-]S(=O)(=O)c2ccccc2'\n"
     ]
    },
    {
     "name": "stdout",
     "output_type": "stream",
     "text": [
      "Bad smiles string for Calcium dodecylbenzene sulfonate\n"
     ]
    },
    {
     "name": "stderr",
     "output_type": "stream",
     "text": [
      "RDKit ERROR: [18:44:22] SMILES Parse Error: syntax error while parsing: [X]C(C)CCCCCC.[X][N+](=O)[O-].C\\C=C\\C(=O)Oc1ccccc1[N+](=O)[O-]\n",
      "[18:44:22] SMILES Parse Error: syntax error while parsing: [X]C(C)CCCCCC.[X][N+](=O)[O-].C\\C=C\\C(=O)Oc1ccccc1[N+](=O)[O-]\n",
      "RDKit ERROR: [18:44:22] SMILES Parse Error: Failed parsing SMILES '[X]C(C)CCCCCC.[X][N+](=O)[O-].C\\C=C\\C(=O)Oc1ccccc1[N+](=O)[O-]' for input: '[X]C(C)CCCCCC.[X][N+](=O)[O-].C\\C=C\\C(=O)Oc1ccccc1[N+](=O)[O-]'\n",
      "[18:44:22] SMILES Parse Error: Failed parsing SMILES '[X]C(C)CCCCCC.[X][N+](=O)[O-].C\\C=C\\C(=O)Oc1ccccc1[N+](=O)[O-]' for input: '[X]C(C)CCCCCC.[X][N+](=O)[O-].C\\C=C\\C(=O)Oc1ccccc1[N+](=O)[O-]'\n",
      "RDKit ERROR: [18:44:22] Explicit valence for atom # 0 N, 4, is greater than permitted\n",
      "[18:44:22] Explicit valence for atom # 0 N, 4, is greater than permitted\n",
      "RDKit ERROR: [18:44:22] Explicit valence for atom # 0 N, 4, is greater than permitted\n",
      "[18:44:22] Explicit valence for atom # 0 N, 4, is greater than permitted\n"
     ]
    },
    {
     "name": "stdout",
     "output_type": "stream",
     "text": [
      "Bad smiles string for Dinocap\n",
      "Bad smiles string for Carboplatin\n",
      "Bad smiles string for Cisplatin\n"
     ]
    },
    {
     "name": "stderr",
     "output_type": "stream",
     "text": [
      "RDKit ERROR: [18:44:22] SMILES Parse Error: syntax error while parsing: ['Rgp']c1ccc(O)cc1\n",
      "[18:44:22] SMILES Parse Error: syntax error while parsing: ['Rgp']c1ccc(O)cc1\n",
      "RDKit ERROR: [18:44:22] SMILES Parse Error: Failed parsing SMILES '['Rgp']c1ccc(O)cc1' for input: '['Rgp']c1ccc(O)cc1'\n",
      "RDKit ERROR: [18:44:22] SMILES Parse Error: syntax error while parsing: ['Rgp'][C@@H]1N2C(=O)[C@](NC(=O)[C@@H]3C[C@H]4[C@@H](Cc5c[nH]c6cccc4c56)N(C)C3)(O[C@@]2(O)[C@@H]7CCCN7C1=O)C(C)C.CS(=O)(=O)O\n",
      "RDKit ERROR: [18:44:22] SMILES Parse Error: Failed parsing SMILES '['Rgp'][C@@H]1N2C(=O)[C@](NC(=O)[C@@H]3C[C@H]4[C@@H](Cc5c[nH]c6cccc4c56)N(C)C3)(O[C@@]2(O)[C@@H]7CCCN7C1=O)C(C)C.CS(=O)(=O)O' for input: '['Rgp'][C@@H]1N2C(=O)[C@](NC(=O)[C@@H]3C[C@H]4[C@@H](Cc5c[nH]c6cccc4c56)N(C)C3)(O[C@@]2(O)[C@@H]7CCCN7C1=O)C(C)C.CS(=O)(=O)O'\n",
      "[18:44:22] SMILES Parse Error: Failed parsing SMILES '['Rgp']c1ccc(O)cc1' for input: '['Rgp']c1ccc(O)cc1'\n",
      "[18:44:22] SMILES Parse Error: syntax error while parsing: ['Rgp'][C@@H]1N2C(=O)[C@](NC(=O)[C@@H]3C[C@H]4[C@@H](Cc5c[nH]c6cccc4c56)N(C)C3)(O[C@@]2(O)[C@@H]7CCCN7C1=O)C(C)C.CS(=O)(=O)O\n",
      "[18:44:22] SMILES Parse Error: Failed parsing SMILES '['Rgp'][C@@H]1N2C(=O)[C@](NC(=O)[C@@H]3C[C@H]4[C@@H](Cc5c[nH]c6cccc4c56)N(C)C3)(O[C@@]2(O)[C@@H]7CCCN7C1=O)C(C)C.CS(=O)(=O)O' for input: '['Rgp'][C@@H]1N2C(=O)[C@](NC(=O)[C@@H]3C[C@H]4[C@@H](Cc5c[nH]c6cccc4c56)N(C)C3)(O[C@@]2(O)[C@@H]7CCCN7C1=O)C(C)C.CS(=O)(=O)O'\n",
      "RDKit ERROR: [18:44:22] Explicit valence for atom # 0 O, 3, is greater than permitted\n",
      "[18:44:22] Explicit valence for atom # 0 O, 3, is greater than permitted\n",
      "RDKit WARNING: [18:44:22] WARNING: not removing hydrogen atom without neighbors\n",
      "RDKit WARNING: [18:44:22] WARNING: not removing hydrogen atom without neighbors\n",
      "[18:44:22] WARNING: not removing hydrogen atom without neighbors\n",
      "[18:44:22] WARNING: not removing hydrogen atom without neighbors\n"
     ]
    },
    {
     "name": "stdout",
     "output_type": "stream",
     "text": [
      "Bad smiles string for 4-Nonylphenol, branched\n",
      "Bad smiles string for Hydergine\n",
      "Bad smiles string for Aurothioglucose\n"
     ]
    },
    {
     "name": "stderr",
     "output_type": "stream",
     "text": [
      "RDKit ERROR: [18:44:23] Explicit valence for atom # 7 Mg, 6, is greater than permitted\n",
      "[18:44:23] Explicit valence for atom # 7 Mg, 6, is greater than permitted\n",
      "RDKit ERROR: [18:44:23] Explicit valence for atom # 3 Si, 8, is greater than permitted\n",
      "[18:44:23] Explicit valence for atom # 3 Si, 8, is greater than permitted\n",
      "RDKit ERROR: [18:44:23] Explicit valence for atom # 0 O, 3, is greater than permitted\n",
      "[18:44:23] Explicit valence for atom # 0 O, 3, is greater than permitted\n",
      "RDKit ERROR: [18:44:23] SMILES Parse Error: syntax error while parsing: [X]C.[X]C.CCCCCCCOC(=O)CCCCC(=O)OCCCCCCC\n",
      "[18:44:23] SMILES Parse Error: syntax error while parsing: [X]C.[X]C.CCCCCCCOC(=O)CCCCC(=O)OCCCCCCC\n",
      "RDKit ERROR: [18:44:23] SMILES Parse Error: Failed parsing SMILES '[X]C.[X]C.CCCCCCCOC(=O)CCCCC(=O)OCCCCCCC' for input: '[X]C.[X]C.CCCCCCCOC(=O)CCCCC(=O)OCCCCCCC'\n",
      "[18:44:23] SMILES Parse Error: Failed parsing SMILES '[X]C.[X]C.CCCCCCCOC(=O)CCCCC(=O)OCCCCCCC' for input: '[X]C.[X]C.CCCCCCCOC(=O)CCCCC(=O)OCCCCCCC'\n",
      "RDKit ERROR: [18:44:23] Explicit valence for atom # 1 C, 5, is greater than permitted\n",
      "[18:44:23] Explicit valence for atom # 1 C, 5, is greater than permitted\n"
     ]
    },
    {
     "name": "stdout",
     "output_type": "stream",
     "text": [
      "Bad smiles string for Magnesium, bis(salicylato)-, tetrahydrate\n",
      "Bad smiles string for Ammonium hexafluorosilicate\n",
      "Bad smiles string for Zinc pyrithione\n",
      "Bad smiles string for Diisooctyl adipate\n",
      "Bad smiles string for Vitamin B12\n"
     ]
    },
    {
     "name": "stderr",
     "output_type": "stream",
     "text": [
      "RDKit WARNING: [18:44:23] WARNING: not removing hydrogen atom without neighbors\n",
      "[18:44:23] WARNING: not removing hydrogen atom without neighbors\n",
      "RDKit ERROR: [18:44:23] Explicit valence for atom # 0 F, 2, is greater than permitted\n",
      "[18:44:23] Explicit valence for atom # 0 F, 2, is greater than permitted\n"
     ]
    },
    {
     "name": "stdout",
     "output_type": "stream",
     "text": [
      "Bad smiles string for 1-Ethyl-1-methylpyrrolidinium tetrafluoroborate\n",
      "Bad smiles string for (Methylcyclopentadienyl)tricarbonylmanganese\n",
      "Bad smiles string for 1,2-Benzenedicarboxylic acid, di-C6-8-branched alkyl esters, C7-rich\n",
      "Bad smiles string for Benzalkonium chloride\n",
      "Bad smiles string for Sodium hexafluorosilicate\n"
     ]
    },
    {
     "name": "stderr",
     "output_type": "stream",
     "text": [
      "RDKit ERROR: [18:44:23] Explicit valence for atom # 4 C, 5, is greater than permitted\n",
      "RDKit ERROR: [18:44:23] SMILES Parse Error: syntax error while parsing: [*]C.[*]C.[*]CC.[*]CC.['Rgp']CCCCCOC(=O)c1ccccc1C(=O)OCCCCC['Rgp']\n",
      "RDKit ERROR: [18:44:23] SMILES Parse Error: Failed parsing SMILES '[*]C.[*]C.[*]CC.[*]CC.['Rgp']CCCCCOC(=O)c1ccccc1C(=O)OCCCCC['Rgp']' for input: '[*]C.[*]C.[*]CC.[*]CC.['Rgp']CCCCCOC(=O)c1ccccc1C(=O)OCCCCC['Rgp']'\n",
      "[18:44:23] Explicit valence for atom # 4 C, 5, is greater than permitted\n",
      "RDKit ERROR: [18:44:23] SMILES Parse Error: syntax error while parsing: [Cl-].['Rgp'][N+](C)(C)Cc1ccccc1\n",
      "RDKit ERROR: [18:44:23] SMILES Parse Error: Failed parsing SMILES '[Cl-].['Rgp'][N+](C)(C)Cc1ccccc1' for input: '[Cl-].['Rgp'][N+](C)(C)Cc1ccccc1'\n",
      "RDKit ERROR: [18:44:23] Explicit valence for atom # 3 Si, 8, is greater than permitted\n",
      "[18:44:23] SMILES Parse Error: syntax error while parsing: [*]C.[*]C.[*]CC.[*]CC.['Rgp']CCCCCOC(=O)c1ccccc1C(=O)OCCCCC['Rgp']\n",
      "[18:44:23] SMILES Parse Error: Failed parsing SMILES '[*]C.[*]C.[*]CC.[*]CC.['Rgp']CCCCCOC(=O)c1ccccc1C(=O)OCCCCC['Rgp']' for input: '[*]C.[*]C.[*]CC.[*]CC.['Rgp']CCCCCOC(=O)c1ccccc1C(=O)OCCCCC['Rgp']'\n",
      "[18:44:23] SMILES Parse Error: syntax error while parsing: [Cl-].['Rgp'][N+](C)(C)Cc1ccccc1\n",
      "[18:44:23] SMILES Parse Error: Failed parsing SMILES '[Cl-].['Rgp'][N+](C)(C)Cc1ccccc1' for input: '[Cl-].['Rgp'][N+](C)(C)Cc1ccccc1'\n",
      "[18:44:23] Explicit valence for atom # 3 Si, 8, is greater than permitted\n",
      "RDKit ERROR: [18:44:23] SMILES Parse Error: syntax error while parsing: [Ca+2].[X]CCCCCCCCCCCC.[X]CCCCCCCCCCCC.[O-]S(=O)(=O)c1ccccc1.[O-]S(=O)(=O)c2ccccc2\n",
      "[18:44:23] SMILES Parse Error: syntax error while parsing: [Ca+2].[X]CCCCCCCCCCCC.[X]CCCCCCCCCCCC.[O-]S(=O)(=O)c1ccccc1.[O-]S(=O)(=O)c2ccccc2\n",
      "RDKit ERROR: [18:44:23] SMILES Parse Error: Failed parsing SMILES '[Ca+2].[X]CCCCCCCCCCCC.[X]CCCCCCCCCCCC.[O-]S(=O)(=O)c1ccccc1.[O-]S(=O)(=O)c2ccccc2' for input: '[Ca+2].[X]CCCCCCCCCCCC.[X]CCCCCCCCCCCC.[O-]S(=O)(=O)c1ccccc1.[O-]S(=O)(=O)c2ccccc2'\n",
      "[18:44:23] SMILES Parse Error: Failed parsing SMILES '[Ca+2].[X]CCCCCCCCCCCC.[X]CCCCCCCCCCCC.[O-]S(=O)(=O)c1ccccc1.[O-]S(=O)(=O)c2ccccc2' for input: '[Ca+2].[X]CCCCCCCCCCCC.[X]CCCCCCCCCCCC.[O-]S(=O)(=O)c1ccccc1.[O-]S(=O)(=O)c2ccccc2'\n"
     ]
    },
    {
     "name": "stdout",
     "output_type": "stream",
     "text": [
      "Bad smiles string for Calcium dodecylbenzene sulfonate\n",
      "Bad smiles string for Dinocap\n",
      "Bad smiles string for 4-Nonylphenol, branched\n",
      "Bad smiles string for Diisooctyl adipate\n",
      "Bad smiles string for Benzalkonium chloride\n",
      "ok: 23426\n",
      "bad: ['Calcium dodecylbenzene sulfonate', 'Dinocap', '4-Nonylphenol, branched', 'Zinc pyrithione', 'Diisooctyl adipate', '(Methylcyclopentadienyl)tricarbonylmanganese', 'Benzalkonium chloride', 'Sodium hexafluorosilicate', 'Calcium dodecylbenzene sulfonate', 'Dinocap', '4-Nonylphenol, branched', 'Zinc pyrithione', 'Diisooctyl adipate', '(Methylcyclopentadienyl)tricarbonylmanganese', 'Benzalkonium chloride', 'Sodium hexafluorosilicate', 'Diisopropylbenzene', 'Calcium dodecylbenzene sulfonate', 'Dinocap', 'Carboplatin', 'Cisplatin', '4-Nonylphenol, branched', 'Magnesium, bis(salicylato)-, tetrahydrate', 'Zinc pyrithione', 'Diisooctyl adipate', 'Vitamin B12', '1-Ethyl-1-methylpyrrolidinium tetrafluoroborate', '(Methylcyclopentadienyl)tricarbonylmanganese', '1,2-Benzenedicarboxylic acid, di-C6-8-branched alkyl esters, C7-rich', 'Benzalkonium chloride', 'Sodium hexafluorosilicate', 'Diisopropylbenzene', 'Gentamicin sulfate', 'Calcium dodecylbenzene sulfonate', 'Dinocap', 'Carboplatin', 'Cisplatin', '4-Nonylphenol, branched', 'Hydergine', 'Aurothioglucose', 'Magnesium, bis(salicylato)-, tetrahydrate', 'Ammonium hexafluorosilicate', 'Zinc pyrithione', 'Diisooctyl adipate', 'Vitamin B12', '1-Ethyl-1-methylpyrrolidinium tetrafluoroborate', '(Methylcyclopentadienyl)tricarbonylmanganese', '1,2-Benzenedicarboxylic acid, di-C6-8-branched alkyl esters, C7-rich', 'Benzalkonium chloride', 'Sodium hexafluorosilicate', 'Calcium dodecylbenzene sulfonate', 'Dinocap', '4-Nonylphenol, branched', 'Diisooctyl adipate', 'Benzalkonium chloride']\n",
      "bad count: 55\n"
     ]
    },
    {
     "name": "stderr",
     "output_type": "stream",
     "text": [
      "RDKit ERROR: [18:44:23] SMILES Parse Error: syntax error while parsing: [X]C(C)CCCCCC.[X][N+](=O)[O-].C\\C=C\\C(=O)Oc1ccccc1[N+](=O)[O-]\n",
      "[18:44:23] SMILES Parse Error: syntax error while parsing: [X]C(C)CCCCCC.[X][N+](=O)[O-].C\\C=C\\C(=O)Oc1ccccc1[N+](=O)[O-]\n",
      "RDKit ERROR: [18:44:23] SMILES Parse Error: Failed parsing SMILES '[X]C(C)CCCCCC.[X][N+](=O)[O-].C\\C=C\\C(=O)Oc1ccccc1[N+](=O)[O-]' for input: '[X]C(C)CCCCCC.[X][N+](=O)[O-].C\\C=C\\C(=O)Oc1ccccc1[N+](=O)[O-]'\n",
      "[18:44:23] SMILES Parse Error: Failed parsing SMILES '[X]C(C)CCCCCC.[X][N+](=O)[O-].C\\C=C\\C(=O)Oc1ccccc1[N+](=O)[O-]' for input: '[X]C(C)CCCCCC.[X][N+](=O)[O-].C\\C=C\\C(=O)Oc1ccccc1[N+](=O)[O-]'\n",
      "RDKit ERROR: [18:44:23] SMILES Parse Error: syntax error while parsing: ['Rgp']c1ccc(O)cc1\n",
      "[18:44:23] SMILES Parse Error: syntax error while parsing: ['Rgp']c1ccc(O)cc1\n",
      "RDKit ERROR: [18:44:23] SMILES Parse Error: Failed parsing SMILES '['Rgp']c1ccc(O)cc1' for input: '['Rgp']c1ccc(O)cc1'\n",
      "[18:44:23] SMILES Parse Error: Failed parsing SMILES '['Rgp']c1ccc(O)cc1' for input: '['Rgp']c1ccc(O)cc1'\n",
      "RDKit ERROR: [18:44:23] SMILES Parse Error: syntax error while parsing: [X]C.[X]C.CCCCCCCOC(=O)CCCCC(=O)OCCCCCCC\n",
      "[18:44:23] SMILES Parse Error: syntax error while parsing: [X]C.[X]C.CCCCCCCOC(=O)CCCCC(=O)OCCCCCCC\n",
      "RDKit ERROR: [18:44:23] SMILES Parse Error: Failed parsing SMILES '[X]C.[X]C.CCCCCCCOC(=O)CCCCC(=O)OCCCCCCC' for input: '[X]C.[X]C.CCCCCCCOC(=O)CCCCC(=O)OCCCCCCC'\n",
      "[18:44:23] SMILES Parse Error: Failed parsing SMILES '[X]C.[X]C.CCCCCCCOC(=O)CCCCC(=O)OCCCCCCC' for input: '[X]C.[X]C.CCCCCCCOC(=O)CCCCC(=O)OCCCCCCC'\n",
      "RDKit ERROR: [18:44:24] SMILES Parse Error: syntax error while parsing: [Cl-].['Rgp'][N+](C)(C)Cc1ccccc1\n",
      "[18:44:24] SMILES Parse Error: syntax error while parsing: [Cl-].['Rgp'][N+](C)(C)Cc1ccccc1\n",
      "RDKit ERROR: [18:44:24] SMILES Parse Error: Failed parsing SMILES '[Cl-].['Rgp'][N+](C)(C)Cc1ccccc1' for input: '[Cl-].['Rgp'][N+](C)(C)Cc1ccccc1'\n",
      "[18:44:24] SMILES Parse Error: Failed parsing SMILES '[Cl-].['Rgp'][N+](C)(C)Cc1ccccc1' for input: '[Cl-].['Rgp'][N+](C)(C)Cc1ccccc1'\n",
      "/home/milosevicn/miniconda3/envs/bio/lib/python3.7/site-packages/pandas/core/frame.py:4315: SettingWithCopyWarning: \n",
      "A value is trying to be set on a copy of a slice from a DataFrame\n",
      "\n",
      "See the caveats in the documentation: https://pandas.pydata.org/pandas-docs/stable/user_guide/indexing.html#returning-a-view-versus-a-copy\n",
      "  errors=errors,\n"
     ]
    },
    {
     "name": "stdout",
     "output_type": "stream",
     "text": [
      "start oversample (23426, 2048) (23426, 1)\n",
      "end oversample (63141, 2048, 1) (63141, 1)\n",
      "Epoch 1/25\n",
      "1579/1579 [==============================] - 16s 10ms/step - loss: 1.0822 - accuracy: 0.4055 - val_loss: 1.0130 - val_accuracy: 0.5049\n",
      "Epoch 2/25\n",
      "1579/1579 [==============================] - 15s 10ms/step - loss: 0.9469 - accuracy: 0.5454 - val_loss: 0.7864 - val_accuracy: 0.6432\n",
      "Epoch 3/25\n",
      "1579/1579 [==============================] - 15s 10ms/step - loss: 0.7526 - accuracy: 0.6668 - val_loss: 0.7220 - val_accuracy: 0.6785\n",
      "Epoch 4/25\n",
      "1579/1579 [==============================] - 15s 10ms/step - loss: 0.5702 - accuracy: 0.7562 - val_loss: 0.5612 - val_accuracy: 0.7697\n",
      "Epoch 5/25\n",
      "1579/1579 [==============================] - 15s 10ms/step - loss: 0.4667 - accuracy: 0.8029 - val_loss: 0.4799 - val_accuracy: 0.7997\n",
      "Epoch 6/25\n",
      "1579/1579 [==============================] - 15s 10ms/step - loss: 0.4115 - accuracy: 0.8206 - val_loss: 0.4250 - val_accuracy: 0.8133\n",
      "Epoch 7/25\n",
      "1579/1579 [==============================] - 15s 10ms/step - loss: 0.3775 - accuracy: 0.8357 - val_loss: 0.5110 - val_accuracy: 0.7715\n",
      "Epoch 8/25\n",
      "1579/1579 [==============================] - 15s 10ms/step - loss: 0.3589 - accuracy: 0.8433 - val_loss: 0.4633 - val_accuracy: 0.8156\n",
      "Epoch 9/25\n",
      "1579/1579 [==============================] - 15s 10ms/step - loss: 0.3443 - accuracy: 0.8488 - val_loss: 0.3439 - val_accuracy: 0.8465\n",
      "Epoch 10/25\n",
      "1579/1579 [==============================] - 15s 10ms/step - loss: 0.3289 - accuracy: 0.8545 - val_loss: 0.6519 - val_accuracy: 0.7531\n",
      "Epoch 11/25\n",
      "1579/1579 [==============================] - 15s 10ms/step - loss: 0.3222 - accuracy: 0.8570 - val_loss: 0.3807 - val_accuracy: 0.8362\n",
      "Epoch 12/25\n",
      "1579/1579 [==============================] - 15s 10ms/step - loss: 0.3119 - accuracy: 0.8587 - val_loss: 0.3615 - val_accuracy: 0.8319\n",
      "Epoch 13/25\n",
      "1579/1579 [==============================] - 15s 10ms/step - loss: 0.2934 - accuracy: 0.8680 - val_loss: 0.3503 - val_accuracy: 0.8450\n",
      "Epoch 14/25\n",
      "1579/1579 [==============================] - 15s 10ms/step - loss: 0.2927 - accuracy: 0.8666 - val_loss: 0.3330 - val_accuracy: 0.8514\n",
      "Epoch 15/25\n",
      "1579/1579 [==============================] - 15s 10ms/step - loss: 0.2808 - accuracy: 0.8719 - val_loss: 0.3274 - val_accuracy: 0.8508\n",
      "Epoch 16/25\n",
      "1579/1579 [==============================] - 15s 10ms/step - loss: 0.2781 - accuracy: 0.8754 - val_loss: 0.3163 - val_accuracy: 0.8587\n",
      "Epoch 17/25\n",
      "1579/1579 [==============================] - 15s 10ms/step - loss: 0.2741 - accuracy: 0.8721 - val_loss: 0.3131 - val_accuracy: 0.8630\n",
      "Epoch 18/25\n",
      "1579/1579 [==============================] - 15s 10ms/step - loss: 0.2695 - accuracy: 0.8762 - val_loss: 0.3196 - val_accuracy: 0.8555\n",
      "Epoch 19/25\n",
      "1579/1579 [==============================] - 15s 10ms/step - loss: 0.2694 - accuracy: 0.8781 - val_loss: 0.4187 - val_accuracy: 0.8370\n",
      "Epoch 20/25\n",
      "1579/1579 [==============================] - 15s 10ms/step - loss: 0.2611 - accuracy: 0.8797 - val_loss: 0.3006 - val_accuracy: 0.8643\n",
      "Epoch 21/25\n",
      "1579/1579 [==============================] - 15s 10ms/step - loss: 0.2582 - accuracy: 0.8792 - val_loss: 0.3053 - val_accuracy: 0.8682\n",
      "Epoch 22/25\n",
      "1579/1579 [==============================] - 15s 10ms/step - loss: 0.2599 - accuracy: 0.8800 - val_loss: 0.3308 - val_accuracy: 0.8564\n",
      "Epoch 23/25\n",
      "1579/1579 [==============================] - 15s 10ms/step - loss: 0.2556 - accuracy: 0.8842 - val_loss: 0.2982 - val_accuracy: 0.8681\n",
      "Epoch 24/25\n",
      "1579/1579 [==============================] - 15s 10ms/step - loss: 0.2535 - accuracy: 0.8846 - val_loss: 0.3018 - val_accuracy: 0.8645\n",
      "Epoch 25/25\n",
      "1579/1579 [==============================] - 15s 10ms/step - loss: 0.2463 - accuracy: 0.8853 - val_loss: 0.3243 - val_accuracy: 0.8633\n",
      "0.8819290399551392 0.8682397603988647\n",
      "model saved ke1\n",
      "0.0    7306\n",
      "1.0    1302\n",
      "2.0       3\n",
      "Name: label, dtype: int64\n"
     ]
    },
    {
     "name": "stderr",
     "output_type": "stream",
     "text": [
      "/home/milosevicn/miniconda3/envs/bio/lib/python3.7/site-packages/ipykernel_launcher.py:9: SettingWithCopyWarning: \n",
      "A value is trying to be set on a copy of a slice from a DataFrame.\n",
      "Try using .loc[row_indexer,col_indexer] = value instead\n",
      "\n",
      "See the caveats in the documentation: https://pandas.pydata.org/pandas-docs/stable/user_guide/indexing.html#returning-a-view-versus-a-copy\n",
      "  if __name__ == '__main__':\n",
      "/home/milosevicn/miniconda3/envs/bio/lib/python3.7/site-packages/ipykernel_launcher.py:10: SettingWithCopyWarning: \n",
      "A value is trying to be set on a copy of a slice from a DataFrame.\n",
      "Try using .loc[row_indexer,col_indexer] = value instead\n",
      "\n",
      "See the caveats in the documentation: https://pandas.pydata.org/pandas-docs/stable/user_guide/indexing.html#returning-a-view-versus-a-copy\n",
      "  # Remove the CWD from sys.path while we load stuff.\n",
      "RDKit ERROR: [18:50:47] SMILES Parse Error: syntax error while parsing: [X]C(C)C.CC(C)c1ccccc1\n",
      "[18:50:47] SMILES Parse Error: syntax error while parsing: [X]C(C)C.CC(C)c1ccccc1\n",
      "RDKit ERROR: [18:50:47] SMILES Parse Error: Failed parsing SMILES '[X]C(C)C.CC(C)c1ccccc1' for input: '[X]C(C)C.CC(C)c1ccccc1'\n",
      "[18:50:47] SMILES Parse Error: Failed parsing SMILES '[X]C(C)C.CC(C)c1ccccc1' for input: '[X]C(C)C.CC(C)c1ccccc1'\n",
      "RDKit ERROR: [18:50:47] SMILES Parse Error: syntax error while parsing: ['Rgp']CN.['Rgp']C(C)N.['Rgp']C(C)NC.['Rgp']C1CCC(N)C(OC2C(N)CC(N)C(OC3OCC(C)(O)C(NC)C3O)C2O)O1\n",
      "RDKit ERROR: [18:50:47] SMILES Parse Error: Failed parsing SMILES '['Rgp']CN.['Rgp']C(C)N.['Rgp']C(C)NC.['Rgp']C1CCC(N)C(OC2C(N)CC(N)C(OC3OCC(C)(O)C(NC)C3O)C2O)O1' for input: '['Rgp']CN.['Rgp']C(C)N.['Rgp']C(C)NC.['Rgp']C1CCC(N)C(OC2C(N)CC(N)C(OC3OCC(C)(O)C(NC)C3O)C2O)O1'\n",
      "[18:50:47] SMILES Parse Error: syntax error while parsing: ['Rgp']CN.['Rgp']C(C)N.['Rgp']C(C)NC.['Rgp']C1CCC(N)C(OC2C(N)CC(N)C(OC3OCC(C)(O)C(NC)C3O)C2O)O1\n",
      "[18:50:47] SMILES Parse Error: Failed parsing SMILES '['Rgp']CN.['Rgp']C(C)N.['Rgp']C(C)NC.['Rgp']C1CCC(N)C(OC2C(N)CC(N)C(OC3OCC(C)(O)C(NC)C3O)C2O)O1' for input: '['Rgp']CN.['Rgp']C(C)N.['Rgp']C(C)NC.['Rgp']C1CCC(N)C(OC2C(N)CC(N)C(OC3OCC(C)(O)C(NC)C3O)C2O)O1'\n"
     ]
    },
    {
     "name": "stdout",
     "output_type": "stream",
     "text": [
      "Bad smiles string for Diisopropylbenzene\n",
      "Bad smiles string for Gentamicin sulfate\n"
     ]
    },
    {
     "name": "stderr",
     "output_type": "stream",
     "text": [
      "RDKit ERROR: [18:50:47] SMILES Parse Error: syntax error while parsing: [Ca+2].[X]CCCCCCCCCCCC.[X]CCCCCCCCCCCC.[O-]S(=O)(=O)c1ccccc1.[O-]S(=O)(=O)c2ccccc2\n",
      "[18:50:47] SMILES Parse Error: syntax error while parsing: [Ca+2].[X]CCCCCCCCCCCC.[X]CCCCCCCCCCCC.[O-]S(=O)(=O)c1ccccc1.[O-]S(=O)(=O)c2ccccc2\n",
      "RDKit ERROR: [18:50:47] SMILES Parse Error: Failed parsing SMILES '[Ca+2].[X]CCCCCCCCCCCC.[X]CCCCCCCCCCCC.[O-]S(=O)(=O)c1ccccc1.[O-]S(=O)(=O)c2ccccc2' for input: '[Ca+2].[X]CCCCCCCCCCCC.[X]CCCCCCCCCCCC.[O-]S(=O)(=O)c1ccccc1.[O-]S(=O)(=O)c2ccccc2'\n",
      "[18:50:47] SMILES Parse Error: Failed parsing SMILES '[Ca+2].[X]CCCCCCCCCCCC.[X]CCCCCCCCCCCC.[O-]S(=O)(=O)c1ccccc1.[O-]S(=O)(=O)c2ccccc2' for input: '[Ca+2].[X]CCCCCCCCCCCC.[X]CCCCCCCCCCCC.[O-]S(=O)(=O)c1ccccc1.[O-]S(=O)(=O)c2ccccc2'\n"
     ]
    },
    {
     "name": "stdout",
     "output_type": "stream",
     "text": [
      "Bad smiles string for Calcium dodecylbenzene sulfonate\n"
     ]
    },
    {
     "name": "stderr",
     "output_type": "stream",
     "text": [
      "RDKit ERROR: [18:50:48] SMILES Parse Error: syntax error while parsing: [X]C(C)CCCCCC.[X][N+](=O)[O-].C\\C=C\\C(=O)Oc1ccccc1[N+](=O)[O-]\n",
      "[18:50:48] SMILES Parse Error: syntax error while parsing: [X]C(C)CCCCCC.[X][N+](=O)[O-].C\\C=C\\C(=O)Oc1ccccc1[N+](=O)[O-]\n",
      "RDKit ERROR: [18:50:48] SMILES Parse Error: Failed parsing SMILES '[X]C(C)CCCCCC.[X][N+](=O)[O-].C\\C=C\\C(=O)Oc1ccccc1[N+](=O)[O-]' for input: '[X]C(C)CCCCCC.[X][N+](=O)[O-].C\\C=C\\C(=O)Oc1ccccc1[N+](=O)[O-]'\n",
      "[18:50:48] SMILES Parse Error: Failed parsing SMILES '[X]C(C)CCCCCC.[X][N+](=O)[O-].C\\C=C\\C(=O)Oc1ccccc1[N+](=O)[O-]' for input: '[X]C(C)CCCCCC.[X][N+](=O)[O-].C\\C=C\\C(=O)Oc1ccccc1[N+](=O)[O-]'\n",
      "RDKit ERROR: [18:50:48] Explicit valence for atom # 0 N, 4, is greater than permitted\n",
      "[18:50:48] Explicit valence for atom # 0 N, 4, is greater than permitted\n",
      "RDKit ERROR: [18:50:48] Explicit valence for atom # 0 N, 4, is greater than permitted\n",
      "[18:50:48] Explicit valence for atom # 0 N, 4, is greater than permitted\n"
     ]
    },
    {
     "name": "stdout",
     "output_type": "stream",
     "text": [
      "Bad smiles string for Dinocap\n",
      "Bad smiles string for Carboplatin\n",
      "Bad smiles string for Cisplatin\n"
     ]
    },
    {
     "name": "stderr",
     "output_type": "stream",
     "text": [
      "RDKit ERROR: [18:50:48] SMILES Parse Error: syntax error while parsing: ['Rgp']c1ccc(O)cc1\n",
      "[18:50:48] SMILES Parse Error: syntax error while parsing: ['Rgp']c1ccc(O)cc1\n",
      "RDKit ERROR: [18:50:48] SMILES Parse Error: Failed parsing SMILES '['Rgp']c1ccc(O)cc1' for input: '['Rgp']c1ccc(O)cc1'\n",
      "RDKit ERROR: [18:50:48] SMILES Parse Error: syntax error while parsing: ['Rgp'][C@@H]1N2C(=O)[C@](NC(=O)[C@@H]3C[C@H]4[C@@H](Cc5c[nH]c6cccc4c56)N(C)C3)(O[C@@]2(O)[C@@H]7CCCN7C1=O)C(C)C.CS(=O)(=O)O\n",
      "RDKit ERROR: [18:50:48] SMILES Parse Error: Failed parsing SMILES '['Rgp'][C@@H]1N2C(=O)[C@](NC(=O)[C@@H]3C[C@H]4[C@@H](Cc5c[nH]c6cccc4c56)N(C)C3)(O[C@@]2(O)[C@@H]7CCCN7C1=O)C(C)C.CS(=O)(=O)O' for input: '['Rgp'][C@@H]1N2C(=O)[C@](NC(=O)[C@@H]3C[C@H]4[C@@H](Cc5c[nH]c6cccc4c56)N(C)C3)(O[C@@]2(O)[C@@H]7CCCN7C1=O)C(C)C.CS(=O)(=O)O'\n",
      "[18:50:48] SMILES Parse Error: Failed parsing SMILES '['Rgp']c1ccc(O)cc1' for input: '['Rgp']c1ccc(O)cc1'\n",
      "[18:50:48] SMILES Parse Error: syntax error while parsing: ['Rgp'][C@@H]1N2C(=O)[C@](NC(=O)[C@@H]3C[C@H]4[C@@H](Cc5c[nH]c6cccc4c56)N(C)C3)(O[C@@]2(O)[C@@H]7CCCN7C1=O)C(C)C.CS(=O)(=O)O\n",
      "[18:50:48] SMILES Parse Error: Failed parsing SMILES '['Rgp'][C@@H]1N2C(=O)[C@](NC(=O)[C@@H]3C[C@H]4[C@@H](Cc5c[nH]c6cccc4c56)N(C)C3)(O[C@@]2(O)[C@@H]7CCCN7C1=O)C(C)C.CS(=O)(=O)O' for input: '['Rgp'][C@@H]1N2C(=O)[C@](NC(=O)[C@@H]3C[C@H]4[C@@H](Cc5c[nH]c6cccc4c56)N(C)C3)(O[C@@]2(O)[C@@H]7CCCN7C1=O)C(C)C.CS(=O)(=O)O'\n",
      "RDKit ERROR: [18:50:48] Explicit valence for atom # 0 O, 3, is greater than permitted\n",
      "[18:50:48] Explicit valence for atom # 0 O, 3, is greater than permitted\n",
      "RDKit WARNING: [18:50:48] WARNING: not removing hydrogen atom without neighbors\n",
      "[18:50:48] WARNING: not removing hydrogen atom without neighbors\n",
      "RDKit WARNING: [18:50:48] WARNING: not removing hydrogen atom without neighbors\n",
      "[18:50:48] WARNING: not removing hydrogen atom without neighbors\n"
     ]
    },
    {
     "name": "stdout",
     "output_type": "stream",
     "text": [
      "Bad smiles string for 4-Nonylphenol, branched\n",
      "Bad smiles string for Hydergine\n",
      "Bad smiles string for Aurothioglucose\n"
     ]
    },
    {
     "name": "stderr",
     "output_type": "stream",
     "text": [
      "RDKit ERROR: [18:50:49] Explicit valence for atom # 7 Mg, 6, is greater than permitted\n",
      "[18:50:49] Explicit valence for atom # 7 Mg, 6, is greater than permitted\n",
      "RDKit ERROR: [18:50:49] Explicit valence for atom # 3 Si, 8, is greater than permitted\n",
      "[18:50:49] Explicit valence for atom # 3 Si, 8, is greater than permitted\n",
      "RDKit ERROR: [18:50:49] Explicit valence for atom # 0 O, 3, is greater than permitted\n",
      "[18:50:49] Explicit valence for atom # 0 O, 3, is greater than permitted\n",
      "RDKit ERROR: [18:50:49] SMILES Parse Error: syntax error while parsing: [X]C.[X]C.CCCCCCCOC(=O)CCCCC(=O)OCCCCCCC\n",
      "[18:50:49] SMILES Parse Error: syntax error while parsing: [X]C.[X]C.CCCCCCCOC(=O)CCCCC(=O)OCCCCCCC\n",
      "RDKit ERROR: [18:50:49] SMILES Parse Error: Failed parsing SMILES '[X]C.[X]C.CCCCCCCOC(=O)CCCCC(=O)OCCCCCCC' for input: '[X]C.[X]C.CCCCCCCOC(=O)CCCCC(=O)OCCCCCCC'\n",
      "[18:50:49] SMILES Parse Error: Failed parsing SMILES '[X]C.[X]C.CCCCCCCOC(=O)CCCCC(=O)OCCCCCCC' for input: '[X]C.[X]C.CCCCCCCOC(=O)CCCCC(=O)OCCCCCCC'\n",
      "RDKit ERROR: [18:50:49] Explicit valence for atom # 1 C, 5, is greater than permitted\n",
      "[18:50:49] Explicit valence for atom # 1 C, 5, is greater than permitted\n"
     ]
    },
    {
     "name": "stdout",
     "output_type": "stream",
     "text": [
      "Bad smiles string for Magnesium, bis(salicylato)-, tetrahydrate\n",
      "Bad smiles string for Ammonium hexafluorosilicate\n",
      "Bad smiles string for Zinc pyrithione\n",
      "Bad smiles string for Diisooctyl adipate\n",
      "Bad smiles string for Vitamin B12\n"
     ]
    },
    {
     "name": "stderr",
     "output_type": "stream",
     "text": [
      "RDKit WARNING: [18:50:49] WARNING: not removing hydrogen atom without neighbors\n",
      "[18:50:49] WARNING: not removing hydrogen atom without neighbors\n",
      "RDKit ERROR: [18:50:49] Explicit valence for atom # 0 F, 2, is greater than permitted\n",
      "[18:50:49] Explicit valence for atom # 0 F, 2, is greater than permitted\n"
     ]
    },
    {
     "name": "stdout",
     "output_type": "stream",
     "text": [
      "Bad smiles string for 1-Ethyl-1-methylpyrrolidinium tetrafluoroborate\n",
      "Bad smiles string for (Methylcyclopentadienyl)tricarbonylmanganese\n",
      "Bad smiles string for 1,2-Benzenedicarboxylic acid, di-C6-8-branched alkyl esters, C7-rich\n",
      "Bad smiles string for Benzalkonium chloride\n",
      "Bad smiles string for Sodium hexafluorosilicate\n"
     ]
    },
    {
     "name": "stderr",
     "output_type": "stream",
     "text": [
      "RDKit ERROR: [18:50:49] Explicit valence for atom # 4 C, 5, is greater than permitted\n",
      "[18:50:49] Explicit valence for atom # 4 C, 5, is greater than permitted\n",
      "RDKit ERROR: [18:50:49] SMILES Parse Error: syntax error while parsing: [*]C.[*]C.[*]CC.[*]CC.['Rgp']CCCCCOC(=O)c1ccccc1C(=O)OCCCCC['Rgp']\n",
      "RDKit ERROR: [18:50:49] SMILES Parse Error: Failed parsing SMILES '[*]C.[*]C.[*]CC.[*]CC.['Rgp']CCCCCOC(=O)c1ccccc1C(=O)OCCCCC['Rgp']' for input: '[*]C.[*]C.[*]CC.[*]CC.['Rgp']CCCCCOC(=O)c1ccccc1C(=O)OCCCCC['Rgp']'\n",
      "RDKit ERROR: [18:50:49] SMILES Parse Error: syntax error while parsing: [Cl-].['Rgp'][N+](C)(C)Cc1ccccc1\n",
      "[18:50:49] SMILES Parse Error: syntax error while parsing: [*]C.[*]C.[*]CC.[*]CC.['Rgp']CCCCCOC(=O)c1ccccc1C(=O)OCCCCC['Rgp']\n",
      "RDKit ERROR: [18:50:49] SMILES Parse Error: Failed parsing SMILES '[Cl-].['Rgp'][N+](C)(C)Cc1ccccc1' for input: '[Cl-].['Rgp'][N+](C)(C)Cc1ccccc1'\n",
      "RDKit ERROR: [18:50:49] Explicit valence for atom # 3 Si, 8, is greater than permitted\n",
      "[18:50:49] SMILES Parse Error: Failed parsing SMILES '[*]C.[*]C.[*]CC.[*]CC.['Rgp']CCCCCOC(=O)c1ccccc1C(=O)OCCCCC['Rgp']' for input: '[*]C.[*]C.[*]CC.[*]CC.['Rgp']CCCCCOC(=O)c1ccccc1C(=O)OCCCCC['Rgp']'\n",
      "[18:50:49] SMILES Parse Error: syntax error while parsing: [Cl-].['Rgp'][N+](C)(C)Cc1ccccc1\n",
      "[18:50:49] SMILES Parse Error: Failed parsing SMILES '[Cl-].['Rgp'][N+](C)(C)Cc1ccccc1' for input: '[Cl-].['Rgp'][N+](C)(C)Cc1ccccc1'\n",
      "[18:50:49] Explicit valence for atom # 3 Si, 8, is greater than permitted\n",
      "/home/milosevicn/miniconda3/envs/bio/lib/python3.7/site-packages/pandas/core/frame.py:4315: SettingWithCopyWarning: \n",
      "A value is trying to be set on a copy of a slice from a DataFrame\n",
      "\n",
      "See the caveats in the documentation: https://pandas.pydata.org/pandas-docs/stable/user_guide/indexing.html#returning-a-view-versus-a-copy\n",
      "  errors=errors,\n"
     ]
    },
    {
     "name": "stdout",
     "output_type": "stream",
     "text": [
      "ok: 8592\n",
      "bad: ['Diisopropylbenzene', 'Gentamicin sulfate', 'Calcium dodecylbenzene sulfonate', 'Dinocap', 'Carboplatin', 'Cisplatin', '4-Nonylphenol, branched', 'Hydergine', 'Aurothioglucose', 'Magnesium, bis(salicylato)-, tetrahydrate', 'Ammonium hexafluorosilicate', 'Zinc pyrithione', 'Diisooctyl adipate', 'Vitamin B12', '1-Ethyl-1-methylpyrrolidinium tetrafluoroborate', '(Methylcyclopentadienyl)tricarbonylmanganese', '1,2-Benzenedicarboxylic acid, di-C6-8-branched alkyl esters, C7-rich', 'Benzalkonium chloride', 'Sodium hexafluorosilicate']\n",
      "bad count: 19\n",
      "start oversample (8592, 2048) (8592, 1)\n",
      "end oversample (21873, 2048, 1) (21873, 1)\n",
      "Epoch 1/25\n",
      "547/547 [==============================] - 6s 10ms/step - loss: 0.8563 - accuracy: 0.6474 - val_loss: 0.4225 - val_accuracy: 0.7755\n",
      "Epoch 2/25\n",
      "547/547 [==============================] - 5s 10ms/step - loss: 0.4319 - accuracy: 0.7643 - val_loss: 0.4143 - val_accuracy: 0.7739\n",
      "Epoch 3/25\n",
      "547/547 [==============================] - 5s 10ms/step - loss: 0.4058 - accuracy: 0.7888 - val_loss: 0.3668 - val_accuracy: 0.8222\n",
      "Epoch 4/25\n",
      "547/547 [==============================] - 5s 10ms/step - loss: 0.3642 - accuracy: 0.8202 - val_loss: 0.3458 - val_accuracy: 0.8327\n",
      "Epoch 5/25\n",
      "547/547 [==============================] - 5s 10ms/step - loss: 0.3307 - accuracy: 0.8463 - val_loss: 0.3532 - val_accuracy: 0.8215\n",
      "Epoch 6/25\n",
      "547/547 [==============================] - 5s 10ms/step - loss: 0.2801 - accuracy: 0.8792 - val_loss: 0.3187 - val_accuracy: 0.8485\n",
      "Epoch 7/25\n",
      "547/547 [==============================] - 5s 10ms/step - loss: 0.2346 - accuracy: 0.9042 - val_loss: 0.2517 - val_accuracy: 0.8926\n",
      "Epoch 8/25\n",
      "547/547 [==============================] - 5s 10ms/step - loss: 0.1978 - accuracy: 0.9220 - val_loss: 0.2067 - val_accuracy: 0.9248\n",
      "Epoch 9/25\n",
      "547/547 [==============================] - 5s 10ms/step - loss: 0.1605 - accuracy: 0.9404 - val_loss: 0.1869 - val_accuracy: 0.9312\n",
      "Epoch 10/25\n",
      "547/547 [==============================] - 5s 10ms/step - loss: 0.1301 - accuracy: 0.9525 - val_loss: 0.1832 - val_accuracy: 0.9326\n",
      "Epoch 11/25\n",
      "547/547 [==============================] - 5s 10ms/step - loss: 0.1148 - accuracy: 0.9609 - val_loss: 0.1812 - val_accuracy: 0.9339\n",
      "Epoch 12/25\n",
      "547/547 [==============================] - 5s 10ms/step - loss: 0.1049 - accuracy: 0.9645 - val_loss: 0.3075 - val_accuracy: 0.8923\n",
      "Epoch 13/25\n",
      "547/547 [==============================] - 5s 10ms/step - loss: 0.0954 - accuracy: 0.9671 - val_loss: 0.1881 - val_accuracy: 0.9335\n",
      "Epoch 14/25\n",
      "547/547 [==============================] - 5s 10ms/step - loss: 0.0777 - accuracy: 0.9737 - val_loss: 0.1739 - val_accuracy: 0.9422\n",
      "Epoch 15/25\n",
      "547/547 [==============================] - 5s 10ms/step - loss: 0.0778 - accuracy: 0.9744 - val_loss: 0.1550 - val_accuracy: 0.9440\n",
      "Epoch 16/25\n",
      "547/547 [==============================] - 5s 10ms/step - loss: 0.0736 - accuracy: 0.9764 - val_loss: 0.1742 - val_accuracy: 0.9417\n",
      "Epoch 17/25\n",
      "547/547 [==============================] - 5s 10ms/step - loss: 0.0704 - accuracy: 0.9764 - val_loss: 0.1990 - val_accuracy: 0.9362\n",
      "Epoch 18/25\n",
      "547/547 [==============================] - 5s 10ms/step - loss: 0.0599 - accuracy: 0.9791 - val_loss: 0.1815 - val_accuracy: 0.9435\n",
      "Epoch 19/25\n",
      "547/547 [==============================] - 5s 10ms/step - loss: 0.0605 - accuracy: 0.9811 - val_loss: 0.1761 - val_accuracy: 0.9417\n",
      "Epoch 20/25\n",
      "547/547 [==============================] - 5s 10ms/step - loss: 0.0535 - accuracy: 0.9830 - val_loss: 0.1629 - val_accuracy: 0.9490\n",
      "Epoch 21/25\n",
      "547/547 [==============================] - 5s 10ms/step - loss: 0.0568 - accuracy: 0.9822 - val_loss: 0.1502 - val_accuracy: 0.9536\n",
      "Epoch 22/25\n",
      "547/547 [==============================] - 5s 10ms/step - loss: 0.0513 - accuracy: 0.9855 - val_loss: 0.1665 - val_accuracy: 0.9470\n",
      "Epoch 23/25\n",
      "547/547 [==============================] - 5s 10ms/step - loss: 0.0490 - accuracy: 0.9849 - val_loss: 0.2041 - val_accuracy: 0.9369\n",
      "Epoch 24/25\n",
      "547/547 [==============================] - 5s 10ms/step - loss: 0.0450 - accuracy: 0.9861 - val_loss: 0.1902 - val_accuracy: 0.9424\n",
      "Epoch 25/25\n",
      "547/547 [==============================] - 5s 10ms/step - loss: 0.0469 - accuracy: 0.9853 - val_loss: 0.2024 - val_accuracy: 0.9410\n",
      "0.9838266968727112 0.9535999894142151\n",
      "model saved ke2\n",
      "0.0    2382\n",
      "2.0     136\n",
      "1.0     106\n",
      "Name: label, dtype: int64\n",
      "Bad smiles string for Benzalkonium chloride\n"
     ]
    },
    {
     "name": "stderr",
     "output_type": "stream",
     "text": [
      "/home/milosevicn/miniconda3/envs/bio/lib/python3.7/site-packages/ipykernel_launcher.py:9: SettingWithCopyWarning: \n",
      "A value is trying to be set on a copy of a slice from a DataFrame.\n",
      "Try using .loc[row_indexer,col_indexer] = value instead\n",
      "\n",
      "See the caveats in the documentation: https://pandas.pydata.org/pandas-docs/stable/user_guide/indexing.html#returning-a-view-versus-a-copy\n",
      "  if __name__ == '__main__':\n",
      "/home/milosevicn/miniconda3/envs/bio/lib/python3.7/site-packages/ipykernel_launcher.py:10: SettingWithCopyWarning: \n",
      "A value is trying to be set on a copy of a slice from a DataFrame.\n",
      "Try using .loc[row_indexer,col_indexer] = value instead\n",
      "\n",
      "See the caveats in the documentation: https://pandas.pydata.org/pandas-docs/stable/user_guide/indexing.html#returning-a-view-versus-a-copy\n",
      "  # Remove the CWD from sys.path while we load stuff.\n",
      "RDKit ERROR: [18:53:04] SMILES Parse Error: syntax error while parsing: [Cl-].['Rgp'][N+](C)(C)Cc1ccccc1\n",
      "[18:53:04] SMILES Parse Error: syntax error while parsing: [Cl-].['Rgp'][N+](C)(C)Cc1ccccc1\n",
      "RDKit ERROR: [18:53:04] SMILES Parse Error: Failed parsing SMILES '[Cl-].['Rgp'][N+](C)(C)Cc1ccccc1' for input: '[Cl-].['Rgp'][N+](C)(C)Cc1ccccc1'\n",
      "[18:53:04] SMILES Parse Error: Failed parsing SMILES '[Cl-].['Rgp'][N+](C)(C)Cc1ccccc1' for input: '[Cl-].['Rgp'][N+](C)(C)Cc1ccccc1'\n",
      "RDKit ERROR: [18:53:04] SMILES Parse Error: syntax error while parsing: [Cl-].['Rgp'][N+](C)(C)Cc1ccccc1\n",
      "[18:53:04] SMILES Parse Error: syntax error while parsing: [Cl-].['Rgp'][N+](C)(C)Cc1ccccc1\n",
      "RDKit ERROR: [18:53:04] SMILES Parse Error: Failed parsing SMILES '[Cl-].['Rgp'][N+](C)(C)Cc1ccccc1' for input: '[Cl-].['Rgp'][N+](C)(C)Cc1ccccc1'\n",
      "[18:53:04] SMILES Parse Error: Failed parsing SMILES '[Cl-].['Rgp'][N+](C)(C)Cc1ccccc1' for input: '[Cl-].['Rgp'][N+](C)(C)Cc1ccccc1'\n",
      "RDKit ERROR: [18:53:04] SMILES Parse Error: syntax error while parsing: [Cl-].['Rgp'][N+](C)(C)Cc1ccccc1\n",
      "[18:53:04] SMILES Parse Error: syntax error while parsing: [Cl-].['Rgp'][N+](C)(C)Cc1ccccc1\n",
      "RDKit ERROR: [18:53:04] SMILES Parse Error: Failed parsing SMILES '[Cl-].['Rgp'][N+](C)(C)Cc1ccccc1' for input: '[Cl-].['Rgp'][N+](C)(C)Cc1ccccc1'\n",
      "[18:53:04] SMILES Parse Error: Failed parsing SMILES '[Cl-].['Rgp'][N+](C)(C)Cc1ccccc1' for input: '[Cl-].['Rgp'][N+](C)(C)Cc1ccccc1'\n"
     ]
    },
    {
     "name": "stdout",
     "output_type": "stream",
     "text": [
      "Bad smiles string for Benzalkonium chloride\n",
      "Bad smiles string for Benzalkonium chloride\n"
     ]
    },
    {
     "name": "stderr",
     "output_type": "stream",
     "text": [
      "RDKit ERROR: [18:53:05] SMILES Parse Error: syntax error while parsing: [Cl-].['Rgp'][N+](C)(C)Cc1ccccc1\n",
      "[18:53:05] SMILES Parse Error: syntax error while parsing: [Cl-].['Rgp'][N+](C)(C)Cc1ccccc1\n",
      "RDKit ERROR: [18:53:05] SMILES Parse Error: Failed parsing SMILES '[Cl-].['Rgp'][N+](C)(C)Cc1ccccc1' for input: '[Cl-].['Rgp'][N+](C)(C)Cc1ccccc1'\n",
      "[18:53:05] SMILES Parse Error: Failed parsing SMILES '[Cl-].['Rgp'][N+](C)(C)Cc1ccccc1' for input: '[Cl-].['Rgp'][N+](C)(C)Cc1ccccc1'\n",
      "/home/milosevicn/miniconda3/envs/bio/lib/python3.7/site-packages/pandas/core/frame.py:4315: SettingWithCopyWarning: \n",
      "A value is trying to be set on a copy of a slice from a DataFrame\n",
      "\n",
      "See the caveats in the documentation: https://pandas.pydata.org/pandas-docs/stable/user_guide/indexing.html#returning-a-view-versus-a-copy\n",
      "  errors=errors,\n"
     ]
    },
    {
     "name": "stdout",
     "output_type": "stream",
     "text": [
      "Bad smiles string for Benzalkonium chloride\n",
      "ok: 2620\n",
      "bad: ['Benzalkonium chloride', 'Benzalkonium chloride', 'Benzalkonium chloride', 'Benzalkonium chloride']\n",
      "bad count: 4\n",
      "start oversample (2620, 2048) (2620, 1)\n",
      "end oversample (7134, 2048, 1) (7134, 1)\n",
      "Epoch 1/25\n",
      "179/179 [==============================] - 2s 10ms/step - loss: 1.0959 - accuracy: 0.3766 - val_loss: 1.0825 - val_accuracy: 0.4485\n",
      "Epoch 2/25\n",
      "179/179 [==============================] - 2s 10ms/step - loss: 1.0598 - accuracy: 0.5746 - val_loss: 0.9256 - val_accuracy: 0.6251\n",
      "Epoch 3/25\n",
      "179/179 [==============================] - 2s 10ms/step - loss: 0.8643 - accuracy: 0.6394 - val_loss: 0.7362 - val_accuracy: 0.6819\n",
      "Epoch 4/25\n",
      "179/179 [==============================] - 2s 10ms/step - loss: 0.6433 - accuracy: 0.7495 - val_loss: 0.5756 - val_accuracy: 0.7624\n",
      "Epoch 5/25\n",
      "179/179 [==============================] - 2s 10ms/step - loss: 0.5241 - accuracy: 0.7970 - val_loss: 0.4033 - val_accuracy: 0.8556\n",
      "Epoch 6/25\n",
      "179/179 [==============================] - 2s 10ms/step - loss: 0.3916 - accuracy: 0.8640 - val_loss: 0.3147 - val_accuracy: 0.9075\n",
      "Epoch 7/25\n",
      "179/179 [==============================] - 2s 10ms/step - loss: 0.3151 - accuracy: 0.8982 - val_loss: 0.3653 - val_accuracy: 0.8907\n",
      "Epoch 8/25\n",
      "179/179 [==============================] - 2s 10ms/step - loss: 0.2745 - accuracy: 0.9129 - val_loss: 0.4759 - val_accuracy: 0.8500\n",
      "Epoch 9/25\n",
      "179/179 [==============================] - 2s 10ms/step - loss: 0.2473 - accuracy: 0.9229 - val_loss: 0.3249 - val_accuracy: 0.9082\n",
      "Epoch 10/25\n",
      "179/179 [==============================] - 2s 10ms/step - loss: 0.2274 - accuracy: 0.9297 - val_loss: 0.3002 - val_accuracy: 0.9096\n",
      "Epoch 11/25\n",
      "179/179 [==============================] - 2s 10ms/step - loss: 0.2122 - accuracy: 0.9383 - val_loss: 0.3693 - val_accuracy: 0.8963\n",
      "Epoch 12/25\n",
      "179/179 [==============================] - 2s 10ms/step - loss: 0.2126 - accuracy: 0.9410 - val_loss: 0.2441 - val_accuracy: 0.9285\n",
      "Epoch 13/25\n",
      "179/179 [==============================] - 2s 10ms/step - loss: 0.2060 - accuracy: 0.9419 - val_loss: 0.2125 - val_accuracy: 0.9425\n",
      "Epoch 14/25\n",
      "179/179 [==============================] - 2s 10ms/step - loss: 0.1857 - accuracy: 0.9487 - val_loss: 0.2117 - val_accuracy: 0.9432\n",
      "Epoch 15/25\n",
      "179/179 [==============================] - 2s 10ms/step - loss: 0.1858 - accuracy: 0.9458 - val_loss: 0.2138 - val_accuracy: 0.9404\n",
      "Epoch 16/25\n",
      "179/179 [==============================] - 2s 10ms/step - loss: 0.1741 - accuracy: 0.9500 - val_loss: 0.2271 - val_accuracy: 0.9278\n",
      "Epoch 17/25\n",
      "179/179 [==============================] - 2s 10ms/step - loss: 0.1706 - accuracy: 0.9501 - val_loss: 0.2014 - val_accuracy: 0.9460\n",
      "Epoch 18/25\n",
      "179/179 [==============================] - 2s 10ms/step - loss: 0.1700 - accuracy: 0.9504 - val_loss: 0.1977 - val_accuracy: 0.9418\n",
      "Epoch 19/25\n",
      "179/179 [==============================] - 2s 10ms/step - loss: 0.1815 - accuracy: 0.9457 - val_loss: 0.2395 - val_accuracy: 0.9124\n",
      "Epoch 20/25\n",
      "179/179 [==============================] - 2s 10ms/step - loss: 0.1866 - accuracy: 0.9455 - val_loss: 0.2062 - val_accuracy: 0.9376\n",
      "Epoch 21/25\n",
      "179/179 [==============================] - 2s 10ms/step - loss: 0.1761 - accuracy: 0.9500 - val_loss: 0.2065 - val_accuracy: 0.9467\n",
      "Epoch 22/25\n",
      "179/179 [==============================] - 2s 10ms/step - loss: 0.1755 - accuracy: 0.9484 - val_loss: 0.3016 - val_accuracy: 0.8837\n",
      "Epoch 23/25\n",
      "179/179 [==============================] - 2s 10ms/step - loss: 0.1706 - accuracy: 0.9492 - val_loss: 0.2088 - val_accuracy: 0.9453\n",
      "Epoch 24/25\n",
      "179/179 [==============================] - 2s 10ms/step - loss: 0.1711 - accuracy: 0.9523 - val_loss: 0.2101 - val_accuracy: 0.9446\n",
      "Epoch 25/25\n",
      "179/179 [==============================] - 2s 10ms/step - loss: 0.1717 - accuracy: 0.9454 - val_loss: 0.1916 - val_accuracy: 0.9390\n",
      "0.9505869746208191 0.9467414021492004\n",
      "model saved ke3\n"
     ]
    },
    {
     "data": {
      "image/png": "[encoded data removed]",
      "text/plain": [
       "<Figure size 432x288 with 1 Axes>"
      ]
     },
     "metadata": {
      "needs_background": "light"
     },
     "output_type": "display_data"
    },
    {
     "data": {
      "image/png": "[encoded data removed]",
      "text/plain": [
       "<Figure size 432x288 with 1 Axes>"
      ]
     },
     "metadata": {
      "needs_background": "light"
     },
     "output_type": "display_data"
    },
    {
     "data": {
      "image/png": "[encoded data removed]",
      "text/plain": [
       "<Figure size 432x288 with 1 Axes>"
      ]
     },
     "metadata": {
      "needs_background": "light"
     },
     "output_type": "display_data"
    }
   ],
   "source": [
    "plt_count = 1\n",
    "for assay, name in zip([pd.concat(dfs[0:5]), pd.concat(dfs[5:9]), pd.concat(dfs[9:17])],\n",
    "                       [\"ke1\", \"ke2\", \"ke3\"]):\n",
    "\n",
    "    assay[\"label\"] = assay.sum(axis=1)\n",
    "\n",
    "    assay = assay[[\"label\"]]\n",
    "        \n",
    "    assay[\"label\"] = np.where(assay[\"label\"] == 1, 2, assay[\"label\"]) # up\n",
    "    assay[\"label\"] = np.where(assay[\"label\"] == -1, 1, assay[\"label\"]) # dn\n",
    "    \n",
    "    print(assay[\"label\"].value_counts())\n",
    "\n",
    "    fingerprints = list()\n",
    "    bad_smiles = []\n",
    "\n",
    "    def get_fingerprint(row):\n",
    "        try:\n",
    "            sm = smiles.loc[row.name]\n",
    "            mol = Chem.MolFromSmiles(sm.smiles)\n",
    "            fp = AllChem.GetMorganFingerprintAsBitVect(mol, 2) #, nBits=1024) # TODO: can replace morgan with other fingerprint!\n",
    "            arr = np.zeros((1,))\n",
    "            DataStructs.ConvertToNumpyArray(fp, arr)\n",
    "            fingerprints.append(arr)\n",
    "        except Exception as e:\n",
    "            # print(e)\n",
    "            print(\"Bad smiles string for\", row.name)\n",
    "            bad_smiles.append(row.name)\n",
    "\n",
    "    assay.apply(lambda x: get_fingerprint(x), axis=1)\n",
    "\n",
    "    print(\"ok:\", len(fingerprints))\n",
    "    print(\"bad:\", bad_smiles)\n",
    "    print(\"bad count:\", len(bad_smiles))\n",
    "\n",
    "    assay.drop(bad_smiles, inplace=True)\n",
    "\n",
    "    inputs = np.array(fingerprints)\n",
    "    X = inputs.reshape(-1, 2048)\n",
    "    y = assay.values\n",
    "\n",
    "    print(\"start oversample\", X.shape, y.shape)\n",
    "    \n",
    "    with parallel_backend('threading', n_jobs=12):\n",
    "        oversample = imblearn.over_sampling.SMOTE(k_neighbors=2)\n",
    "        X, y = oversample.fit_resample(X, y)\n",
    "    \n",
    "    X = X.reshape(-1, 2048, 1)\n",
    "    y = y.reshape(-1, 1)\n",
    "\n",
    "    print(\"end oversample\", X.shape, y.shape)\n",
    "    \n",
    "    \n",
    "    X_train, X_test, y_train, y_test = train_test_split(X, y, test_size=0.2, random_state=42)\n",
    "\n",
    "    model = Sequential()\n",
    "    model.add(Conv1D(32, 16, activation='relu', input_shape=(2048, 1)))\n",
    "    model.add(MaxPool1D())\n",
    "    model.add(Conv1D(64, 32, activation='relu'))\n",
    "    model.add(MaxPool1D())\n",
    "    model.add(Conv1D(128, 16, activation='relu'))\n",
    "    model.add(Flatten())\n",
    "    model.add(Dense(units=1024, activation='relu'))\n",
    "    model.add(Dropout(0.2))\n",
    "    model.add(Dense(units=512, activation='relu'))\n",
    "    model.add(Dense(units=3, activation='relu'))\n",
    "\n",
    "    model.compile(loss=tf.keras.losses.SparseCategoricalCrossentropy(from_logits=True), metrics=['accuracy'],\n",
    "                  optimizer=tf.keras.optimizers.SGD(learning_rate=0.01))\n",
    "\n",
    "    history = model.fit(\n",
    "        X_train, y_train, epochs=25, verbose=1, validation_data=(X_test, y_test),\n",
    "    )\n",
    "\n",
    "    plt.figure(plt_count)\n",
    "    plt_count += 1\n",
    "    \n",
    "    plt.plot(history.history[\"accuracy\"], label='accuracy')\n",
    "    plt.plot(history.history[\"val_accuracy\"], label='val_accuracy')\n",
    "    plt.plot(history.history[\"loss\"], label='loss')\n",
    "\n",
    "    plt.xlabel('Epoch')\n",
    "    plt.ylabel('Accuracy')\n",
    "    plt.ylim([0.0, 1])\n",
    "    plt.legend(loc='lower right')\n",
    "\n",
    "    vacc = max(history.history[\"val_accuracy\"])\n",
    "    acc = max(history.history[\"accuracy\"])\n",
    "\n",
    "    print(acc, vacc)\n",
    "\n",
    "    model.save(f\"models/skeec/nn_{name}.h5\")\n",
    "    pickle.dump(history.history, open(f\"models/skeec/nn_{name}_history.pkl\", \"wb\"))\n",
    "    plt.savefig(f\"models/skeec/train_{name}_{acc}_{vacc}.png\")\n",
    "    print(\"model saved\", name)\n"
   ]
  },
  {
   "cell_type": "code",
   "execution_count": null,
   "id": "ef250122-0937-4ba7-bc5d-f22b66b1d489",
   "metadata": {},
   "outputs": [],
   "source": []
  }
 ],
 "metadata": {
  "kernelspec": {
   "display_name": "Python 3 (ipykernel)",
   "language": "python",
   "name": "python3"
  },
  "language_info": {
   "codemirror_mode": {
    "name": "ipython",
    "version": 3
   },
   "file_extension": ".py",
   "mimetype": "text/x-python",
   "name": "python",
   "nbconvert_exporter": "python",
   "pygments_lexer": "ipython3",
   "version": "3.7.11"
  }
 },
 "nbformat": 4,
 "nbformat_minor": 5
}
